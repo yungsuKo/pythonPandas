{
 "cells": [
  {
   "cell_type": "markdown",
   "id": "1036eb02",
   "metadata": {},
   "source": [
    "https://wikidocs.net/book/922\n",
    "\n",
    "초보자를 위한 파이썬 300제\n"
   ]
  },
  {
   "cell_type": "markdown",
   "id": "907ccb77",
   "metadata": {},
   "source": [
    "# print 문 기초\n",
    "\n"
   ]
  },
  {
   "cell_type": "code",
   "execution_count": 11,
   "id": "afb0a967",
   "metadata": {},
   "outputs": [
    {
     "name": "stdout",
     "output_type": "stream",
     "text": [
      "Hello world\n",
      "Mary's Cosmetic\n",
      "신씨가 소리질렀다. \"도둑이야\"\n",
      "\"C:/Windows\"\n",
      "안녕하세요.\n",
      "만나서\t\t반갑습니다.\n",
      "오늘은 일요일\n",
      "naver;kakao;sk;samsung\n",
      "first second\n",
      "1.6666666666666667\n"
     ]
    }
   ],
   "source": [
    "print('Hello world')\n",
    "print(\"Mary's Cosmetic\")\n",
    "print('신씨가 소리질렀다. \"도둑이야\"')\n",
    "print('\"C:/Windows\"')\n",
    "\n",
    "print(\"안녕하세요.\\n만나서\\t\\t반갑습니다.\")\n",
    "# \\n은 행변환, \\t는 탭\n",
    "print(\"오늘은\",\"일요일\")\n",
    "\n",
    "print(\"naver;kakao;sk;samsung\")\n",
    "print(\"first\",end = \" \");print(\"second\")\n",
    "\n",
    "print(5/3)\n"
   ]
  },
  {
   "cell_type": "markdown",
   "id": "d5e1db9d",
   "metadata": {},
   "source": [
    "# 변수 기초"
   ]
  },
  {
   "cell_type": "code",
   "execution_count": 19,
   "id": "d0881d60",
   "metadata": {},
   "outputs": [
    {
     "name": "stdout",
     "output_type": "stream",
     "text": [
      "500000\n",
      "298000000000000 <class 'int'>\n",
      "50000 <class 'int'>\n",
      "15.79 <class 'float'>\n",
      "hello! python\n",
      "<class 'str'>\n"
     ]
    }
   ],
   "source": [
    "samsung = 50000\n",
    "print(samsung*10)\n",
    "\n",
    "시가총액 = 298000000000000\n",
    "현재가 = 50000\n",
    "PER = 15.79\n",
    "print(시가총액, type(시가총액))\n",
    "print(현재가, type(현재가))\n",
    "print(PER, type(PER))\n",
    "\n",
    "s = \"hello\"\n",
    "t = \"python\"\n",
    "print(s+\"! \"+t)\n",
    "2 + 2*3\n",
    "\n",
    "a = \"132\"\n",
    "print(type(a))"
   ]
  },
  {
   "cell_type": "code",
   "execution_count": 23,
   "id": "2f3c1c39",
   "metadata": {},
   "outputs": [
    {
     "name": "stdout",
     "output_type": "stream",
     "text": [
      "<class 'int'>\n",
      "2019\n"
     ]
    }
   ],
   "source": [
    "num_str = \"720\"\n",
    "str_num = int(num_str)\n",
    "print(type(str_num))\n",
    "\n",
    "year = \"2020\"\n",
    "yearr = int(year)\n",
    "yearr1 = yearr - 1\n",
    "print(yearr1)"
   ]
  },
  {
   "cell_type": "markdown",
   "id": "36a32d7b",
   "metadata": {},
   "source": [
    "# 파이썬 문자열"
   ]
  },
  {
   "cell_type": "code",
   "execution_count": 48,
   "id": "0fbad079",
   "metadata": {},
   "outputs": [
    {
     "name": "stdout",
     "output_type": "stream",
     "text": [
      "p t\n",
      "2210\n",
      "홀홀홀\n",
      "NOHTYP\n",
      "010 1111 2222\n",
      "01011112222\n",
      "kr\n",
      "Abcdfe2A354A32A\n"
     ]
    }
   ],
   "source": [
    "letters = \"python\"\n",
    "print(letters[0], letters[2])\n",
    "\n",
    "license_plate = \"24가 2210\"\n",
    "print(license_plate[-4:])\n",
    "\n",
    "string = \"홀짝홀짝홀짝\"\n",
    "print(string[0]+string[2]+string[4])\n",
    "\n",
    "string = \"PYTHON\"\n",
    "print(string[::-1])\n",
    "\n",
    "phone_number = \"010-1111-2222\"\n",
    "print(phone_number.replace(\"-\",\" \"))\n",
    "print(phone_number.replace(\"-\",\"\"))\n",
    "\n",
    "url = \"http://sharebook.kr\"\n",
    "print(url.split(\".\")[-1])\n",
    "\n",
    "string = 'abcdfe2a354a32a'\n",
    "print(string.replace(\"a\",\"A\"))\n"
   ]
  },
  {
   "cell_type": "code",
   "execution_count": 67,
   "id": "e00d6d8d",
   "metadata": {},
   "outputs": [
    {
     "name": "stdout",
     "output_type": "stream",
     "text": [
      "--------------------------------------------------------------------------------\n",
      "python javapython javapython javapython java\n",
      "1\n",
      "이름: 김민수 나이: 10\n",
      "이름: 이철희 나이: 13\n",
      "2\n",
      "이름: 김민수 나이: 10\n",
      "이름: 이철희 나이: 13\n",
      "3\n",
      "이름: 김민수 나이: 10\n",
      "이름: 이철희 나이: 13\n",
      "5969782550 <class 'int'>\n",
      "2020/03\n",
      "삼성전자\n"
     ]
    }
   ],
   "source": [
    "print(\"-\"*80)\n",
    "\n",
    "t1 = 'python'\n",
    "t2 = 'java'\n",
    "print((t1+\" \"+t2)*4)\n",
    "\n",
    "name1 = \"김민수\" \n",
    "age1 = 10\n",
    "name2 = \"이철희\"\n",
    "age2 = 13\n",
    "\n",
    "print(1)\n",
    "print('이름: %s 나이: %d'%(name1, age1))\n",
    "print('이름: %s 나이: %d'%(name2, age2))\n",
    "\n",
    "print(2)\n",
    "print('이름: {} 나이: {}'.format(name1, age1))\n",
    "print('이름: {} 나이: {}'.format(name2, age2))\n",
    "\n",
    "print(3)\n",
    "print(f\"이름: {name1} 나이: {age1}\")\n",
    "print(f\"이름: {name2} 나이: {age2}\")\n",
    "\n",
    "상장주식수 = \"5,969,782,550\"\n",
    "상장주식 = int(상장주식수.replace(\",\",\"\"))\n",
    "print(상장주식, type(상장주식))\n",
    "\n",
    "분기 = \"2020/03(E) (IFRS연결)\"\n",
    "print(분기[:7])\n",
    "\n",
    "data = \"   삼성전자    \"\n",
    "print(data.strip())"
   ]
  },
  {
   "cell_type": "markdown",
   "id": "c2444ec9",
   "metadata": {},
   "source": [
    "https://wikidocs.net/78558\n"
   ]
  },
  {
   "cell_type": "code",
   "execution_count": 25,
   "id": "e9b9dea0",
   "metadata": {},
   "outputs": [
    {
     "name": "stdout",
     "output_type": "stream",
     "text": [
      "BTC_KRW\n",
      "btc_krw\n",
      "Hello\n"
     ]
    },
    {
     "data": {
      "text/plain": [
       "'039490'"
      ]
     },
     "execution_count": 25,
     "metadata": {},
     "output_type": "execute_result"
    }
   ],
   "source": [
    "ticker = \"btc_krw\"\n",
    "print(ticker.upper())\n",
    "\n",
    "ticker = \"BTC_KRW\"\n",
    "print(ticker.lower())\n",
    "\n",
    "hello = 'hello'\n",
    "print(hello.capitalize())\n",
    "\n",
    "file_name = \"보고서.xls\"\n",
    "file_name.endswith((\"xlsx\",\"xls\"))\n",
    "\n",
    "\n",
    "file_name2 = \"2020_보고서.xlsx\"\n",
    "file_name2.startswith(\"2020\")\n",
    "\n",
    "ticker = \"btc_krw\"\n",
    "ticker.split(\"_\")\n",
    "\n",
    "date = \"2020-05-01\"\n",
    "date.split(\"-\")\n",
    "\n",
    "data = \"039490     \"\n",
    "data.rstrip()"
   ]
  },
  {
   "cell_type": "markdown",
   "id": "883b7997",
   "metadata": {},
   "source": [
    "# 리스트"
   ]
  },
  {
   "cell_type": "code",
   "execution_count": 33,
   "id": "5108ce71",
   "metadata": {},
   "outputs": [
    {
     "name": "stdout",
     "output_type": "stream",
     "text": [
      "['닥터 스테레인지', '스플릿', '럭키']\n",
      "['닥터 스테레인지', '스플릿', '럭키', '배트맨']\n",
      "['닥터 스테레인지', '배트맨', '스플릿', '럭키', '배트맨']\n",
      "['닥터 스테레인지', '배트맨', '스플릿', '배트맨']\n"
     ]
    }
   ],
   "source": [
    "movie_rank = ['닥터 스테레인지','스플릿','럭키']\n",
    "print(movie_rank)\n",
    "\n",
    "movie_rank.append('배트맨')\n",
    "print(movie_rank)\n",
    "\n",
    "movie_rank.insert(1,'배트맨')\n",
    "print(movie_rank)\n",
    "\n",
    "del movie_rank[3]\n",
    "print(movie_rank)\n",
    "\n"
   ]
  },
  {
   "cell_type": "code",
   "execution_count": null,
   "id": "85911bb4",
   "metadata": {},
   "outputs": [],
   "source": []
  },
  {
   "cell_type": "code",
   "execution_count": null,
   "id": "1ee1e88f",
   "metadata": {},
   "outputs": [],
   "source": []
  },
  {
   "cell_type": "code",
   "execution_count": null,
   "id": "c160c6ae",
   "metadata": {},
   "outputs": [],
   "source": []
  },
  {
   "cell_type": "code",
   "execution_count": null,
   "id": "189ad70d",
   "metadata": {},
   "outputs": [],
   "source": []
  },
  {
   "cell_type": "code",
   "execution_count": null,
   "id": "50e43ce8",
   "metadata": {},
   "outputs": [],
   "source": []
  },
  {
   "cell_type": "code",
   "execution_count": null,
   "id": "af02d96d",
   "metadata": {},
   "outputs": [],
   "source": []
  },
  {
   "cell_type": "code",
   "execution_count": null,
   "id": "4df3c7ac",
   "metadata": {},
   "outputs": [],
   "source": []
  },
  {
   "cell_type": "code",
   "execution_count": null,
   "id": "a236dc21",
   "metadata": {},
   "outputs": [],
   "source": []
  },
  {
   "cell_type": "code",
   "execution_count": null,
   "id": "d5f18313",
   "metadata": {},
   "outputs": [],
   "source": []
  }
 ],
 "metadata": {
  "kernelspec": {
   "display_name": "Python 3 (ipykernel)",
   "language": "python",
   "name": "python3"
  },
  "language_info": {
   "codemirror_mode": {
    "name": "ipython",
    "version": 3
   },
   "file_extension": ".py",
   "mimetype": "text/x-python",
   "name": "python",
   "nbconvert_exporter": "python",
   "pygments_lexer": "ipython3",
   "version": "3.9.7"
  }
 },
 "nbformat": 4,
 "nbformat_minor": 5
}
