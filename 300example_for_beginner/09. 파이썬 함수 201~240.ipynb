{
 "cells": [
  {
   "cell_type": "code",
   "execution_count": 1,
   "id": "fafaa7d9",
   "metadata": {},
   "outputs": [
    {
     "name": "stdout",
     "output_type": "stream",
     "text": [
      "비트코인\n"
     ]
    }
   ],
   "source": [
    "def print_coin():\n",
    "    print(\"비트코인\")\n",
    "print_coin()"
   ]
  },
  {
   "cell_type": "code",
   "execution_count": 2,
   "id": "c588b551",
   "metadata": {},
   "outputs": [
    {
     "name": "stdout",
     "output_type": "stream",
     "text": [
      "비트코인\n"
     ]
    }
   ],
   "source": [
    "print_coin()"
   ]
  },
  {
   "cell_type": "code",
   "execution_count": 4,
   "id": "56b6f715",
   "metadata": {},
   "outputs": [
    {
     "ename": "IndentationError",
     "evalue": "expected an indented block (4015251113.py, line 2)",
     "output_type": "error",
     "traceback": [
      "\u001b[0;36m  File \u001b[0;32m\"/var/folders/83/jp6r_0zj1p39llmq2gz9rq380000gn/T/ipykernel_46092/4015251113.py\"\u001b[0;36m, line \u001b[0;32m2\u001b[0m\n\u001b[0;31m    #     print_coin()\u001b[0m\n\u001b[0m                      ^\u001b[0m\n\u001b[0;31mIndentationError\u001b[0m\u001b[0;31m:\u001b[0m expected an indented block\n"
     ]
    }
   ],
   "source": [
    "for i in range(100):\n",
    "#     print_coin()"
   ]
  },
  {
   "cell_type": "code",
   "execution_count": 6,
   "id": "16645b8b",
   "metadata": {},
   "outputs": [],
   "source": [
    "def print_coins():\n",
    "    for i in range(100):\n",
    "        print_coin()\n",
    "\n",
    "# print_coins()"
   ]
  },
  {
   "cell_type": "code",
   "execution_count": 7,
   "id": "d35ee46b",
   "metadata": {},
   "outputs": [],
   "source": [
    "# 205 \n",
    "# 함수를 정의하기 이전에 함수를 실행시켰기 때문"
   ]
  },
  {
   "cell_type": "code",
   "execution_count": 10,
   "id": "91a56de8",
   "metadata": {},
   "outputs": [
    {
     "name": "stdout",
     "output_type": "stream",
     "text": [
      "안뇽\n"
     ]
    }
   ],
   "source": [
    "# 211\n",
    "def 함수(문자열):\n",
    "    print(문자열)\n",
    "    \n",
    "함수(\"안뇽\")"
   ]
  },
  {
   "cell_type": "code",
   "execution_count": 12,
   "id": "0e94d2c4",
   "metadata": {},
   "outputs": [
    {
     "name": "stdout",
     "output_type": "stream",
     "text": [
      "x :D\n"
     ]
    }
   ],
   "source": [
    "#215\n",
    "def print_with_smile(x):\n",
    "    print(x,\":D\")\n",
    "    \n",
    "print_with_smile(\"x\")"
   ]
  },
  {
   "cell_type": "code",
   "execution_count": 13,
   "id": "7922833b",
   "metadata": {},
   "outputs": [
    {
     "name": "stdout",
     "output_type": "stream",
     "text": [
      "안녕하세요 :D\n"
     ]
    }
   ],
   "source": [
    "print_with_smile(\"안녕하세요\")"
   ]
  },
  {
   "cell_type": "code",
   "execution_count": 15,
   "id": "40c3277f",
   "metadata": {},
   "outputs": [
    {
     "name": "stdout",
     "output_type": "stream",
     "text": [
      "39.0\n"
     ]
    }
   ],
   "source": [
    "def print_upper_price(x):\n",
    "    print(x*1.3)\n",
    "    \n",
    "print_upper_price(30)"
   ]
  },
  {
   "cell_type": "code",
   "execution_count": 16,
   "id": "83cbeea2",
   "metadata": {},
   "outputs": [
    {
     "name": "stdout",
     "output_type": "stream",
     "text": [
      "3\n"
     ]
    }
   ],
   "source": [
    "#218\n",
    "def print_sum(a,b):\n",
    "    print(a+b)\n",
    "    \n",
    "print_sum(1,2)"
   ]
  },
  {
   "cell_type": "code",
   "execution_count": 19,
   "id": "18d7b31a",
   "metadata": {},
   "outputs": [],
   "source": [
    "# 219\n",
    "def print_arithmetic_operation(a,b):\n",
    "    print(a,\"+\",b,\"=\",a+b)\n",
    "    print(a,\"-\",b,\"=\",a-b)\n",
    "    print(a,\"*\",b,\"=\",a*b)\n",
    "    print(a,\"/\",b,\"=\",a/b)"
   ]
  },
  {
   "cell_type": "code",
   "execution_count": 20,
   "id": "ca405335",
   "metadata": {},
   "outputs": [
    {
     "name": "stdout",
     "output_type": "stream",
     "text": [
      "3 + 4 = 7\n",
      "3 - 4 = -1\n",
      "3 * 4 = 12\n",
      "3 / 4 = 0.75\n"
     ]
    }
   ],
   "source": [
    "print_arithmetic_operation(3,4)"
   ]
  },
  {
   "cell_type": "code",
   "execution_count": 22,
   "id": "4bdaf0bb",
   "metadata": {},
   "outputs": [],
   "source": [
    "def print_max(a,b,c):\n",
    "    if(a>b):\n",
    "        if(a>c):\n",
    "            print(a)\n",
    "        else:\n",
    "            if(b>c):\n",
    "                print(b)\n",
    "            else:\n",
    "                print(c)\n",
    "    else:\n",
    "        if(b>c):\n",
    "            print(b)\n",
    "        else:\n",
    "            print(c)"
   ]
  },
  {
   "cell_type": "code",
   "execution_count": 25,
   "id": "442a73e8",
   "metadata": {},
   "outputs": [
    {
     "name": "stdout",
     "output_type": "stream",
     "text": [
      "3\n"
     ]
    }
   ],
   "source": [
    "print_max(3,2,1)"
   ]
  },
  {
   "cell_type": "code",
   "execution_count": 27,
   "id": "b44429bf",
   "metadata": {},
   "outputs": [
    {
     "name": "stdout",
     "output_type": "stream",
     "text": [
      "nohtyp\n"
     ]
    }
   ],
   "source": [
    "def print_reverse(x):\n",
    "    print(x[::-1])\n",
    "print_reverse(\"python\")"
   ]
  },
  {
   "cell_type": "code",
   "execution_count": 29,
   "id": "eb9b6819",
   "metadata": {},
   "outputs": [
    {
     "name": "stdout",
     "output_type": "stream",
     "text": [
      "2.5\n"
     ]
    }
   ],
   "source": [
    "# 222\n",
    "def print_score(a):\n",
    "    print(sum(a)/len(a))\n",
    "\n",
    "print_score([1,2,3,4])"
   ]
  },
  {
   "cell_type": "code",
   "execution_count": 30,
   "id": "7cf16d4f",
   "metadata": {},
   "outputs": [
    {
     "name": "stdout",
     "output_type": "stream",
     "text": [
      "2\n",
      "10\n",
      "12\n"
     ]
    }
   ],
   "source": [
    "# 223\n",
    "def print_even(a):\n",
    "    for i in a:\n",
    "        if(i%2 == 0):\n",
    "            print(i)\n",
    "print_even ([1, 3, 2, 10, 12, 11, 15])\n"
   ]
  },
  {
   "cell_type": "code",
   "execution_count": 37,
   "id": "c0898e1f",
   "metadata": {},
   "outputs": [
    {
     "name": "stdout",
     "output_type": "stream",
     "text": [
      "dict_keys(['이름', '나이', '성별'])\n"
     ]
    }
   ],
   "source": [
    "def print_keys(a):\n",
    "    print(a.keys())\n",
    "print_keys ({\"이름\":\"김말똥\", \"나이\":30, \"성별\":0})"
   ]
  },
  {
   "cell_type": "code",
   "execution_count": 38,
   "id": "af03fdc3",
   "metadata": {},
   "outputs": [
    {
     "name": "stdout",
     "output_type": "stream",
     "text": [
      "[100, 130, 100, 100]\n"
     ]
    }
   ],
   "source": [
    "my_dict = {\"10/26\" : [100, 130, 100, 100],\n",
    "           \"10/27\" : [10, 12, 10, 11]}\n",
    "\n",
    "def print_value_by_key(x, a):\n",
    "    print(x[a])"
   ]
  },
  {
   "cell_type": "code",
   "execution_count": 45,
   "id": "c5998805",
   "metadata": {},
   "outputs": [
    {
     "name": "stdout",
     "output_type": "stream",
     "text": [
      "2\n",
      "아이엠어보\n",
      "이유알어걸\n"
     ]
    }
   ],
   "source": [
    "def print_5xn(x):\n",
    "    iter = int(len(x)/5)\n",
    "    print(iter)\n",
    "    for i in range(iter):\n",
    "        print(x[i*5:i*5+5])\n",
    "\n",
    "\n",
    "print_5xn(\"아이엠어보이유알어걸\")\n"
   ]
  },
  {
   "cell_type": "code",
   "execution_count": 49,
   "id": "df0fa4ef",
   "metadata": {},
   "outputs": [
    {
     "name": "stdout",
     "output_type": "stream",
     "text": [
      "3\n",
      "아이엠\n",
      "어보이\n",
      "유알어\n",
      "걸\n"
     ]
    }
   ],
   "source": [
    "def print_xn(x,a):\n",
    "    iter = int(len(x)/a)\n",
    "    print(iter)\n",
    "    for i in range(iter+1):\n",
    "        print(x[i*a:i*a+a])\n",
    "\n",
    "\n",
    "print_xn(\"아이엠어보이유알어걸\",3)"
   ]
  },
  {
   "cell_type": "code",
   "execution_count": 50,
   "id": "a6d9d78d",
   "metadata": {},
   "outputs": [
    {
     "name": "stdout",
     "output_type": "stream",
     "text": [
      "10193\n"
     ]
    }
   ],
   "source": [
    "def calc_monthly_salary(x):\n",
    "    y = int(x/12)\n",
    "    print(y)\n",
    "    \n",
    "calc_monthly_salary(122323)"
   ]
  },
  {
   "cell_type": "code",
   "execution_count": 55,
   "id": "11a022ed",
   "metadata": {},
   "outputs": [
    {
     "name": "stdout",
     "output_type": "stream",
     "text": [
      "4\n"
     ]
    }
   ],
   "source": [
    "# 231\n",
    "def n_plus_1(n):\n",
    "    result = n + 1\n",
    "    return result\n",
    "\n",
    "n_plus_1(3)\n",
    "print(n_plus_1(3))"
   ]
  },
  {
   "cell_type": "code",
   "execution_count": 56,
   "id": "146c620f",
   "metadata": {},
   "outputs": [
    {
     "data": {
      "text/plain": [
       "'www.naver.com'"
      ]
     },
     "execution_count": 56,
     "metadata": {},
     "output_type": "execute_result"
    }
   ],
   "source": [
    "# 232\n",
    "def make_url(x):\n",
    "    return \"www.\"+x+\".com\"\n",
    "\n",
    "make_url(\"naver\")\n"
   ]
  },
  {
   "cell_type": "code",
   "execution_count": 59,
   "id": "9d458c67",
   "metadata": {},
   "outputs": [
    {
     "data": {
      "text/plain": [
       "['a', 'b', 'c', 'd']"
      ]
     },
     "execution_count": 59,
     "metadata": {},
     "output_type": "execute_result"
    }
   ],
   "source": [
    "def make_list(x):\n",
    "    a = []\n",
    "    for i in range(len(x)):\n",
    "        a.append(x[i])\n",
    "    return a\n",
    "\n",
    "\n",
    "make_list(\"abcd\")\n"
   ]
  },
  {
   "cell_type": "code",
   "execution_count": 60,
   "id": "cbe4ccfa",
   "metadata": {},
   "outputs": [
    {
     "data": {
      "text/plain": [
       "[4, 6, 8]"
      ]
     },
     "execution_count": 60,
     "metadata": {},
     "output_type": "execute_result"
    }
   ],
   "source": [
    "# 234\n",
    "def pickup_even(x):\n",
    "    a = []\n",
    "    for i in x:\n",
    "        if(i%2 == 0):\n",
    "            a.append(i)\n",
    "    return a\n",
    "\n",
    "pickup_even([3, 4, 5, 6, 7, 8])\n"
   ]
  },
  {
   "cell_type": "code",
   "execution_count": 67,
   "id": "3683929d",
   "metadata": {},
   "outputs": [
    {
     "data": {
      "text/plain": [
       "1234567"
      ]
     },
     "execution_count": 67,
     "metadata": {},
     "output_type": "execute_result"
    }
   ],
   "source": [
    "def convert_int(x):\n",
    "    x = x.replace(\",\",\"\")\n",
    "    return int(x)\n",
    "\n",
    "\n",
    "convert_int(\"1,234,567\")\n",
    "\n"
   ]
  }
 ],
 "metadata": {
  "kernelspec": {
   "display_name": "Python 3 (ipykernel)",
   "language": "python",
   "name": "python3"
  },
  "language_info": {
   "codemirror_mode": {
    "name": "ipython",
    "version": 3
   },
   "file_extension": ".py",
   "mimetype": "text/x-python",
   "name": "python",
   "nbconvert_exporter": "python",
   "pygments_lexer": "ipython3",
   "version": "3.9.7"
  }
 },
 "nbformat": 4,
 "nbformat_minor": 5
}
