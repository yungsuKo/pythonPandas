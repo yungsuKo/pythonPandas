{
 "cells": [
  {
   "cell_type": "code",
   "execution_count": 1,
   "id": "448f46c7",
   "metadata": {},
   "outputs": [
    {
     "name": "stdout",
     "output_type": "stream",
     "text": [
      "32100\n",
      "32150\n",
      "32000\n",
      "32500\n"
     ]
    }
   ],
   "source": [
    "price_list = [32100, 32150, 32000, 32500]\n",
    "for i in price_list:\n",
    "    print(i)"
   ]
  },
  {
   "cell_type": "code",
   "execution_count": 2,
   "id": "65523a1a",
   "metadata": {},
   "outputs": [
    {
     "name": "stdout",
     "output_type": "stream",
     "text": [
      "0 32100\n",
      "1 32150\n",
      "2 32000\n",
      "3 32500\n"
     ]
    }
   ],
   "source": [
    "price_list = [32100, 32150, 32000, 32500]\n",
    "for i, price in enumerate(price_list):\n",
    "    print(i, price)"
   ]
  },
  {
   "cell_type": "code",
   "execution_count": 20,
   "id": "a6c65afe",
   "metadata": {},
   "outputs": [
    {
     "name": "stdout",
     "output_type": "stream",
     "text": [
      "3 32100\n",
      "2 32150\n",
      "1 32000\n",
      "0 32500\n"
     ]
    }
   ],
   "source": [
    "price_list = [32100, 32150, 32000, 32500]\n",
    "\n",
    "for i, price in enumerate(price_list):\n",
    "    print(len(price_list)-i-1, price)"
   ]
  },
  {
   "cell_type": "code",
   "execution_count": 22,
   "id": "8e08e19b",
   "metadata": {},
   "outputs": [
    {
     "name": "stdout",
     "output_type": "stream",
     "text": [
      "100 32100\n",
      "110 32150\n",
      "120 32000\n",
      "130 32500\n"
     ]
    }
   ],
   "source": [
    "# 174\n",
    "price_list = [32100, 32150, 32000, 32500]\n",
    "\n",
    "for i, price in enumerate(price_list):\n",
    "    print(100+i*10, price)"
   ]
  },
  {
   "cell_type": "code",
   "execution_count": 24,
   "id": "2bac8028",
   "metadata": {},
   "outputs": [
    {
     "name": "stdout",
     "output_type": "stream",
     "text": [
      "가나\n",
      "나다\n",
      "다라\n"
     ]
    }
   ],
   "source": [
    "# 175\n",
    "my_list = [\"가\", \"나\", \"다\", \"라\"]\n",
    "for i in range(len(my_list)-1):\n",
    "    print(my_list[i]+my_list[i+1])"
   ]
  },
  {
   "cell_type": "code",
   "execution_count": 25,
   "id": "027b8255",
   "metadata": {},
   "outputs": [
    {
     "name": "stdout",
     "output_type": "stream",
     "text": [
      "가 나 다\n",
      "나 다 라\n",
      "다 라 마\n"
     ]
    }
   ],
   "source": [
    "# 176\n",
    "my_list = [\"가\", \"나\", \"다\", \"라\", \"마\"]\n",
    "for i in range(2, len(my_list)):\n",
    "    print(my_list[i-2], my_list[i-1], my_list[i])"
   ]
  },
  {
   "cell_type": "code",
   "execution_count": 36,
   "id": "80871413",
   "metadata": {},
   "outputs": [
    {
     "name": "stdout",
     "output_type": "stream",
     "text": [
      "라 다\n",
      "다 나\n",
      "나 가\n"
     ]
    }
   ],
   "source": [
    "# 177\n",
    "my_list = [\"가\", \"나\", \"다\", \"라\"]\n",
    "for i in range(1,len(my_list)):\n",
    "    print(my_list[len(my_list)-i], my_list[len(my_list)-i-1])"
   ]
  },
  {
   "cell_type": "code",
   "execution_count": 37,
   "id": "011e665a",
   "metadata": {},
   "outputs": [
    {
     "name": "stdout",
     "output_type": "stream",
     "text": [
      "100\n",
      "200\n",
      "400\n"
     ]
    }
   ],
   "source": [
    "# 178\n",
    "my_list = [100, 200, 400, 800]\n",
    "for i in range(len(my_list)-1):\n",
    "    print(my_list[i+1]-my_list[i])"
   ]
  },
  {
   "cell_type": "code",
   "execution_count": 38,
   "id": "ac5c0bc5",
   "metadata": {},
   "outputs": [
    {
     "name": "stdout",
     "output_type": "stream",
     "text": [
      "233.33333333333334\n",
      "466.6666666666667\n",
      "733.3333333333334\n",
      "1033.3333333333333\n"
     ]
    }
   ],
   "source": [
    "# 179\n",
    "my_list = [100, 200, 400, 800, 1000, 1300]\n",
    "for i in range(len(my_list)-2):\n",
    "    print((my_list[i]+my_list[i+1]+my_list[i+2])/3)"
   ]
  },
  {
   "cell_type": "code",
   "execution_count": 45,
   "id": "8cb52a3a",
   "metadata": {},
   "outputs": [
    {
     "data": {
      "text/plain": [
       "[50, 100, 30, 80, 0]"
      ]
     },
     "execution_count": 45,
     "metadata": {},
     "output_type": "execute_result"
    }
   ],
   "source": [
    "# 180\n",
    "low_prices  = [100, 200, 400, 800, 1000]\n",
    "high_prices = [150, 300, 430, 880, 1000]\n",
    "\n",
    "voladity = []\n",
    "\n",
    "for i in range(len(low_prices)):\n",
    "    voladity.append(high_prices[i] - low_prices[i])\n",
    "    \n",
    "voladity"
   ]
  },
  {
   "cell_type": "code",
   "execution_count": 47,
   "id": "0d7ba576",
   "metadata": {},
   "outputs": [
    {
     "data": {
      "text/plain": [
       "[['101호', '102호'], ['201호', '202호'], ['301호', '302호']]"
      ]
     },
     "execution_count": 47,
     "metadata": {},
     "output_type": "execute_result"
    }
   ],
   "source": [
    "# 181\n",
    "apart = [[\"101호\",\"102호\"],[\"201호\", \"202호\"],[\"301호\",\"302호\"]]\n",
    "apart"
   ]
  },
  {
   "cell_type": "code",
   "execution_count": 50,
   "id": "f5dab62f",
   "metadata": {},
   "outputs": [],
   "source": [
    "# 182\n",
    "stock = [[\"시가\",100, 200, 300], [\"종가\",80, 210, 330]]"
   ]
  },
  {
   "cell_type": "code",
   "execution_count": 52,
   "id": "c5b6b075",
   "metadata": {},
   "outputs": [
    {
     "data": {
      "text/plain": [
       "{'시가': [100, 200, 300], '종가': [80, 210, 330]}"
      ]
     },
     "execution_count": 52,
     "metadata": {},
     "output_type": "execute_result"
    }
   ],
   "source": [
    "stock= {\"시가\":[100, 200, 300], \"종가\":[80, 210, 330]}\n",
    "stock"
   ]
  },
  {
   "cell_type": "code",
   "execution_count": 54,
   "id": "4ef7de66",
   "metadata": {},
   "outputs": [
    {
     "data": {
      "text/plain": [
       "{'10/10': [80, 110, 70, 90], '10/11': [210, 230, 190, 200]}"
      ]
     },
     "execution_count": 54,
     "metadata": {},
     "output_type": "execute_result"
    }
   ],
   "source": [
    "stock = {\"10/10\":[80, 110, 70, 90], \"10/11\":[210, 230, 190,200]}\n",
    "stock"
   ]
  },
  {
   "cell_type": "code",
   "execution_count": 58,
   "id": "351709e3",
   "metadata": {},
   "outputs": [
    {
     "name": "stdout",
     "output_type": "stream",
     "text": [
      "101 호\n",
      "102 호\n",
      "201 호\n",
      "202 호\n",
      "301 호\n",
      "302 호\n"
     ]
    }
   ],
   "source": [
    "apart = [ [101, 102], [201, 202], [301, 302] ]\n",
    "for i in range(len(apart)):\n",
    "    for j in range(len(apart[i])):\n",
    "        print(apart[i][j], \"호\")"
   ]
  },
  {
   "cell_type": "code",
   "execution_count": 63,
   "id": "704b59a3",
   "metadata": {},
   "outputs": [
    {
     "name": "stdout",
     "output_type": "stream",
     "text": [
      "302 호\n",
      "301 호\n",
      "202 호\n",
      "201 호\n",
      "102 호\n",
      "101 호\n"
     ]
    }
   ],
   "source": [
    "# 186, 187\n",
    "apart = [ [101, 102], [201, 202], [301, 302] ]\n",
    "for i in range(len(apart)):\n",
    "    for j in range(len(apart[i])):\n",
    "        print(apart[len(apart)-1-i][len(apart[i])-1-j], \"호\")"
   ]
  },
  {
   "cell_type": "code",
   "execution_count": 64,
   "id": "16b5844b",
   "metadata": {},
   "outputs": [
    {
     "name": "stdout",
     "output_type": "stream",
     "text": [
      "101 호\n",
      "=====\n",
      "102 호\n",
      "=====\n",
      "201 호\n",
      "=====\n",
      "202 호\n",
      "=====\n",
      "301 호\n",
      "=====\n",
      "302 호\n",
      "=====\n"
     ]
    }
   ],
   "source": [
    "# 188\n",
    "apart = [ [101, 102], [201, 202], [301, 302] ]\n",
    "for i in range(len(apart)):\n",
    "    for j in range(len(apart[i])):\n",
    "        print(apart[i][j], \"호\")\n",
    "        print(\"=====\")"
   ]
  },
  {
   "cell_type": "code",
   "execution_count": 65,
   "id": "911fe9bf",
   "metadata": {},
   "outputs": [
    {
     "name": "stdout",
     "output_type": "stream",
     "text": [
      "101 호\n",
      "102 호\n",
      "=====\n",
      "201 호\n",
      "202 호\n",
      "=====\n",
      "301 호\n",
      "302 호\n",
      "=====\n"
     ]
    }
   ],
   "source": [
    "# 189\n",
    "apart = [ [101, 102], [201, 202], [301, 302] ]\n",
    "for i in range(len(apart)):\n",
    "    for j in range(len(apart[i])):\n",
    "        print(apart[i][j], \"호\")\n",
    "    print(\"=====\")"
   ]
  },
  {
   "cell_type": "code",
   "execution_count": 66,
   "id": "3a737974",
   "metadata": {},
   "outputs": [
    {
     "name": "stdout",
     "output_type": "stream",
     "text": [
      "101 호\n",
      "102 호\n",
      "201 호\n",
      "202 호\n",
      "301 호\n",
      "302 호\n",
      "=====\n"
     ]
    }
   ],
   "source": [
    "# 190\n",
    "apart = [ [101, 102], [201, 202], [301, 302] ]\n",
    "for i in range(len(apart)):\n",
    "    for j in range(len(apart[i])):\n",
    "        print(apart[i][j], \"호\")\n",
    "print(\"=====\")"
   ]
  },
  {
   "cell_type": "code",
   "execution_count": 69,
   "id": "14a1f9ba",
   "metadata": {},
   "outputs": [
    {
     "name": "stdout",
     "output_type": "stream",
     "text": [
      "2000.28\n",
      "3050.427\n",
      "2050.2870000000003\n",
      "1980.2772\n",
      "7501.05\n",
      "2050.2870000000003\n",
      "2050.2870000000003\n",
      "1980.2772\n",
      "15452.163\n",
      "15052.107\n",
      "15552.177\n",
      "14902.086000000001\n"
     ]
    }
   ],
   "source": [
    "# 191\n",
    "data = [\n",
    "    [ 2000,  3050,  2050,  1980],\n",
    "    [ 7500,  2050,  2050,  1980],\n",
    "    [15450, 15050, 15550, 14900]\n",
    "]\n",
    "for i in range(len(data)):\n",
    "    for j in range(len(data[i])):\n",
    "        print(data[i][j]*1.00014)"
   ]
  },
  {
   "cell_type": "code",
   "execution_count": 70,
   "id": "46dfb6ac",
   "metadata": {},
   "outputs": [
    {
     "name": "stdout",
     "output_type": "stream",
     "text": [
      "2000.28\n",
      "3050.427\n",
      "2050.2870000000003\n",
      "1980.2772\n",
      "=====\n",
      "7501.05\n",
      "2050.2870000000003\n",
      "2050.2870000000003\n",
      "1980.2772\n",
      "=====\n",
      "15452.163\n",
      "15052.107\n",
      "15552.177\n",
      "14902.086000000001\n",
      "=====\n"
     ]
    }
   ],
   "source": [
    "# 192\n",
    "for i in range(len(data)):\n",
    "    for j in range(len(data[i])):\n",
    "        print(data[i][j]*1.00014)\n",
    "    print(\"=====\")"
   ]
  },
  {
   "cell_type": "code",
   "execution_count": 71,
   "id": "1824c0ee",
   "metadata": {},
   "outputs": [
    {
     "data": {
      "text/plain": [
       "[2000.28,\n",
       " 3050.427,\n",
       " 2050.2870000000003,\n",
       " 1980.2772,\n",
       " 7501.05,\n",
       " 2050.2870000000003,\n",
       " 2050.2870000000003,\n",
       " 1980.2772,\n",
       " 15452.163,\n",
       " 15052.107,\n",
       " 15552.177,\n",
       " 14902.086000000001]"
      ]
     },
     "execution_count": 71,
     "metadata": {},
     "output_type": "execute_result"
    }
   ],
   "source": [
    "# 193\n",
    "result = []\n",
    "for i in range(len(data)):\n",
    "    for j in range(len(data[i])):\n",
    "        result.append(data[i][j]*1.00014)\n",
    "result"
   ]
  },
  {
   "cell_type": "code",
   "execution_count": 78,
   "id": "3ab99fe7",
   "metadata": {},
   "outputs": [
    {
     "data": {
      "text/plain": [
       "[[2000.28, 3050.427, 2050.2870000000003, 1980.2772],\n",
       " [7501.05, 2050.2870000000003, 2050.2870000000003, 1980.2772],\n",
       " [15452.163, 15052.107, 15552.177, 14902.086000000001]]"
      ]
     },
     "execution_count": 78,
     "metadata": {},
     "output_type": "execute_result"
    }
   ],
   "source": [
    "# 194\n",
    "result = []\n",
    "result_ = []\n",
    "for i in range(len(data)):\n",
    "    for j in range(len(data[i])):\n",
    "        result.append(data[i][j]*1.00014)\n",
    "    result_.append(result)\n",
    "    result = []\n",
    "result_"
   ]
  },
  {
   "cell_type": "code",
   "execution_count": 79,
   "id": "41e372c5",
   "metadata": {},
   "outputs": [
    {
     "name": "stdout",
     "output_type": "stream",
     "text": [
      "100\n",
      "190\n",
      "310\n"
     ]
    }
   ],
   "source": [
    "ohlc = [[\"open\", \"high\", \"low\", \"close\"],\n",
    "        [100, 110, 70, 100],\n",
    "        [200, 210, 180, 190],\n",
    "        [300, 310, 300, 310]]\n",
    "for i, text in enumerate(ohlc[0]):\n",
    "    if text ==\"close\":\n",
    "        x = i\n",
    "    \n",
    "for i in range(1,len(ohlc)):\n",
    "    print(ohlc[i][x])\n"
   ]
  },
  {
   "cell_type": "code",
   "execution_count": 80,
   "id": "b174da4b",
   "metadata": {},
   "outputs": [
    {
     "name": "stdout",
     "output_type": "stream",
     "text": [
      "190\n",
      "310\n"
     ]
    }
   ],
   "source": [
    "# 196\n",
    "ohlc = [[\"open\", \"high\", \"low\", \"close\"],\n",
    "        [100, 110, 70, 100],\n",
    "        [200, 210, 180, 190],\n",
    "        [300, 310, 300, 310]]\n",
    "for i, text in enumerate(ohlc[0]):\n",
    "    if text ==\"close\":\n",
    "        x = i\n",
    "    \n",
    "for i in range(1,len(ohlc)):\n",
    "    if ohlc[i][x]>150:\n",
    "        print(ohlc[i][x])\n"
   ]
  },
  {
   "cell_type": "code",
   "execution_count": 83,
   "id": "77388867",
   "metadata": {},
   "outputs": [
    {
     "name": "stdout",
     "output_type": "stream",
     "text": [
      "100\n",
      "310\n"
     ]
    }
   ],
   "source": [
    "# 197\n",
    "ohlc = [[\"open\", \"high\", \"low\", \"close\"],\n",
    "        [100, 110, 70, 100],\n",
    "        [200, 210, 180, 190],\n",
    "        [300, 310, 300, 310]]\n",
    "for row in ohlc[1:]:\n",
    "    if(row[3]>=row[0]):\n",
    "        print(row[3])"
   ]
  },
  {
   "cell_type": "code",
   "execution_count": 85,
   "id": "89139cad",
   "metadata": {},
   "outputs": [
    {
     "data": {
      "text/plain": [
       "[40, 30, 10]"
      ]
     },
     "execution_count": 85,
     "metadata": {},
     "output_type": "execute_result"
    }
   ],
   "source": [
    "# 198\n",
    "ohlc = [[\"open\", \"high\", \"low\", \"close\"],\n",
    "        [100, 110, 70, 100],\n",
    "        [200, 210, 180, 190],\n",
    "        [300, 310, 300, 310]]\n",
    "voladity = []\n",
    "\n",
    "for row in ohlc[1:]:\n",
    "    voladity.append(row[1]-row[2])\n",
    "voladity"
   ]
  },
  {
   "cell_type": "code",
   "execution_count": 86,
   "id": "1da2b5cd",
   "metadata": {},
   "outputs": [
    {
     "name": "stdout",
     "output_type": "stream",
     "text": [
      "10\n"
     ]
    }
   ],
   "source": [
    "# 199\n",
    "for row in ohlc[1:]:\n",
    "    if row[0] < row[3]:\n",
    "        print(row[1]-row[2])"
   ]
  },
  {
   "cell_type": "code",
   "execution_count": 89,
   "id": "b1083b16",
   "metadata": {},
   "outputs": [
    {
     "data": {
      "text/plain": [
       "0"
      ]
     },
     "execution_count": 89,
     "metadata": {},
     "output_type": "execute_result"
    }
   ],
   "source": [
    "# 200\n",
    "voladity = []\n",
    "for row in ohlc[1:]:\n",
    "    voladity.append(row[3]-row[0])\n",
    "    \n",
    "sum(voladity)"
   ]
  }
 ],
 "metadata": {
  "kernelspec": {
   "display_name": "Python 3 (ipykernel)",
   "language": "python",
   "name": "python3"
  },
  "language_info": {
   "codemirror_mode": {
    "name": "ipython",
    "version": 3
   },
   "file_extension": ".py",
   "mimetype": "text/x-python",
   "name": "python",
   "nbconvert_exporter": "python",
   "pygments_lexer": "ipython3",
   "version": "3.9.7"
  }
 },
 "nbformat": 4,
 "nbformat_minor": 5
}
