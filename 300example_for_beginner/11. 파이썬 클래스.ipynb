{
 "cells": [
  {
   "cell_type": "code",
   "execution_count": 29,
   "id": "f2a7a808",
   "metadata": {},
   "outputs": [],
   "source": [
    "class Human:\n",
    "    def __init__(self, name, age, sex):\n",
    "        self.name = name\n",
    "        self.age = age\n",
    "        self.sex = sex\n",
    "        print(\"응애응애\")\n",
    "    def who(self):\n",
    "        print(self.name, self.age, self.sex)\n",
    "    def setinfo(self, name, age, sex):\n",
    "        self.name = name\n",
    "        self.age = age\n",
    "        self.sex = sex\n",
    "    def __del__(self):\n",
    "        print(\"죽음\")\n"
   ]
  },
  {
   "cell_type": "code",
   "execution_count": 7,
   "id": "9b7fc948",
   "metadata": {},
   "outputs": [
    {
     "name": "stdout",
     "output_type": "stream",
     "text": [
      "응애응애\n"
     ]
    }
   ],
   "source": [
    "tom = Human()"
   ]
  },
  {
   "cell_type": "code",
   "execution_count": 22,
   "id": "e56c463e",
   "metadata": {},
   "outputs": [
    {
     "name": "stdout",
     "output_type": "stream",
     "text": [
      "응애응애\n"
     ]
    }
   ],
   "source": [
    "areum = Human(\"아름\", 25, \"여자\")"
   ]
  },
  {
   "cell_type": "code",
   "execution_count": 13,
   "id": "c74b9934",
   "metadata": {},
   "outputs": [
    {
     "data": {
      "text/plain": [
       "25"
      ]
     },
     "execution_count": 13,
     "metadata": {},
     "output_type": "execute_result"
    }
   ],
   "source": [
    "areum.age"
   ]
  },
  {
   "cell_type": "code",
   "execution_count": 23,
   "id": "4e377c7b",
   "metadata": {},
   "outputs": [
    {
     "name": "stdout",
     "output_type": "stream",
     "text": [
      "아름 25 여자\n"
     ]
    }
   ],
   "source": [
    "areum.who()"
   ]
  },
  {
   "cell_type": "code",
   "execution_count": 30,
   "id": "943aef00",
   "metadata": {},
   "outputs": [
    {
     "name": "stdout",
     "output_type": "stream",
     "text": [
      "응애응애\n"
     ]
    }
   ],
   "source": [
    "tom = Human(\"모름\",0,\"모름\")"
   ]
  },
  {
   "cell_type": "code",
   "execution_count": 31,
   "id": "6c22ad14",
   "metadata": {},
   "outputs": [],
   "source": [
    "tom.setinfo(\"탐\", 26, \"남\")"
   ]
  },
  {
   "cell_type": "code",
   "execution_count": 28,
   "id": "4e431429",
   "metadata": {},
   "outputs": [
    {
     "data": {
      "text/plain": [
       "26"
      ]
     },
     "execution_count": 28,
     "metadata": {},
     "output_type": "execute_result"
    }
   ],
   "source": [
    "tom.age"
   ]
  },
  {
   "cell_type": "code",
   "execution_count": 32,
   "id": "88aeb8fc",
   "metadata": {},
   "outputs": [
    {
     "name": "stdout",
     "output_type": "stream",
     "text": [
      "죽음\n"
     ]
    }
   ],
   "source": [
    "del tom\n"
   ]
  },
  {
   "cell_type": "markdown",
   "id": "0ad2e7b9",
   "metadata": {},
   "source": [
    "https://wikidocs.net/7036"
   ]
  }
 ],
 "metadata": {
  "kernelspec": {
   "display_name": "Python 3 (ipykernel)",
   "language": "python",
   "name": "python3"
  },
  "language_info": {
   "codemirror_mode": {
    "name": "ipython",
    "version": 3
   },
   "file_extension": ".py",
   "mimetype": "text/x-python",
   "name": "python",
   "nbconvert_exporter": "python",
   "pygments_lexer": "ipython3",
   "version": "3.9.7"
  }
 },
 "nbformat": 4,
 "nbformat_minor": 5
}
