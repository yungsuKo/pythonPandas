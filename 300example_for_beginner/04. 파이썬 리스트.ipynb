{
 "cells": [
  {
   "cell_type": "code",
   "execution_count": 2,
   "id": "109f8e78",
   "metadata": {},
   "outputs": [
    {
     "data": {
      "text/plain": [
       "['닥터 스트레인지', '스플릿', '럭키']"
      ]
     },
     "execution_count": 2,
     "metadata": {},
     "output_type": "execute_result"
    }
   ],
   "source": [
    "movie_rank = []\n",
    "movie_rank.append('닥터 스트레인지')\n",
    "movie_rank.append('스플릿')\n",
    "movie_rank.append('럭키')\n",
    "movie_rank"
   ]
  },
  {
   "cell_type": "code",
   "execution_count": 3,
   "id": "ddd8798d",
   "metadata": {},
   "outputs": [],
   "source": [
    "movie_rank.append('배트맨')"
   ]
  },
  {
   "cell_type": "code",
   "execution_count": 4,
   "id": "57561d0c",
   "metadata": {},
   "outputs": [
    {
     "data": {
      "text/plain": [
       "['닥터 스트레인지', '스플릿', '럭키', '배트맨']"
      ]
     },
     "execution_count": 4,
     "metadata": {},
     "output_type": "execute_result"
    }
   ],
   "source": [
    "movie_rank"
   ]
  },
  {
   "cell_type": "code",
   "execution_count": 8,
   "id": "881b032e",
   "metadata": {},
   "outputs": [],
   "source": [
    "movie_rank.remove('배트맨')"
   ]
  },
  {
   "cell_type": "code",
   "execution_count": 9,
   "id": "eda2f198",
   "metadata": {},
   "outputs": [
    {
     "data": {
      "text/plain": [
       "['닥터 스트레인지', '럭키']"
      ]
     },
     "execution_count": 9,
     "metadata": {},
     "output_type": "execute_result"
    }
   ],
   "source": [
    "movie_rank"
   ]
  },
  {
   "cell_type": "code",
   "execution_count": 10,
   "id": "781c91e7",
   "metadata": {},
   "outputs": [
    {
     "data": {
      "text/plain": [
       "['C', 'C++', 'JAVA', 'Python', 'Go', 'C#']"
      ]
     },
     "execution_count": 10,
     "metadata": {},
     "output_type": "execute_result"
    }
   ],
   "source": [
    "#56\n",
    "lang1 = [\"C\", \"C++\", \"JAVA\"]\n",
    "lang2 = [\"Python\", \"Go\", \"C#\"]\n",
    "\n",
    "lang = lang1+lang2\n",
    "lang"
   ]
  },
  {
   "cell_type": "code",
   "execution_count": 16,
   "id": "b767ac2c",
   "metadata": {},
   "outputs": [
    {
     "name": "stdout",
     "output_type": "stream",
     "text": [
      "max : 7\n",
      "min : 1\n"
     ]
    }
   ],
   "source": [
    "#57\n",
    "nums = [1,2,3,4,5,6,7]\n",
    "print(\"max : \"+str(max(nums)))\n",
    "print(\"min : \"+str(min(nums)))"
   ]
  },
  {
   "cell_type": "code",
   "execution_count": 22,
   "id": "9ab3fffa",
   "metadata": {},
   "outputs": [
    {
     "name": "stdout",
     "output_type": "stream",
     "text": [
      "total : 28\n"
     ]
    }
   ],
   "source": [
    "#58\n",
    "nums = [1,2,3,4,5,6,7]\n",
    "print(\"total : \"+ str(sum(nums)))"
   ]
  },
  {
   "cell_type": "code",
   "execution_count": 23,
   "id": "202b22ec",
   "metadata": {},
   "outputs": [
    {
     "data": {
      "text/plain": [
       "12"
      ]
     },
     "execution_count": 23,
     "metadata": {},
     "output_type": "execute_result"
    }
   ],
   "source": [
    "#59\n",
    "cook = [\"피자\", \"김밥\", \"만두\", \"양념치킨\", \"족발\", \"피자\", \"김치만두\", \"쫄면\", \"소시지\", \"라면\", \"팥빙수\", \"김치전\"]\n",
    "len(cook)"
   ]
  },
  {
   "cell_type": "code",
   "execution_count": 26,
   "id": "bb0a472c",
   "metadata": {},
   "outputs": [
    {
     "data": {
      "text/plain": [
       "3.0"
      ]
     },
     "execution_count": 26,
     "metadata": {},
     "output_type": "execute_result"
    }
   ],
   "source": [
    "nums = [1,2,3,4,5]\n",
    "sum(nums)/len(nums)"
   ]
  }
 ],
 "metadata": {
  "kernelspec": {
   "display_name": "Python 3 (ipykernel)",
   "language": "python",
   "name": "python3"
  },
  "language_info": {
   "codemirror_mode": {
    "name": "ipython",
    "version": 3
   },
   "file_extension": ".py",
   "mimetype": "text/x-python",
   "name": "python",
   "nbconvert_exporter": "python",
   "pygments_lexer": "ipython3",
   "version": "3.9.7"
  }
 },
 "nbformat": 4,
 "nbformat_minor": 5
}
