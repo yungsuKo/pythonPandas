{
 "cells": [
  {
   "cell_type": "code",
   "execution_count": 2,
   "id": "4eacad38",
   "metadata": {},
   "outputs": [
    {
     "data": {
      "text/plain": [
       "bool"
      ]
     },
     "execution_count": 2,
     "metadata": {},
     "output_type": "execute_result"
    }
   ],
   "source": [
    "#101\n",
    "type(True)"
   ]
  },
  {
   "cell_type": "code",
   "execution_count": 4,
   "id": "e19b4123",
   "metadata": {},
   "outputs": [
    {
     "name": "stdout",
     "output_type": "stream",
     "text": [
      "False\n"
     ]
    }
   ],
   "source": [
    "#102\n",
    "print(3==5)\n",
    "# False"
   ]
  },
  {
   "cell_type": "code",
   "execution_count": 5,
   "id": "8f37d2e6",
   "metadata": {},
   "outputs": [
    {
     "name": "stdout",
     "output_type": "stream",
     "text": [
      "True\n"
     ]
    }
   ],
   "source": [
    "# 103\n",
    "print(3<5)\n",
    "# True"
   ]
  },
  {
   "cell_type": "code",
   "execution_count": 6,
   "id": "ef51b3fd",
   "metadata": {},
   "outputs": [
    {
     "name": "stdout",
     "output_type": "stream",
     "text": [
      "True\n"
     ]
    }
   ],
   "source": [
    "# 104\n",
    "print((3==3) and (4!=3))\n",
    "# True"
   ]
  },
  {
   "cell_type": "code",
   "execution_count": 7,
   "id": "00f1cb02",
   "metadata": {},
   "outputs": [
    {
     "ename": "SyntaxError",
     "evalue": "expression cannot contain assignment, perhaps you meant \"==\"? (2378388443.py, line 2)",
     "output_type": "error",
     "traceback": [
      "\u001b[0;36m  File \u001b[0;32m\"/var/folders/83/jp6r_0zj1p39llmq2gz9rq380000gn/T/ipykernel_10507/2378388443.py\"\u001b[0;36m, line \u001b[0;32m2\u001b[0m\n\u001b[0;31m    print(3 =< 4)\u001b[0m\n\u001b[0m          ^\u001b[0m\n\u001b[0;31mSyntaxError\u001b[0m\u001b[0;31m:\u001b[0m expression cannot contain assignment, perhaps you meant \"==\"?\n"
     ]
    }
   ],
   "source": [
    "# 106\n",
    "print(3 =< 4)\n",
    "# 순서가 잘못되어서 에러남"
   ]
  },
  {
   "cell_type": "code",
   "execution_count": 8,
   "id": "62c0628d",
   "metadata": {},
   "outputs": [
    {
     "name": "stdout",
     "output_type": "stream",
     "text": [
      "right\n"
     ]
    }
   ],
   "source": [
    "# 107\n",
    "if(4>3):\n",
    "    print('right')"
   ]
  },
  {
   "cell_type": "code",
   "execution_count": 9,
   "id": "29ebc472",
   "metadata": {},
   "outputs": [
    {
     "name": "stdout",
     "output_type": "stream",
     "text": [
      "heff\n"
     ]
    }
   ],
   "source": [
    "# 108\n",
    "if 4<3:\n",
    "    print('hell')\n",
    "else:\n",
    "    print('heff')"
   ]
  },
  {
   "cell_type": "code",
   "execution_count": 10,
   "id": "7a8023ee",
   "metadata": {},
   "outputs": [
    {
     "name": "stdout",
     "output_type": "stream",
     "text": [
      "1\n",
      "2\n",
      "4\n"
     ]
    }
   ],
   "source": [
    "# 109\n",
    "if True :\n",
    "    print (\"1\")\n",
    "    print (\"2\")\n",
    "else :\n",
    "    print(\"3\")\n",
    "print(\"4\")\n",
    "\n",
    "# 1,2,4"
   ]
  },
  {
   "cell_type": "code",
   "execution_count": 11,
   "id": "59ea2da3",
   "metadata": {},
   "outputs": [
    {
     "name": "stdout",
     "output_type": "stream",
     "text": [
      "3\n",
      "5\n"
     ]
    }
   ],
   "source": [
    "# 110\n",
    "if True :\n",
    "    if False:\n",
    "        print(\"1\")\n",
    "        print(\"2\")\n",
    "    else:\n",
    "        print(\"3\")\n",
    "else :\n",
    "    print(\"4\")\n",
    "print(\"5\")\n",
    "# 3, 5"
   ]
  },
  {
   "cell_type": "code",
   "execution_count": 13,
   "id": "1aaf152e",
   "metadata": {},
   "outputs": [
    {
     "name": "stdout",
     "output_type": "stream",
     "text": [
      "입력해주세요안녕\n",
      "안녕안녕\n"
     ]
    }
   ],
   "source": [
    "# 111\n",
    "x = input(\"입력해주세요\")\n",
    "\n",
    "print(x*2)"
   ]
  },
  {
   "cell_type": "code",
   "execution_count": 14,
   "id": "2caf721d",
   "metadata": {},
   "outputs": [
    {
     "name": "stdout",
     "output_type": "stream",
     "text": [
      "숫자 입력해봐라30\n"
     ]
    },
    {
     "data": {
      "text/plain": [
       "40"
      ]
     },
     "execution_count": 14,
     "metadata": {},
     "output_type": "execute_result"
    }
   ],
   "source": [
    "# 112\n",
    "x = int(input(\"숫자 입력해봐라\"))\n",
    "x+10"
   ]
  },
  {
   "cell_type": "code",
   "execution_count": 15,
   "id": "ac4f2cc3",
   "metadata": {},
   "outputs": [
    {
     "name": "stdout",
     "output_type": "stream",
     "text": [
      "숫자 입력해봐라, 홀짝수 판별해드림3\n",
      "홀수\n"
     ]
    }
   ],
   "source": [
    "# 113\n",
    "x = int(input(\"숫자 입력해봐라, 홀짝수 판별해드림\"))\n",
    "if x%2==0:\n",
    "    print('짝수')\n",
    "else:\n",
    "    print('홀수')"
   ]
  },
  {
   "cell_type": "code",
   "execution_count": 17,
   "id": "676ab11f",
   "metadata": {},
   "outputs": [
    {
     "name": "stdout",
     "output_type": "stream",
     "text": [
      "숫자 입력해봐라, 20 더해드림250\n",
      "255\n"
     ]
    }
   ],
   "source": [
    "# 114\n",
    "x = int(input(\"숫자 입력해봐라, 20 더해드림\"))\n",
    "y = x + 20\n",
    "if y>255:\n",
    "    print(255)\n",
    "else:\n",
    "    print(y)"
   ]
  },
  {
   "cell_type": "code",
   "execution_count": 20,
   "id": "cdf8bcfb",
   "metadata": {},
   "outputs": [
    {
     "name": "stdout",
     "output_type": "stream",
     "text": [
      "숫자 입력해봐라150\n",
      "130\n"
     ]
    }
   ],
   "source": [
    "# 115\n",
    "x = int(input(\"숫자 입력해봐라\"))\n",
    "y = x-20\n",
    "if y < 0:\n",
    "    print(0)\n",
    "elif y> 255:\n",
    "    print(255)\n",
    "else:\n",
    "    print(y)"
   ]
  },
  {
   "cell_type": "code",
   "execution_count": 22,
   "id": "4628f77c",
   "metadata": {},
   "outputs": [
    {
     "name": "stdout",
     "output_type": "stream",
     "text": [
      "시간 입력해봐라 HH:MM 포맷으로14:23\n",
      "정시 아닙니다\n"
     ]
    }
   ],
   "source": [
    "# 116\n",
    "x = input(\"시간 입력해봐라 HH:MM 포맷으로\")\n",
    "if(x.split(\":\")[1] == \"00\"):\n",
    "    print('정시임니다')\n",
    "else:\n",
    "    print('정시 아닙니다')"
   ]
  },
  {
   "cell_type": "code",
   "execution_count": 24,
   "id": "53e278fd",
   "metadata": {},
   "outputs": [
    {
     "name": "stdout",
     "output_type": "stream",
     "text": [
      "과일이 있을 까요?포도\n",
      "있어요\n"
     ]
    }
   ],
   "source": [
    "# 117\n",
    "fruit = [\"사과\", \"포도\", \"홍시\"]\n",
    "x = input(\"과일이 있을 까요?\")\n",
    "\n",
    "if x in fruit:\n",
    "    print('있어요')\n",
    "else:\n",
    "    print('없어요')"
   ]
  },
  {
   "cell_type": "code",
   "execution_count": 27,
   "id": "541fe6fa",
   "metadata": {},
   "outputs": [
    {
     "name": "stdout",
     "output_type": "stream",
     "text": [
      "경고 종목인지 판단해드립니다.kk\n",
      "넵 괜찮습니다\n"
     ]
    }
   ],
   "source": [
    "# 118\n",
    "warn_investment_list = [\"Microsoft\", \"Google\", \"Naver\", \"Kakao\", \"SAMSUNG\", \"LG\"]\n",
    "x = input(\"경고 종목인지 판단해드립니다.\")\n",
    "\n",
    "if x in warn_investment_list:\n",
    "    print(\"경고\"*10)\n",
    "else:\n",
    "    print(\"넵 괜찮습니다\")"
   ]
  },
  {
   "cell_type": "code",
   "execution_count": 34,
   "id": "eac3803c",
   "metadata": {},
   "outputs": [
    {
     "name": "stdout",
     "output_type": "stream",
     "text": [
      "계절을 입력하세요봄\n",
      "정답입니다\n"
     ]
    }
   ],
   "source": [
    "# 119\n",
    "fruit = {\"봄\" : \"딸기\", \"여름\" : \"토마토\", \"가을\" : \"사과\"}\n",
    "x = input(\"계절을 입력하세요\")\n",
    "if x in list(fruit.keys()):\n",
    "    print('정답입니다')\n",
    "else:\n",
    "    print('오답입니다')"
   ]
  },
  {
   "cell_type": "code",
   "execution_count": 36,
   "id": "3c95c793",
   "metadata": {},
   "outputs": [
    {
     "name": "stdout",
     "output_type": "stream",
     "text": [
      "계절을 입력하세요사과과\n",
      "오답입니다\n"
     ]
    }
   ],
   "source": [
    "fruit = {\"봄\" : \"딸기\", \"여름\" : \"토마토\", \"가을\" : \"사과\"}\n",
    "x = input(\"계절을 입력하세요\")\n",
    "if x in list(fruit.values()):\n",
    "    print('정답입니다')\n",
    "else:\n",
    "    print('오답입니다')"
   ]
  },
  {
   "cell_type": "markdown",
   "id": "daec6a00",
   "metadata": {},
   "source": [
    "https://wikidocs.net/7031 이어서 진행"
   ]
  }
 ],
 "metadata": {
  "kernelspec": {
   "display_name": "Python 3 (ipykernel)",
   "language": "python",
   "name": "python3"
  },
  "language_info": {
   "codemirror_mode": {
    "name": "ipython",
    "version": 3
   },
   "file_extension": ".py",
   "mimetype": "text/x-python",
   "name": "python",
   "nbconvert_exporter": "python",
   "pygments_lexer": "ipython3",
   "version": "3.9.7"
  }
 },
 "nbformat": 4,
 "nbformat_minor": 5
}
