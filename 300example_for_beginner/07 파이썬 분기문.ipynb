{
 "cells": [
  {
   "cell_type": "code",
   "execution_count": 2,
   "id": "4eacad38",
   "metadata": {},
   "outputs": [
    {
     "data": {
      "text/plain": [
       "bool"
      ]
     },
     "execution_count": 2,
     "metadata": {},
     "output_type": "execute_result"
    }
   ],
   "source": [
    "#101\n",
    "type(True)"
   ]
  },
  {
   "cell_type": "code",
   "execution_count": 4,
   "id": "e19b4123",
   "metadata": {},
   "outputs": [
    {
     "name": "stdout",
     "output_type": "stream",
     "text": [
      "False\n"
     ]
    }
   ],
   "source": [
    "#102\n",
    "print(3==5)\n",
    "# False"
   ]
  },
  {
   "cell_type": "code",
   "execution_count": 5,
   "id": "8f37d2e6",
   "metadata": {},
   "outputs": [
    {
     "name": "stdout",
     "output_type": "stream",
     "text": [
      "True\n"
     ]
    }
   ],
   "source": [
    "# 103\n",
    "print(3<5)\n",
    "# True"
   ]
  },
  {
   "cell_type": "code",
   "execution_count": 6,
   "id": "ef51b3fd",
   "metadata": {},
   "outputs": [
    {
     "name": "stdout",
     "output_type": "stream",
     "text": [
      "True\n"
     ]
    }
   ],
   "source": [
    "# 104\n",
    "print((3==3) and (4!=3))\n",
    "# True"
   ]
  },
  {
   "cell_type": "code",
   "execution_count": 7,
   "id": "00f1cb02",
   "metadata": {},
   "outputs": [
    {
     "ename": "SyntaxError",
     "evalue": "expression cannot contain assignment, perhaps you meant \"==\"? (2378388443.py, line 2)",
     "output_type": "error",
     "traceback": [
      "\u001b[0;36m  File \u001b[0;32m\"/var/folders/83/jp6r_0zj1p39llmq2gz9rq380000gn/T/ipykernel_10507/2378388443.py\"\u001b[0;36m, line \u001b[0;32m2\u001b[0m\n\u001b[0;31m    print(3 =< 4)\u001b[0m\n\u001b[0m          ^\u001b[0m\n\u001b[0;31mSyntaxError\u001b[0m\u001b[0;31m:\u001b[0m expression cannot contain assignment, perhaps you meant \"==\"?\n"
     ]
    }
   ],
   "source": [
    "# 106\n",
    "print(3 =< 4)\n",
    "# 순서가 잘못되어서 에러남"
   ]
  },
  {
   "cell_type": "code",
   "execution_count": 8,
   "id": "62c0628d",
   "metadata": {},
   "outputs": [
    {
     "name": "stdout",
     "output_type": "stream",
     "text": [
      "right\n"
     ]
    }
   ],
   "source": [
    "# 107\n",
    "if(4>3):\n",
    "    print('right')"
   ]
  },
  {
   "cell_type": "code",
   "execution_count": 9,
   "id": "29ebc472",
   "metadata": {},
   "outputs": [
    {
     "name": "stdout",
     "output_type": "stream",
     "text": [
      "heff\n"
     ]
    }
   ],
   "source": [
    "# 108\n",
    "if 4<3:\n",
    "    print('hell')\n",
    "else:\n",
    "    print('heff')"
   ]
  },
  {
   "cell_type": "code",
   "execution_count": 10,
   "id": "7a8023ee",
   "metadata": {},
   "outputs": [
    {
     "name": "stdout",
     "output_type": "stream",
     "text": [
      "1\n",
      "2\n",
      "4\n"
     ]
    }
   ],
   "source": [
    "# 109\n",
    "if True :\n",
    "    print (\"1\")\n",
    "    print (\"2\")\n",
    "else :\n",
    "    print(\"3\")\n",
    "print(\"4\")\n",
    "\n",
    "# 1,2,4"
   ]
  },
  {
   "cell_type": "code",
   "execution_count": 11,
   "id": "59ea2da3",
   "metadata": {},
   "outputs": [
    {
     "name": "stdout",
     "output_type": "stream",
     "text": [
      "3\n",
      "5\n"
     ]
    }
   ],
   "source": [
    "# 110\n",
    "if True :\n",
    "    if False:\n",
    "        print(\"1\")\n",
    "        print(\"2\")\n",
    "    else:\n",
    "        print(\"3\")\n",
    "else :\n",
    "    print(\"4\")\n",
    "print(\"5\")\n",
    "# 3, 5"
   ]
  },
  {
   "cell_type": "code",
   "execution_count": 13,
   "id": "1aaf152e",
   "metadata": {},
   "outputs": [
    {
     "name": "stdout",
     "output_type": "stream",
     "text": [
      "입력해주세요안녕\n",
      "안녕안녕\n"
     ]
    }
   ],
   "source": [
    "# 111\n",
    "x = input(\"입력해주세요\")\n",
    "\n",
    "print(x*2)"
   ]
  },
  {
   "cell_type": "code",
   "execution_count": 14,
   "id": "2caf721d",
   "metadata": {},
   "outputs": [
    {
     "name": "stdout",
     "output_type": "stream",
     "text": [
      "숫자 입력해봐라30\n"
     ]
    },
    {
     "data": {
      "text/plain": [
       "40"
      ]
     },
     "execution_count": 14,
     "metadata": {},
     "output_type": "execute_result"
    }
   ],
   "source": [
    "# 112\n",
    "x = int(input(\"숫자 입력해봐라\"))\n",
    "x+10"
   ]
  },
  {
   "cell_type": "code",
   "execution_count": 15,
   "id": "ac4f2cc3",
   "metadata": {},
   "outputs": [
    {
     "name": "stdout",
     "output_type": "stream",
     "text": [
      "숫자 입력해봐라, 홀짝수 판별해드림3\n",
      "홀수\n"
     ]
    }
   ],
   "source": [
    "# 113\n",
    "x = int(input(\"숫자 입력해봐라, 홀짝수 판별해드림\"))\n",
    "if x%2==0:\n",
    "    print('짝수')\n",
    "else:\n",
    "    print('홀수')"
   ]
  },
  {
   "cell_type": "code",
   "execution_count": 17,
   "id": "676ab11f",
   "metadata": {},
   "outputs": [
    {
     "name": "stdout",
     "output_type": "stream",
     "text": [
      "숫자 입력해봐라, 20 더해드림250\n",
      "255\n"
     ]
    }
   ],
   "source": [
    "# 114\n",
    "x = int(input(\"숫자 입력해봐라, 20 더해드림\"))\n",
    "y = x + 20\n",
    "if y>255:\n",
    "    print(255)\n",
    "else:\n",
    "    print(y)"
   ]
  },
  {
   "cell_type": "code",
   "execution_count": 20,
   "id": "cdf8bcfb",
   "metadata": {},
   "outputs": [
    {
     "name": "stdout",
     "output_type": "stream",
     "text": [
      "숫자 입력해봐라150\n",
      "130\n"
     ]
    }
   ],
   "source": [
    "# 115\n",
    "x = int(input(\"숫자 입력해봐라\"))\n",
    "y = x-20\n",
    "if y < 0:\n",
    "    print(0)\n",
    "elif y> 255:\n",
    "    print(255)\n",
    "else:\n",
    "    print(y)"
   ]
  },
  {
   "cell_type": "code",
   "execution_count": 22,
   "id": "4628f77c",
   "metadata": {},
   "outputs": [
    {
     "name": "stdout",
     "output_type": "stream",
     "text": [
      "시간 입력해봐라 HH:MM 포맷으로14:23\n",
      "정시 아닙니다\n"
     ]
    }
   ],
   "source": [
    "# 116\n",
    "x = input(\"시간 입력해봐라 HH:MM 포맷으로\")\n",
    "if(x.split(\":\")[1] == \"00\"):\n",
    "    print('정시임니다')\n",
    "else:\n",
    "    print('정시 아닙니다')"
   ]
  },
  {
   "cell_type": "code",
   "execution_count": 24,
   "id": "53e278fd",
   "metadata": {},
   "outputs": [
    {
     "name": "stdout",
     "output_type": "stream",
     "text": [
      "과일이 있을 까요?포도\n",
      "있어요\n"
     ]
    }
   ],
   "source": [
    "# 117\n",
    "fruit = [\"사과\", \"포도\", \"홍시\"]\n",
    "x = input(\"과일이 있을 까요?\")\n",
    "\n",
    "if x in fruit:\n",
    "    print('있어요')\n",
    "else:\n",
    "    print('없어요')"
   ]
  },
  {
   "cell_type": "code",
   "execution_count": 27,
   "id": "541fe6fa",
   "metadata": {},
   "outputs": [
    {
     "name": "stdout",
     "output_type": "stream",
     "text": [
      "경고 종목인지 판단해드립니다.kk\n",
      "넵 괜찮습니다\n"
     ]
    }
   ],
   "source": [
    "# 118\n",
    "warn_investment_list = [\"Microsoft\", \"Google\", \"Naver\", \"Kakao\", \"SAMSUNG\", \"LG\"]\n",
    "x = input(\"경고 종목인지 판단해드립니다.\")\n",
    "\n",
    "if x in warn_investment_list:\n",
    "    print(\"경고\"*10)\n",
    "else:\n",
    "    print(\"넵 괜찮습니다\")"
   ]
  },
  {
   "cell_type": "code",
   "execution_count": 34,
   "id": "eac3803c",
   "metadata": {},
   "outputs": [
    {
     "name": "stdout",
     "output_type": "stream",
     "text": [
      "계절을 입력하세요봄\n",
      "정답입니다\n"
     ]
    }
   ],
   "source": [
    "# 119\n",
    "fruit = {\"봄\" : \"딸기\", \"여름\" : \"토마토\", \"가을\" : \"사과\"}\n",
    "x = input(\"계절을 입력하세요\")\n",
    "if x in list(fruit.keys()):\n",
    "    print('정답입니다')\n",
    "else:\n",
    "    print('오답입니다')"
   ]
  },
  {
   "cell_type": "code",
   "execution_count": 36,
   "id": "3c95c793",
   "metadata": {},
   "outputs": [
    {
     "name": "stdout",
     "output_type": "stream",
     "text": [
      "계절을 입력하세요사과과\n",
      "오답입니다\n"
     ]
    }
   ],
   "source": [
    "fruit = {\"봄\" : \"딸기\", \"여름\" : \"토마토\", \"가을\" : \"사과\"}\n",
    "x = input(\"계절을 입력하세요\")\n",
    "if x in list(fruit.values()):\n",
    "    print('정답입니다')\n",
    "else:\n",
    "    print('오답입니다')"
   ]
  },
  {
   "cell_type": "markdown",
   "id": "daec6a00",
   "metadata": {},
   "source": [
    "https://wikidocs.net/7031 이어서 진행"
   ]
  },
  {
   "cell_type": "code",
   "execution_count": 5,
   "id": "2bfe01bb",
   "metadata": {},
   "outputs": [
    {
     "name": "stdout",
     "output_type": "stream",
     "text": [
      "입력하세요a\n",
      "A\n"
     ]
    }
   ],
   "source": [
    "#121\n",
    "x = input('입력하세요')\n",
    "if x.islower():\n",
    "    print(x.upper())"
   ]
  },
  {
   "cell_type": "code",
   "execution_count": 6,
   "id": "e3e15283",
   "metadata": {},
   "outputs": [
    {
     "name": "stdout",
     "output_type": "stream",
     "text": [
      "점수를 입력하세요50\n",
      "C\n"
     ]
    }
   ],
   "source": [
    "#122\n",
    "x = int(input('점수를 입력하세요'))\n",
    "\n",
    "if x >80:\n",
    "    print('A')\n",
    "elif x>60:\n",
    "    print('B')\n",
    "elif x>40:\n",
    "    print('C')\n",
    "elif x>20:\n",
    "    print('D')\n",
    "else:\n",
    "    print('F')"
   ]
  },
  {
   "cell_type": "code",
   "execution_count": 9,
   "id": "4b30543b",
   "metadata": {},
   "outputs": [
    {
     "name": "stdout",
     "output_type": "stream",
     "text": [
      "입력14 위안\n",
      "2394\n"
     ]
    }
   ],
   "source": [
    "#123\n",
    "x = input('입력')\n",
    "x1 = int(x.split(' ')[0])\n",
    "x2 = x.split(' ')[1]\n",
    "\n",
    "if x2 == '달러':\n",
    "    print(x1*1167)\n",
    "elif x2 == '엔':\n",
    "    print(x1*1.096)\n",
    "elif x2 == '유로':\n",
    "    print(x1*1268)\n",
    "elif x2 == '위안':\n",
    "    print(x1*171)\n",
    "else:\n",
    "    print('다시 입력하세요')\n"
   ]
  },
  {
   "cell_type": "code",
   "execution_count": 16,
   "id": "90f12a9e",
   "metadata": {},
   "outputs": [
    {
     "name": "stdout",
     "output_type": "stream",
     "text": [
      "11\n",
      "21\n",
      "31\n",
      "1\n"
     ]
    }
   ],
   "source": [
    "#124\n",
    "x1 = input('1')\n",
    "x2 = input('2')\n",
    "x3 = input('3')\n",
    "\n",
    "if x1>x2:\n",
    "    if x1>x3:\n",
    "        print(x1)\n",
    "    else:\n",
    "        print(x3)\n",
    "\n",
    "else:\n",
    "    if x2>x3:\n",
    "        print(x2)\n",
    "    else:\n",
    "        print(x3)"
   ]
  },
  {
   "cell_type": "code",
   "execution_count": 17,
   "id": "90564fa4",
   "metadata": {},
   "outputs": [
    {
     "name": "stdout",
     "output_type": "stream",
     "text": [
      "휴대번호016-123-123\n",
      "KT\n"
     ]
    }
   ],
   "source": [
    "#125\n",
    "x = input('휴대번호')\n",
    "\n",
    "y= x.split(\"-\")[0]\n",
    "if y == \"011\":\n",
    "    print(\"SKT\")\n",
    "elif y == \"016\":\n",
    "    print(\"KT\")    \n",
    "elif y == \"019\":\n",
    "    print(\"LGU\")    \n",
    "elif y == \"010\":\n",
    "    print(\"알수없음\")    \n",
    "else:\n",
    "    print(\"다시\")"
   ]
  },
  {
   "cell_type": "code",
   "execution_count": 32,
   "id": "02f1091e",
   "metadata": {},
   "outputs": [
    {
     "name": "stdout",
     "output_type": "stream",
     "text": [
      "우편번호01903\n",
      "노원구\n"
     ]
    }
   ],
   "source": [
    "#126\n",
    "x= input('우편번호')\n",
    "\n",
    "if x[0:3] in [\"010\", \"011\",\"012\"]:\n",
    "    print(\"강북구\")\n",
    "elif x[0:3] in [\"013\", \"014\",\"015\"]:\n",
    "    print(\"도봉구\")\n",
    "elif x[0:3] in [\"016\", \"017\",\"018\",\"019\"]:\n",
    "    print(\"노원구\")\n",
    "else:\n",
    "    print(\"다시\")"
   ]
  },
  {
   "cell_type": "code",
   "execution_count": 36,
   "id": "65db43f4",
   "metadata": {},
   "outputs": [
    {
     "name": "stdout",
     "output_type": "stream",
     "text": [
      "주민번호12349352-23\n",
      "여자\n"
     ]
    }
   ],
   "source": [
    "# 127\n",
    "x = input('주민번호')\n",
    "y = int(x.split('-')[1][0:1])%2\n",
    "\n",
    "if y == 1:\n",
    "    print('남자')\n",
    "else:\n",
    "    print('여자')"
   ]
  },
  {
   "cell_type": "code",
   "execution_count": 41,
   "id": "f9379398",
   "metadata": {},
   "outputs": [
    {
     "name": "stdout",
     "output_type": "stream",
     "text": [
      "주민번호1038-1048\n",
      "서울\n"
     ]
    }
   ],
   "source": [
    "# 128\n",
    "x = input('주민번호')\n",
    "y = int(x.split('-')[1][1:3])\n",
    "\n",
    "if y <9:\n",
    "    print('서울')\n",
    "else:\n",
    "    print('서울 x')"
   ]
  },
  {
   "cell_type": "code",
   "execution_count": 56,
   "id": "47d8ecb4",
   "metadata": {},
   "outputs": [
    {
     "name": "stdout",
     "output_type": "stream",
     "text": [
      "주민번호971104-1048117\n"
     ]
    }
   ],
   "source": [
    "x=input('주민번호')\n",
    "y = (int(x[0])*2+int(x[1])*3+int(x[2])*4+int(x[3])*5+int(x[4])*6+int(x[5])*7+int(x[7])*8+int(x[8])*9+int(x[9])*2+int(x[10])*3+int(x[11])*4+int(x[12])*5)%11"
   ]
  },
  {
   "cell_type": "code",
   "execution_count": 59,
   "id": "00135170",
   "metadata": {},
   "outputs": [
    {
     "name": "stdout",
     "output_type": "stream",
     "text": [
      "유효함\n",
      "4 7\n"
     ]
    }
   ],
   "source": [
    "if 11-y == int(x[13]):\n",
    "    print(\"유효함\")\n",
    "else:\n",
    "    print(\"유효하지 않음\")\n",
    "    \n",
    "print(y, x[13])"
   ]
  },
  {
   "cell_type": "code",
   "execution_count": 60,
   "id": "f2d392d6",
   "metadata": {},
   "outputs": [],
   "source": [
    "import requests\n",
    "btc = requests.get(\"https://api.bithumb.com/public/ticker/\").json()['data']"
   ]
  },
  {
   "cell_type": "code",
   "execution_count": 63,
   "id": "58c7edfa",
   "metadata": {},
   "outputs": [
    {
     "ename": "SyntaxError",
     "evalue": "invalid syntax (976684458.py, line 2)",
     "output_type": "error",
     "traceback": [
      "\u001b[0;36m  File \u001b[0;32m\"/var/folders/83/jp6r_0zj1p39llmq2gz9rq380000gn/T/ipykernel_3948/976684458.py\"\u001b[0;36m, line \u001b[0;32m2\u001b[0m\n\u001b[0;31m    if((int(btc['max_price'])-int(btc['min_price'])+int(btc['opening_price']) > int(btc['closing_price'])):\u001b[0m\n\u001b[0m                                                                                                          ^\u001b[0m\n\u001b[0;31mSyntaxError\u001b[0m\u001b[0;31m:\u001b[0m invalid syntax\n"
     ]
    }
   ],
   "source": [
    "btc\n",
    "if((int(btc['max_price'])-int(btc['min_price'])+int(btc['opening_price']) > int(btc['closing_price'])):\n",
    "    print('상승장')\n",
    "else:\n",
    "    print('하락장')"
   ]
  }
 ],
 "metadata": {
  "kernelspec": {
   "display_name": "Python 3 (ipykernel)",
   "language": "python",
   "name": "python3"
  },
  "language_info": {
   "codemirror_mode": {
    "name": "ipython",
    "version": 3
   },
   "file_extension": ".py",
   "mimetype": "text/x-python",
   "name": "python",
   "nbconvert_exporter": "python",
   "pygments_lexer": "ipython3",
   "version": "3.9.7"
  }
 },
 "nbformat": 4,
 "nbformat_minor": 5
}
