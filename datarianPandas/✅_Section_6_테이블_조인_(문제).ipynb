{
 "cells": [
  {
   "cell_type": "markdown",
   "metadata": {
    "id": "LhhsboexbtXs"
   },
   "source": [
    "# 문제풀이 Overview\n",
    "이번 문제풀이에서는 총 3개의 문제와 1개의 자유주제를 다룹니다.    \n",
    "문제를 본격적으로 풀기 전에 아래 코드를 실행해 pandas 라이브러리를 임포트하고 데이터를 읽어와주세요.\n",
    "\n"
   ]
  },
  {
   "cell_type": "code",
   "execution_count": null,
   "metadata": {
    "id": "OMTVbx8vw45d"
   },
   "outputs": [],
   "source": [
    "import pandas as pd"
   ]
  },
  {
   "cell_type": "code",
   "execution_count": null,
   "metadata": {
    "id": "ALdwcdTpbwfn"
   },
   "outputs": [],
   "source": [
    "kor_team = pd.read_csv('https://raw.githubusercontent.com/datarian-kr/pandas/main/data/volleyball_olympics2020_20210731/kor_team_rosters.csv')\n",
    "jpn_team = pd.read_csv('https://raw.githubusercontent.com/datarian-kr/pandas/main/data/volleyball_olympics2020_20210731/jpn_team_rosters.csv')\n",
    "set5_play = pd.read_csv('https://raw.githubusercontent.com/datarian-kr/pandas/main/data/volleyball_olympics2020_20210731/jpn-kor_set5_play.csv')"
   ]
  },
  {
   "cell_type": "markdown",
   "metadata": {
    "id": "R1zBt3QTe2DC"
   },
   "source": [
    "# 데이터 설명\n",
    "\n",
    "섹션2 문제풀이에서 다뤘던 2020 도쿄 하계올림픽 여자배구 데이터를 기억하시나요?    \n",
    "한국 팀 프로필 데이터 `kor_team`을 이번 섹션에서 다시 만납니다.    \n",
    "`jpn_team`은 `kor_team`과 동일한 구조의 일본 팀 프로필 데이터입니다. "
   ]
  },
  {
   "cell_type": "markdown",
   "metadata": {
    "id": "spMVDs67CCcs"
   },
   "source": [
    "**컬럼 상세**\n",
    "\n",
    "- player_no: 선수 유니폼 번호 (선수가 아닌 경우 null)\n",
    "- player_name: 이름\n",
    "- shirt_name: 선수 유니폼에 명시된 이름 (선수가 아닌 경우 null)\n",
    "- position: 포지션\n",
    "- hand: 사용하는 손 (선수가 아닌 경우 null)\n",
    "- height: 신장 cm (선수가 아닌 경우 null)\n",
    "- highest_reach_spike: 스파이크 높이 최고 기록 cm (선수가 아닌 경우 null)\n",
    "- highest_reach_block: 블로킹 높이 최고 기록 cm (선수가 아닌 경우 null)\n",
    "- date_of_birth: 선수 생년월일 (선수가 아닌 경우 null)"
   ]
  },
  {
   "cell_type": "markdown",
   "metadata": {
    "id": "-wM7DPn_CTu7"
   },
   "source": [
    "`set5_play`는 2020 도쿄 하계올림픽의 여자배구 경기 중 2021-07-31에 진행된 한일전의 마지막 세트인 5세트의 경기 기록 데이터입니다."
   ]
  },
  {
   "cell_type": "markdown",
   "metadata": {
    "id": "zLukethiEEWc"
   },
   "source": [
    "**컬럼 상세**\n",
    "- rally: 랠리 (양편의 타구가 계속 이어지는 시간의 단위)\n",
    "- point_team: 해당 랠리에서 득점을 한 팀\n",
    "- action_team: 득점을 결정지은 액션을 한 팀\n",
    "- player_no: 득점을 결정지은 액션을 한 선수의 유니폼 번호\n",
    "- action: 득점을 결정지은 액션의 종류\n",
    "- point_error: action의 성공(point) 또는 실패(error)\n",
    "    - 성공(point)일 때, action_team(액션 팀)과 point_team(득점 팀)은 동일합니다.\n",
    "    - 실패(error)일 때, 상대 팀이 득점하게 되므로 action_team(액션 팀)과 point_team(득점 팀)은 서로 다릅니다. "
   ]
  },
  {
   "cell_type": "markdown",
   "metadata": {
    "id": "0IdwcE7IFiF0"
   },
   "source": [
    "**경기 상황에 따른 컬럼 값**\n",
    "- 랠리 176(첫번째 행): 한국 팀(action_team)의 14번 선수(player_no)가 스파이크(action)를 성공(point_error)해서, 한국 팀(point_team)이 득점합니다.\n",
    "- 랠리 177(두번째 행): 한국 팀(action_team)의 11번 선수(player_no)가 서브(action)를 실패(point_error)해서, 일본 팀(point_team)이 득점합니다. "
   ]
  },
  {
   "cell_type": "code",
   "execution_count": null,
   "metadata": {
    "colab": {
     "base_uri": "https://localhost:8080/",
     "height": 111
    },
    "id": "qHGMccdyp_zV",
    "outputId": "b0b18149-137b-4925-cc73-8fb2bf0096b6"
   },
   "outputs": [
    {
     "data": {
      "text/html": [
       "<div>\n",
       "<style scoped>\n",
       "    .dataframe tbody tr th:only-of-type {\n",
       "        vertical-align: middle;\n",
       "    }\n",
       "\n",
       "    .dataframe tbody tr th {\n",
       "        vertical-align: top;\n",
       "    }\n",
       "\n",
       "    .dataframe thead th {\n",
       "        text-align: right;\n",
       "    }\n",
       "</style>\n",
       "<table border=\"1\" class=\"dataframe\">\n",
       "  <thead>\n",
       "    <tr style=\"text-align: right;\">\n",
       "      <th></th>\n",
       "      <th>rally</th>\n",
       "      <th>point_team</th>\n",
       "      <th>action_team</th>\n",
       "      <th>player_no</th>\n",
       "      <th>action</th>\n",
       "      <th>point_error</th>\n",
       "    </tr>\n",
       "  </thead>\n",
       "  <tbody>\n",
       "    <tr>\n",
       "      <th>0</th>\n",
       "      <td>176</td>\n",
       "      <td>kor</td>\n",
       "      <td>kor</td>\n",
       "      <td>14</td>\n",
       "      <td>spike</td>\n",
       "      <td>point</td>\n",
       "    </tr>\n",
       "    <tr>\n",
       "      <th>1</th>\n",
       "      <td>177</td>\n",
       "      <td>jpn</td>\n",
       "      <td>kor</td>\n",
       "      <td>11</td>\n",
       "      <td>serve</td>\n",
       "      <td>error</td>\n",
       "    </tr>\n",
       "  </tbody>\n",
       "</table>\n",
       "</div>"
      ],
      "text/plain": [
       "   rally point_team action_team  player_no action point_error\n",
       "0    176        kor         kor         14  spike       point\n",
       "1    177        jpn         kor         11  serve       error"
      ]
     },
     "execution_count": 3,
     "metadata": {},
     "output_type": "execute_result"
    }
   ],
   "source": [
    "set5_play[set5_play['rally'].isin([176, 177])]"
   ]
  },
  {
   "cell_type": "markdown",
   "metadata": {
    "id": "DDSBefvadFpq"
   },
   "source": [
    "# 데이터 미리보기"
   ]
  },
  {
   "cell_type": "code",
   "execution_count": null,
   "metadata": {
    "colab": {
     "base_uri": "https://localhost:8080/",
     "height": 204
    },
    "id": "7mh6yh1Gb5k0",
    "outputId": "f9761609-4383-4ddc-8433-93dcf09c8812"
   },
   "outputs": [
    {
     "data": {
      "text/html": [
       "<div>\n",
       "<style scoped>\n",
       "    .dataframe tbody tr th:only-of-type {\n",
       "        vertical-align: middle;\n",
       "    }\n",
       "\n",
       "    .dataframe tbody tr th {\n",
       "        vertical-align: top;\n",
       "    }\n",
       "\n",
       "    .dataframe thead th {\n",
       "        text-align: right;\n",
       "    }\n",
       "</style>\n",
       "<table border=\"1\" class=\"dataframe\">\n",
       "  <thead>\n",
       "    <tr style=\"text-align: right;\">\n",
       "      <th></th>\n",
       "      <th>player_no</th>\n",
       "      <th>player_name</th>\n",
       "      <th>shirt_name</th>\n",
       "      <th>position</th>\n",
       "      <th>hand</th>\n",
       "      <th>height</th>\n",
       "      <th>highest_reach_spike</th>\n",
       "      <th>highest_reach_block</th>\n",
       "      <th>date_of_birth</th>\n",
       "    </tr>\n",
       "  </thead>\n",
       "  <tbody>\n",
       "    <tr>\n",
       "      <th>0</th>\n",
       "      <td>1.0</td>\n",
       "      <td>KUROGO Ai</td>\n",
       "      <td>KUROGO</td>\n",
       "      <td>Outside Hitter</td>\n",
       "      <td>Right</td>\n",
       "      <td>180.0</td>\n",
       "      <td>306.0</td>\n",
       "      <td>295.0</td>\n",
       "      <td>1998-06-14</td>\n",
       "    </tr>\n",
       "    <tr>\n",
       "      <th>1</th>\n",
       "      <td>2.0</td>\n",
       "      <td>KOGA Sarina</td>\n",
       "      <td>KOGA</td>\n",
       "      <td>Outside Hitter</td>\n",
       "      <td>Right</td>\n",
       "      <td>180.0</td>\n",
       "      <td>307.0</td>\n",
       "      <td>290.0</td>\n",
       "      <td>1996-05-21</td>\n",
       "    </tr>\n",
       "    <tr>\n",
       "      <th>2</th>\n",
       "      <td>3.0</td>\n",
       "      <td>TASHIRO Kanami</td>\n",
       "      <td>TASHIRO</td>\n",
       "      <td>Setter</td>\n",
       "      <td>Right</td>\n",
       "      <td>173.0</td>\n",
       "      <td>289.0</td>\n",
       "      <td>273.0</td>\n",
       "      <td>1991-03-25</td>\n",
       "    </tr>\n",
       "    <tr>\n",
       "      <th>3</th>\n",
       "      <td>4.0</td>\n",
       "      <td>ISHIKAWA Mayu</td>\n",
       "      <td>ISHIKAWA</td>\n",
       "      <td>Outside Hitter</td>\n",
       "      <td>Right</td>\n",
       "      <td>173.0</td>\n",
       "      <td>300.0</td>\n",
       "      <td>290.0</td>\n",
       "      <td>2000-05-14</td>\n",
       "    </tr>\n",
       "    <tr>\n",
       "      <th>4</th>\n",
       "      <td>5.0</td>\n",
       "      <td>SHIMAMURA Haruyo</td>\n",
       "      <td>SHIMAMURA</td>\n",
       "      <td>Middle Blocker</td>\n",
       "      <td>Right</td>\n",
       "      <td>182.0</td>\n",
       "      <td>297.0</td>\n",
       "      <td>290.0</td>\n",
       "      <td>1992-03-04</td>\n",
       "    </tr>\n",
       "  </tbody>\n",
       "</table>\n",
       "</div>"
      ],
      "text/plain": [
       "   player_no       player_name  ... highest_reach_block date_of_birth\n",
       "0        1.0         KUROGO Ai  ...               295.0    1998-06-14\n",
       "1        2.0       KOGA Sarina  ...               290.0    1996-05-21\n",
       "2        3.0    TASHIRO Kanami  ...               273.0    1991-03-25\n",
       "3        4.0     ISHIKAWA Mayu  ...               290.0    2000-05-14\n",
       "4        5.0  SHIMAMURA Haruyo  ...               290.0    1992-03-04\n",
       "\n",
       "[5 rows x 9 columns]"
      ]
     },
     "execution_count": 4,
     "metadata": {},
     "output_type": "execute_result"
    }
   ],
   "source": [
    "jpn_team.head()"
   ]
  },
  {
   "cell_type": "code",
   "execution_count": null,
   "metadata": {
    "colab": {
     "base_uri": "https://localhost:8080/",
     "height": 204
    },
    "id": "XV-GOZEre9-1",
    "outputId": "659b0ef2-268e-4987-c4b2-a7bfd2450ff8"
   },
   "outputs": [
    {
     "data": {
      "text/html": [
       "<div>\n",
       "<style scoped>\n",
       "    .dataframe tbody tr th:only-of-type {\n",
       "        vertical-align: middle;\n",
       "    }\n",
       "\n",
       "    .dataframe tbody tr th {\n",
       "        vertical-align: top;\n",
       "    }\n",
       "\n",
       "    .dataframe thead th {\n",
       "        text-align: right;\n",
       "    }\n",
       "</style>\n",
       "<table border=\"1\" class=\"dataframe\">\n",
       "  <thead>\n",
       "    <tr style=\"text-align: right;\">\n",
       "      <th></th>\n",
       "      <th>rally</th>\n",
       "      <th>point_team</th>\n",
       "      <th>action_team</th>\n",
       "      <th>player_no</th>\n",
       "      <th>action</th>\n",
       "      <th>point_error</th>\n",
       "    </tr>\n",
       "  </thead>\n",
       "  <tbody>\n",
       "    <tr>\n",
       "      <th>0</th>\n",
       "      <td>176</td>\n",
       "      <td>kor</td>\n",
       "      <td>kor</td>\n",
       "      <td>14</td>\n",
       "      <td>spike</td>\n",
       "      <td>point</td>\n",
       "    </tr>\n",
       "    <tr>\n",
       "      <th>1</th>\n",
       "      <td>177</td>\n",
       "      <td>jpn</td>\n",
       "      <td>kor</td>\n",
       "      <td>11</td>\n",
       "      <td>serve</td>\n",
       "      <td>error</td>\n",
       "    </tr>\n",
       "    <tr>\n",
       "      <th>2</th>\n",
       "      <td>178</td>\n",
       "      <td>kor</td>\n",
       "      <td>kor</td>\n",
       "      <td>10</td>\n",
       "      <td>spike</td>\n",
       "      <td>point</td>\n",
       "    </tr>\n",
       "    <tr>\n",
       "      <th>3</th>\n",
       "      <td>179</td>\n",
       "      <td>jpn</td>\n",
       "      <td>jpn</td>\n",
       "      <td>2</td>\n",
       "      <td>spike</td>\n",
       "      <td>point</td>\n",
       "    </tr>\n",
       "    <tr>\n",
       "      <th>4</th>\n",
       "      <td>180</td>\n",
       "      <td>kor</td>\n",
       "      <td>kor</td>\n",
       "      <td>10</td>\n",
       "      <td>spike</td>\n",
       "      <td>point</td>\n",
       "    </tr>\n",
       "  </tbody>\n",
       "</table>\n",
       "</div>"
      ],
      "text/plain": [
       "   rally point_team action_team  player_no action point_error\n",
       "0    176        kor         kor         14  spike       point\n",
       "1    177        jpn         kor         11  serve       error\n",
       "2    178        kor         kor         10  spike       point\n",
       "3    179        jpn         jpn          2  spike       point\n",
       "4    180        kor         kor         10  spike       point"
      ]
     },
     "execution_count": 5,
     "metadata": {},
     "output_type": "execute_result"
    }
   ],
   "source": [
    "set5_play.head()"
   ]
  },
  {
   "cell_type": "markdown",
   "metadata": {
    "id": "MjbSJMyaIjyn"
   },
   "source": [
    "# Q1. 탐색적 데이터 분석\n",
    "\n",
    "[탐색적 데이터 분석(EDA, Exploratory Data Analysis)](https://en.wikipedia.org/wiki/Exploratory_data_analysis)이란 본격적인 데이터 분석을 시작하기 전에, 그래프나 기초 통계를 이용하여 주어진 자료를 파악하는 과정입니다.\n",
    "\n",
    "**아래의 간단한 질문들에 답하며 EDA를 시작해 볼까요?**\n",
    "- 각 팀에는 포지션 별 선수가 몇 명씩 있나요?\n",
    "- 각 팀 선수들의 신장은 어떻게 되나요? 한국팀의 평균 신장과 일본 팀의 평균 신장을 비교해보는 것도 좋겠네요. \n",
    "- 선수들의 신장이 가장 큰 포지션은 어떤 포지션인가요?"
   ]
  },
  {
   "cell_type": "code",
   "execution_count": null,
   "metadata": {
    "id": "tpnEDfsOJdw-"
   },
   "outputs": [],
   "source": [
    "# Answer"
   ]
  },
  {
   "cell_type": "markdown",
   "metadata": {
    "id": "uZBCJeMAdyI9"
   },
   "source": [
    "# Q2. 두 팀의 프로필 데이터를 합쳐 하나의 테이블로 만들기 \n",
    "한국 팀과 일본 팀의 프로필 데이터가 각각의 테이블로 나눠져 있습니다.    \n",
    "이 두 테이블을 하나로 합쳐서 새로운 테이블 `team_rosters`를 생성해 주세요.    \n",
    "다음과 같이 각 선수의 소속 팀을 알 수 있도록 만들어 주세요.    \n",
    "\n",
    "team | player_no | player_name\n",
    "-|-|-\n",
    "kor | 1 | LEE Soyoung\n",
    "jpn | 1 | KUROGO Ai\t\n",
    "\n",
    "<br> \n",
    "\n",
    "- Step 1. 두 테이블을 위아래로 이어 붙여 `team_rosters` 변수에 저장. 이 과정에서 각 팀명 'kor', 'jpn'을 인덱스로 추가해 주세요.\n",
    "- Step 2. 팀 명을 나타내는 인덱스를 컬럼으로 만들기 `Hint. reset_index(level=0)`\n",
    "- Step 3. 그 컬럼의 이름을 'team'으로 변경\n",
    "\n",
    "`Tip. 각 스텝이 끝날 때마다 head(), tail(), sample()을 사용해 데이터를 확인해 가면서 진행하면 잘 하고 있는지를 알 수 있어요!` \n"
   ]
  },
  {
   "cell_type": "code",
   "execution_count": null,
   "metadata": {
    "id": "vzZeUTdRQgbE"
   },
   "outputs": [],
   "source": [
    "# step 1"
   ]
  },
  {
   "cell_type": "code",
   "execution_count": null,
   "metadata": {
    "id": "6HovKxsbRVuK"
   },
   "outputs": [],
   "source": [
    "# step 2 "
   ]
  },
  {
   "cell_type": "code",
   "execution_count": null,
   "metadata": {
    "id": "v8elb3EYRwBw"
   },
   "outputs": [],
   "source": [
    "# step 3"
   ]
  },
  {
   "cell_type": "markdown",
   "metadata": {
    "id": "mHNLOnerfu8f"
   },
   "source": [
    "# Q3. 액션별 득점 선수 이름 찾기\n",
    "각 액션으로 어느 팀의 어느 선수가 몇 개의 랠리에서 득점했는지 알아 봅시다.    \n",
    "Q2를 풀면서 만든 `team_rosters` 테이블을 활용해 선수들의 이름을 찾아 불러 주세요!    \n",
    " \n",
    "- Step 1.  `set5_play` 테이블에서 액션이 성공(point)한 데이터만 가져와 `points` 테이블 생성\n",
    "- Step 2. `points`를 사용해 득점으로 이어진 액션 종류에 어떤 것들이 있는지 알아보기\n",
    "- Step 3. `points`를 사용해 액션, 팀, 선수 번호별 득점 랠리 개수를 구해 `points_player` 테이블 생성\n",
    "    - Step 3 Output 예시   \n",
    "\n",
    "action | action_team | player_no | rally\n",
    "-|-|-|-\n",
    "block | jpn | 11 | 1\n",
    "spike | kor | 10 | 4\n",
    "\n",
    "- Step 4. `points_player`에 선수 이름 컬럼 `player_name`을 추가하기 (해당 컬럼은 `team_rosters` 테이블에서 가져와 주세요.) \n",
    "    - Step 4 Output 예시   \n",
    "\n",
    "action | action_team | player_no | rally | player_name\n",
    "-|-|-|-|-\n",
    "block | jpn | 11 | 1 | ARAKI Erika (c)\n",
    "spike | kor | 10 | 4 | KIM Yeon Koung (c)"
   ]
  },
  {
   "cell_type": "code",
   "execution_count": null,
   "metadata": {
    "id": "NUs-WNn8USFW"
   },
   "outputs": [],
   "source": [
    "# step 1"
   ]
  },
  {
   "cell_type": "code",
   "execution_count": null,
   "metadata": {
    "id": "BXeRE38ziz6F"
   },
   "outputs": [],
   "source": [
    "# step 2"
   ]
  },
  {
   "cell_type": "code",
   "execution_count": null,
   "metadata": {
    "id": "cu6kaxaqFKFF"
   },
   "outputs": [],
   "source": [
    "# step 3"
   ]
  },
  {
   "cell_type": "code",
   "execution_count": null,
   "metadata": {
    "id": "-YV_OJUshqkd"
   },
   "outputs": [],
   "source": [
    "# step 4"
   ]
  },
  {
   "cell_type": "markdown",
   "metadata": {
    "id": "U2cEZu-MtMAZ"
   },
   "source": [
    "### 질문\n",
    "* 질문: 득점으로 이어진 액션 종류에는 어떤 것들이 있나요? 각 액션으로 가장 많은 랠리에서 득점을 낸 선수의 이름은 무엇인가요?\n",
    "* 답변: "
   ]
  },
  {
   "cell_type": "markdown",
   "metadata": {
    "id": "5k6b94HwQMUs"
   },
   "source": [
    "# Q4. 여러분들의 분석 아이디어를 들려주세요.\n",
    "배구 데이터로 또 어떤 재미있는 분석을 해 볼 수 있을까요?   \n",
    "\n",
    "여러분들의 분석 내용을 인프런 블로그 또는 개인 블로그에 `#데이터리안` `#판다스공부` `#TIL` 해시태그로 공유해주세요! `velog.io`, `brunch`, `medium` 등 개인 블로그에 올리신 분들은 인프런 블로그로 링크를 올려주시면 저희가 검색해서 찾아갈 수 있을 것 같아요.\n",
    "\n",
    "분석 내용 뿐 아니라 노트북 자체를 공유하고 싶은 분들은 아래 예시를 참고해주세요.\n",
    "* [nbviewer 예시](https://nbviewer.jupyter.org/github/dataitgirls3/Teaching-Materials/blob/master/2019-09-09%20Pandas%20%EC%88%98%EC%97%85%20%EB%B3%B4%EC%B6%A9%EC%9E%90%EB%A3%8C.ipynb)\n",
    "* [github 예시](https://github.com/dataitgirls3/Teaching-Materials/blob/master/Comprehension.ipynb)\n",
    "\n",
    "인프런 블로그에 올리실 때 `#데이터리안` `#판다스공부` 해시태그 다는거 잊지 말아주세요!"
   ]
  },
  {
   "cell_type": "code",
   "execution_count": null,
   "metadata": {
    "id": "y-Zla8y28HDU"
   },
   "outputs": [],
   "source": [
    "# 여러분들의 분석 아이디어를 들려주세요!"
   ]
  },
  {
   "cell_type": "markdown",
   "metadata": {
    "id": "s4sU7uOFWDCM"
   },
   "source": [
    "# 수고하셨습니다!\n",
    "섹션 7에서 만나요!"
   ]
  }
 ],
 "metadata": {
  "colab": {
   "collapsed_sections": [],
   "provenance": [],
   "toc_visible": true
  },
  "kernelspec": {
   "display_name": "Python 3",
   "name": "python3"
  },
  "language_info": {
   "name": "python"
  }
 },
 "nbformat": 4,
 "nbformat_minor": 0
}
