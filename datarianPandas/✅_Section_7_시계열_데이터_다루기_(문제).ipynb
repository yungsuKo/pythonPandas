{
 "cells": [
  {
   "cell_type": "markdown",
   "metadata": {
    "id": "S54gqH5Pb9Ub"
   },
   "source": [
    "# 문제풀이 Overview\n",
    "\n",
    "* 이번 문제풀이에서는 이커머스 데이터를 이용해 지난 1년간 사업 성과를 측정하고, 매출에 가장 많이 기여한 카테고리를 분석합니다.\n",
    "* 문제를 본격적으로 풀기 전에 아래 코드를 실행해 `pandas` 라이브러리를 임포트하고 데이터를 읽어와주세요."
   ]
  },
  {
   "cell_type": "code",
   "execution_count": 1,
   "metadata": {
    "id": "zMJCqrcFgp9-"
   },
   "outputs": [],
   "source": [
    "import pandas as pd"
   ]
  },
  {
   "cell_type": "code",
   "execution_count": 2,
   "metadata": {
    "id": "omw4bbbKgxqi"
   },
   "outputs": [],
   "source": [
    "orders = pd.read_csv('https://raw.githubusercontent.com/datarian-kr/pandas/main/data/e-commerce/orders.csv', parse_dates=['Order Date'])\n",
    "order_details = pd.read_csv('https://raw.githubusercontent.com/datarian-kr/pandas/main/data/e-commerce/order_details.csv')"
   ]
  },
  {
   "cell_type": "markdown",
   "metadata": {
    "id": "LLynYu5kg2wt"
   },
   "source": [
    "# 데이터 설명\n",
    "\n",
    "`orders`는 주문 목록이, `order_details`는 앞서 섹션 4에서 살펴봤던 주문 상세 내역이 담겨 있는 테이블 입니다."
   ]
  },
  {
   "cell_type": "markdown",
   "metadata": {
    "id": "lGzW8qSSFgUW"
   },
   "source": [
    "**컬럼 상세** \n",
    "1. **`orders`**\n",
    "  * `Order ID`: 주문 ID\n",
    "  * `Order Date`: 주문 날짜\n",
    "  * `Customer Name`: 고객명\n",
    "  * `State`: 주\n",
    "  * `City`: 도시\n",
    "2. **`order_details`**\n",
    " * `Order ID`: 주문 ID\n",
    " * `Amount`: 주문 가격\n",
    " * `Profit`: 판매 수익\n",
    " * `Quantity`: 주문량\n",
    " * `Category`: 상품 카테고리\n",
    " * `Sub-Category`: 세부 카테고리 \n",
    "\n",
    "\n",
    "\n",
    "참고: https://www.kaggle.com/benroshan/ecommerce-data/version/2?select=Order+Details.csv\n"
   ]
  },
  {
   "cell_type": "markdown",
   "metadata": {
    "id": "m0HprnEmgQlo"
   },
   "source": [
    "# 데이터 미리보기"
   ]
  },
  {
   "cell_type": "code",
   "execution_count": 3,
   "metadata": {
    "colab": {
     "base_uri": "https://localhost:8080/",
     "height": 111
    },
    "id": "nhAJ1wNj8swd",
    "outputId": "5361bd03-592b-45db-892e-1134bd494b32"
   },
   "outputs": [
    {
     "data": {
      "text/html": [
       "<div>\n",
       "<style scoped>\n",
       "    .dataframe tbody tr th:only-of-type {\n",
       "        vertical-align: middle;\n",
       "    }\n",
       "\n",
       "    .dataframe tbody tr th {\n",
       "        vertical-align: top;\n",
       "    }\n",
       "\n",
       "    .dataframe thead th {\n",
       "        text-align: right;\n",
       "    }\n",
       "</style>\n",
       "<table border=\"1\" class=\"dataframe\">\n",
       "  <thead>\n",
       "    <tr style=\"text-align: right;\">\n",
       "      <th></th>\n",
       "      <th>Order ID</th>\n",
       "      <th>Order Date</th>\n",
       "      <th>CustomerName</th>\n",
       "      <th>State</th>\n",
       "      <th>City</th>\n",
       "    </tr>\n",
       "  </thead>\n",
       "  <tbody>\n",
       "    <tr>\n",
       "      <th>0</th>\n",
       "      <td>B-25601</td>\n",
       "      <td>2018-04-01</td>\n",
       "      <td>Bharat</td>\n",
       "      <td>Gujarat</td>\n",
       "      <td>Ahmedabad</td>\n",
       "    </tr>\n",
       "    <tr>\n",
       "      <th>1</th>\n",
       "      <td>B-25602</td>\n",
       "      <td>2018-04-01</td>\n",
       "      <td>Pearl</td>\n",
       "      <td>Maharashtra</td>\n",
       "      <td>Pune</td>\n",
       "    </tr>\n",
       "  </tbody>\n",
       "</table>\n",
       "</div>"
      ],
      "text/plain": [
       "  Order ID Order Date CustomerName        State       City\n",
       "0  B-25601 2018-04-01       Bharat      Gujarat  Ahmedabad\n",
       "1  B-25602 2018-04-01        Pearl  Maharashtra       Pune"
      ]
     },
     "execution_count": 3,
     "metadata": {},
     "output_type": "execute_result"
    }
   ],
   "source": [
    "orders.head(2)"
   ]
  },
  {
   "cell_type": "code",
   "execution_count": 4,
   "metadata": {
    "colab": {
     "base_uri": "https://localhost:8080/",
     "height": 111
    },
    "id": "HjvywxuH8mj2",
    "outputId": "dec4e0d5-f939-45e6-a8c4-2d77baba48b8"
   },
   "outputs": [
    {
     "data": {
      "text/html": [
       "<div>\n",
       "<style scoped>\n",
       "    .dataframe tbody tr th:only-of-type {\n",
       "        vertical-align: middle;\n",
       "    }\n",
       "\n",
       "    .dataframe tbody tr th {\n",
       "        vertical-align: top;\n",
       "    }\n",
       "\n",
       "    .dataframe thead th {\n",
       "        text-align: right;\n",
       "    }\n",
       "</style>\n",
       "<table border=\"1\" class=\"dataframe\">\n",
       "  <thead>\n",
       "    <tr style=\"text-align: right;\">\n",
       "      <th></th>\n",
       "      <th>Order ID</th>\n",
       "      <th>Amount</th>\n",
       "      <th>Profit</th>\n",
       "      <th>Quantity</th>\n",
       "      <th>Category</th>\n",
       "      <th>Sub-Category</th>\n",
       "    </tr>\n",
       "  </thead>\n",
       "  <tbody>\n",
       "    <tr>\n",
       "      <th>0</th>\n",
       "      <td>B-25601</td>\n",
       "      <td>1275</td>\n",
       "      <td>(1148)</td>\n",
       "      <td>7</td>\n",
       "      <td>Furniture</td>\n",
       "      <td>Bookcases</td>\n",
       "    </tr>\n",
       "    <tr>\n",
       "      <th>1</th>\n",
       "      <td>B-25601</td>\n",
       "      <td>66</td>\n",
       "      <td>(12)</td>\n",
       "      <td>5</td>\n",
       "      <td>Clothing</td>\n",
       "      <td>Stole</td>\n",
       "    </tr>\n",
       "  </tbody>\n",
       "</table>\n",
       "</div>"
      ],
      "text/plain": [
       "  Order ID  Amount  Profit  Quantity   Category Sub-Category\n",
       "0  B-25601    1275  (1148)         7  Furniture    Bookcases\n",
       "1  B-25601      66    (12)         5   Clothing        Stole"
      ]
     },
     "execution_count": 4,
     "metadata": {},
     "output_type": "execute_result"
    }
   ],
   "source": [
    "order_details.head(2)"
   ]
  },
  {
   "cell_type": "markdown",
   "metadata": {
    "id": "eNlfSfK77_eH"
   },
   "source": [
    "# Q1. 탐색적 데이터 분석\n",
    "\n",
    "데이터를 탐색해봅시다.\n",
    "\n",
    "**아래의 간단한 질문들에 답하며 EDA를 시작해도 좋습니다.**\n",
    "* 각 테이블에는 몇 개의 데이터가 있나요?\n",
    "* `orders` 테이블에는 언제부터 언제까지의 주문 내역이 있나요?\n",
    "* 섹션 7에서 처음 다루는 `orders` 테이블에는 어떤 데이터가 들어있을까요? `order_details`와는 어떤 관계일까요?"
   ]
  },
  {
   "cell_type": "code",
   "execution_count": 5,
   "metadata": {
    "id": "bR504gOcbqe6"
   },
   "outputs": [
    {
     "name": "stdout",
     "output_type": "stream",
     "text": [
      "<class 'pandas.core.frame.DataFrame'>\n",
      "RangeIndex: 1500 entries, 0 to 1499\n",
      "Data columns (total 6 columns):\n",
      " #   Column        Non-Null Count  Dtype \n",
      "---  ------        --------------  ----- \n",
      " 0   Order ID      1500 non-null   object\n",
      " 1   Amount        1500 non-null   int64 \n",
      " 2   Profit        1500 non-null   object\n",
      " 3   Quantity      1500 non-null   int64 \n",
      " 4   Category      1500 non-null   object\n",
      " 5   Sub-Category  1500 non-null   object\n",
      "dtypes: int64(2), object(4)\n",
      "memory usage: 70.4+ KB\n"
     ]
    }
   ],
   "source": [
    "# Answer \n",
    "order_details.info()"
   ]
  },
  {
   "cell_type": "markdown",
   "metadata": {
    "id": "7sx454GRg6C4"
   },
   "source": [
    "# Q2. 월별 주문 건 수 집계하기\n",
    "\n",
    "2018년 4월에 시작한 이커머스 사업이 1주년을 맞이했습니다. 그동안 1년 간의 실적은 어땠는지, 어떤 카테고리가 매출에 가장 많이 기여했는지 데이터로 확인해보려고 합니다. \n",
    "\n",
    "우선 월별로 주문 건 수는 어떻게 변화해왔는지 데이터로 살펴볼까요?"
   ]
  },
  {
   "cell_type": "markdown",
   "metadata": {
    "id": "WiCumgr_TO2T"
   },
   "source": [
    "## 방법 1. dt accessor 사용하기\n",
    "\n",
    "* Step 1. `dt.year`, `dt.month`를 이용하여 연도, 월을 나타내는 새로운 컬럼을 만들어보세요. 컬럼 이름은 각각 `year`, `month`로 저장하세요.\n",
    "* Stpe 2. 월 별 주문 건 수를 집계하여 `monthly_orders` 라는 새로운 테이블에 저장해보세요.\n",
    "* Step 3. `monthly_orders`의 데이터를 **라인그래프**로 표현해보세요. Hint. [`pandas.Series.plot()`](https://pandas.pydata.org/docs/reference/api/pandas.Series.plot.html) 함수를 활용하세요.\n",
    "\n",
    "<br>\n",
    "\n",
    "Output 예시\n",
    "\n",
    "\n",
    "![](data:image/png;base64,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)"
   ]
  },
  {
   "cell_type": "code",
   "execution_count": 8,
   "metadata": {
    "id": "b7F54hxnWlfL"
   },
   "outputs": [
    {
     "name": "stdout",
     "output_type": "stream",
     "text": [
      "<class 'pandas.core.frame.DataFrame'>\n",
      "RangeIndex: 500 entries, 0 to 499\n",
      "Data columns (total 5 columns):\n",
      " #   Column        Non-Null Count  Dtype         \n",
      "---  ------        --------------  -----         \n",
      " 0   Order ID      500 non-null    object        \n",
      " 1   Order Date    500 non-null    datetime64[ns]\n",
      " 2   CustomerName  500 non-null    object        \n",
      " 3   State         500 non-null    object        \n",
      " 4   City          500 non-null    object        \n",
      "dtypes: datetime64[ns](1), object(4)\n",
      "memory usage: 19.7+ KB\n"
     ]
    }
   ],
   "source": [
    "# Answer\n",
    "orders['Order Date'] =pd.to_datetime(orders['Order Date'])\n",
    "orders.info()"
   ]
  },
  {
   "cell_type": "code",
   "execution_count": 9,
   "metadata": {},
   "outputs": [],
   "source": [
    "orders['year'] = orders['Order Date'].dt.year\n",
    "orders['month'] = orders['Order Date'].dt.month"
   ]
  },
  {
   "cell_type": "code",
   "execution_count": 10,
   "metadata": {},
   "outputs": [
    {
     "data": {
      "text/plain": [
       "<AxesSubplot:xlabel='year,month'>"
      ]
     },
     "execution_count": 10,
     "metadata": {},
     "output_type": "execute_result"
    },
    {
     "data": {
      "image/png": "[encoded data removed]",
      "text/plain": [
       "<Figure size 432x288 with 1 Axes>"
      ]
     },
     "metadata": {
      "needs_background": "light"
     },
     "output_type": "display_data"
    }
   ],
   "source": [
    "orders.groupby(['year','month'])['Order ID'].count().plot()"
   ]
  },
  {
   "cell_type": "markdown",
   "metadata": {
    "id": "7Swk1SbcTi-C"
   },
   "source": [
    "## 방법 2. resample 사용하기\n",
    "\n",
    "* Step 1. resample을 사용할 수 있도록 주문 날짜를 index로 설정하고 `orders_idx`라는 새로운 테이블에 저장해봅시다.\n",
    "* Step 2. `resample()` 함수를 사용해서 월별 주문 건 수를 집계하고, `monthly_orders_2` 라는 테이블에 저장해보세요.\n",
    "* Step 3. `monthly_orders_2`의 데이터를 이번에는 **막대그래프**로 표현해보세요.\n",
    "\n",
    "<br>\n",
    "\n",
    "Output 예시\n",
    "\n",
    "![](data:image/png;base64,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)"
   ]
  },
  {
   "cell_type": "code",
   "execution_count": 11,
   "metadata": {
    "id": "E9C_DpifbPT7"
   },
   "outputs": [
    {
     "data": {
      "text/html": [
       "<div>\n",
       "<style scoped>\n",
       "    .dataframe tbody tr th:only-of-type {\n",
       "        vertical-align: middle;\n",
       "    }\n",
       "\n",
       "    .dataframe tbody tr th {\n",
       "        vertical-align: top;\n",
       "    }\n",
       "\n",
       "    .dataframe thead th {\n",
       "        text-align: right;\n",
       "    }\n",
       "</style>\n",
       "<table border=\"1\" class=\"dataframe\">\n",
       "  <thead>\n",
       "    <tr style=\"text-align: right;\">\n",
       "      <th></th>\n",
       "      <th>index</th>\n",
       "      <th>Order ID</th>\n",
       "      <th>CustomerName</th>\n",
       "      <th>State</th>\n",
       "      <th>City</th>\n",
       "      <th>year</th>\n",
       "      <th>month</th>\n",
       "    </tr>\n",
       "    <tr>\n",
       "      <th>Order Date</th>\n",
       "      <th></th>\n",
       "      <th></th>\n",
       "      <th></th>\n",
       "      <th></th>\n",
       "      <th></th>\n",
       "      <th></th>\n",
       "      <th></th>\n",
       "    </tr>\n",
       "  </thead>\n",
       "  <tbody>\n",
       "    <tr>\n",
       "      <th>2018-04-01</th>\n",
       "      <td>0</td>\n",
       "      <td>B-25601</td>\n",
       "      <td>Bharat</td>\n",
       "      <td>Gujarat</td>\n",
       "      <td>Ahmedabad</td>\n",
       "      <td>2018</td>\n",
       "      <td>4</td>\n",
       "    </tr>\n",
       "    <tr>\n",
       "      <th>2018-04-01</th>\n",
       "      <td>1</td>\n",
       "      <td>B-25602</td>\n",
       "      <td>Pearl</td>\n",
       "      <td>Maharashtra</td>\n",
       "      <td>Pune</td>\n",
       "      <td>2018</td>\n",
       "      <td>4</td>\n",
       "    </tr>\n",
       "    <tr>\n",
       "      <th>2018-04-03</th>\n",
       "      <td>2</td>\n",
       "      <td>B-25603</td>\n",
       "      <td>Jahan</td>\n",
       "      <td>Madhya Pradesh</td>\n",
       "      <td>Bhopal</td>\n",
       "      <td>2018</td>\n",
       "      <td>4</td>\n",
       "    </tr>\n",
       "    <tr>\n",
       "      <th>2018-04-03</th>\n",
       "      <td>3</td>\n",
       "      <td>B-25604</td>\n",
       "      <td>Divsha</td>\n",
       "      <td>Rajasthan</td>\n",
       "      <td>Jaipur</td>\n",
       "      <td>2018</td>\n",
       "      <td>4</td>\n",
       "    </tr>\n",
       "    <tr>\n",
       "      <th>2018-04-05</th>\n",
       "      <td>4</td>\n",
       "      <td>B-25605</td>\n",
       "      <td>Kasheen</td>\n",
       "      <td>West Bengal</td>\n",
       "      <td>Kolkata</td>\n",
       "      <td>2018</td>\n",
       "      <td>4</td>\n",
       "    </tr>\n",
       "    <tr>\n",
       "      <th>...</th>\n",
       "      <td>...</td>\n",
       "      <td>...</td>\n",
       "      <td>...</td>\n",
       "      <td>...</td>\n",
       "      <td>...</td>\n",
       "      <td>...</td>\n",
       "      <td>...</td>\n",
       "    </tr>\n",
       "    <tr>\n",
       "      <th>2019-03-28</th>\n",
       "      <td>495</td>\n",
       "      <td>B-26096</td>\n",
       "      <td>Atharv</td>\n",
       "      <td>West Bengal</td>\n",
       "      <td>Kolkata</td>\n",
       "      <td>2019</td>\n",
       "      <td>3</td>\n",
       "    </tr>\n",
       "    <tr>\n",
       "      <th>2019-03-28</th>\n",
       "      <td>496</td>\n",
       "      <td>B-26097</td>\n",
       "      <td>Vini</td>\n",
       "      <td>Karnataka</td>\n",
       "      <td>Bangalore</td>\n",
       "      <td>2019</td>\n",
       "      <td>3</td>\n",
       "    </tr>\n",
       "    <tr>\n",
       "      <th>2019-03-29</th>\n",
       "      <td>497</td>\n",
       "      <td>B-26098</td>\n",
       "      <td>Pinky</td>\n",
       "      <td>Jammu and Kashmir</td>\n",
       "      <td>Kashmir</td>\n",
       "      <td>2019</td>\n",
       "      <td>3</td>\n",
       "    </tr>\n",
       "    <tr>\n",
       "      <th>2019-03-30</th>\n",
       "      <td>498</td>\n",
       "      <td>B-26099</td>\n",
       "      <td>Bhishm</td>\n",
       "      <td>Maharashtra</td>\n",
       "      <td>Mumbai</td>\n",
       "      <td>2019</td>\n",
       "      <td>3</td>\n",
       "    </tr>\n",
       "    <tr>\n",
       "      <th>2019-03-31</th>\n",
       "      <td>499</td>\n",
       "      <td>B-26100</td>\n",
       "      <td>Hitika</td>\n",
       "      <td>Madhya Pradesh</td>\n",
       "      <td>Indore</td>\n",
       "      <td>2019</td>\n",
       "      <td>3</td>\n",
       "    </tr>\n",
       "  </tbody>\n",
       "</table>\n",
       "<p>500 rows × 7 columns</p>\n",
       "</div>"
      ],
      "text/plain": [
       "            index Order ID CustomerName              State       City  year  \\\n",
       "Order Date                                                                    \n",
       "2018-04-01      0  B-25601       Bharat            Gujarat  Ahmedabad  2018   \n",
       "2018-04-01      1  B-25602        Pearl        Maharashtra       Pune  2018   \n",
       "2018-04-03      2  B-25603        Jahan     Madhya Pradesh     Bhopal  2018   \n",
       "2018-04-03      3  B-25604       Divsha          Rajasthan     Jaipur  2018   \n",
       "2018-04-05      4  B-25605      Kasheen        West Bengal    Kolkata  2018   \n",
       "...           ...      ...          ...                ...        ...   ...   \n",
       "2019-03-28    495  B-26096       Atharv        West Bengal    Kolkata  2019   \n",
       "2019-03-28    496  B-26097         Vini          Karnataka  Bangalore  2019   \n",
       "2019-03-29    497  B-26098        Pinky  Jammu and Kashmir    Kashmir  2019   \n",
       "2019-03-30    498  B-26099       Bhishm        Maharashtra     Mumbai  2019   \n",
       "2019-03-31    499  B-26100       Hitika     Madhya Pradesh     Indore  2019   \n",
       "\n",
       "            month  \n",
       "Order Date         \n",
       "2018-04-01      4  \n",
       "2018-04-01      4  \n",
       "2018-04-03      4  \n",
       "2018-04-03      4  \n",
       "2018-04-05      4  \n",
       "...           ...  \n",
       "2019-03-28      3  \n",
       "2019-03-28      3  \n",
       "2019-03-29      3  \n",
       "2019-03-30      3  \n",
       "2019-03-31      3  \n",
       "\n",
       "[500 rows x 7 columns]"
      ]
     },
     "execution_count": 11,
     "metadata": {},
     "output_type": "execute_result"
    }
   ],
   "source": [
    "# Answer\n",
    "orders_fix = orders.reset_index().set_index('Order Date')\n",
    "\n",
    "orders_fix"
   ]
  },
  {
   "cell_type": "code",
   "execution_count": 12,
   "metadata": {},
   "outputs": [
    {
     "data": {
      "text/plain": [
       "<AxesSubplot:xlabel='Order Date'>"
      ]
     },
     "execution_count": 12,
     "metadata": {},
     "output_type": "execute_result"
    },
    {
     "data": {
      "image/png": "[encoded data removed]",
      "text/plain": [
       "<Figure size 432x288 with 1 Axes>"
      ]
     },
     "metadata": {
      "needs_background": "light"
     },
     "output_type": "display_data"
    }
   ],
   "source": [
    "orders_fix.resample('m')['Order ID'].count().plot()"
   ]
  },
  {
   "cell_type": "markdown",
   "metadata": {
    "id": "Roc_RuBcOHM-"
   },
   "source": [
    "### 질문\n",
    "\n",
    "* 질문1: 몇 월의 주문 건 수가 가장 많은가요?\n",
    "* 답변1: 1월\n",
    "\n",
    "<br>\n",
    "\n",
    "* 질문2: 주문량은 증가하고 있나요? 우리 회사의 이커머스 사업은 잘 되고 있는걸까요?\n",
    "* 답변2: 기간을 더 봐야할 듯\n"
   ]
  },
  {
   "cell_type": "markdown",
   "metadata": {
    "id": "9kmEIOgLg9CH"
   },
   "source": [
    "# Q3. 월별 카테고리별 주문량 집계하기 \n",
    "\n",
    "월별 주문량 그래프를 보니, 전체 주문추이는 2018년 10월부터 꾸준히 증가세에 있는 것으로 보입니다. 이 그래프를 보고 '음! 모두 잘 되고 있군!'하고 생각하면 안됩니다. 전체의 증가가 부분의 증가를 담보하지 않기 때문입니다. \n",
    "\n",
    "OO제과라는 회사를 상상해보겠습니다. 작년 대비 올해의 매출이 10% 증가했습니다. 모든 부서의 매출이 똑같이 10% 증가한 걸까요? 아마 아닐겁니다. 전체로 봤을 때에는 10% 매출이 증가했지만, 부서별로 나누어 봤을 때에는 아마 작년과 대비해 올해의 매출이 오히려 감소한 부서도 있을겁니다. 마이너스인 부서가 있는 반면 특별하게 매출이 많이 증가한 부서도 있겠지요.\n",
    "\n",
    "우리 데이터도 마찬가지 입니다. 전체적으로 봤을 때에는 주문량이 증가하고 있습니다. 이 주문량 증가에 가장 많은 기여를 한 카테고리는 어떤 것일까요? 회사 전체의 주문량은 증가하는 가운데, 주문이 횡보하거나 감소하고 있는 카테고리도 있을까요?"
   ]
  },
  {
   "cell_type": "markdown",
   "metadata": {
    "id": "2__Rf6aTRTgk"
   },
   "source": [
    "## Q3-1. 날짜별 주문량을 확인할 수 있는 테이블 만들기\n",
    "\n",
    "`order_details`와 `orders` 를 하나의 테이블로 합치고 `order_merged`라는 새로운 테이블로 저장해보세요.\n",
    "\n",
    "Output 예시\n",
    "\n",
    "|    | Order ID   |   Amount | Profit   |   Quantity | Category    | Sub-Category     | Order Date          | CustomerName   | State       | City      |   year |   month |\n",
    "|---:|:-----------|---------:|:---------|-----------:|:------------|:-----------------|:--------------------|:---------------|:------------|:----------|-------:|--------:|\n",
    "|  0 | B-25601    |     1275 | (1148)   |          7 | Furniture   | Bookcases        | 2018-04-01 00:00:00 | Bharat         | Gujarat     | Ahmedabad |   2018 |       4 |\n",
    "|  1 | B-25601    |       66 | (12)     |          5 | Clothing    | Stole            | 2018-04-01 00:00:00 | Bharat         | Gujarat     | Ahmedabad |   2018 |       4 |\n",
    "|  2 | B-25601    |        8 | (2)      |          3 | Clothing    | Hankerchief      | 2018-04-01 00:00:00 | Bharat         | Gujarat     | Ahmedabad |   2018 |       4 |\n",
    "|  3 | B-25601    |       80 | (56)     |          4 | Electronics | Electronic Games | 2018-04-01 00:00:00 | Bharat         | Gujarat     | Ahmedabad |   2018 |       4 |\n",
    "|  4 | B-25602    |      168 | (111)    |          2 | Electronics | Phones           | 2018-04-01 00:00:00 | Pearl          | Maharashtra | Pune      |   2018 |       4 |"
   ]
  },
  {
   "cell_type": "code",
   "execution_count": 13,
   "metadata": {
    "id": "8SDSWFyLjV5W"
   },
   "outputs": [
    {
     "data": {
      "text/html": [
       "<div>\n",
       "<style scoped>\n",
       "    .dataframe tbody tr th:only-of-type {\n",
       "        vertical-align: middle;\n",
       "    }\n",
       "\n",
       "    .dataframe tbody tr th {\n",
       "        vertical-align: top;\n",
       "    }\n",
       "\n",
       "    .dataframe thead th {\n",
       "        text-align: right;\n",
       "    }\n",
       "</style>\n",
       "<table border=\"1\" class=\"dataframe\">\n",
       "  <thead>\n",
       "    <tr style=\"text-align: right;\">\n",
       "      <th></th>\n",
       "      <th>Amount</th>\n",
       "      <th>Quantity</th>\n",
       "    </tr>\n",
       "    <tr>\n",
       "      <th>Order ID</th>\n",
       "      <th></th>\n",
       "      <th></th>\n",
       "    </tr>\n",
       "  </thead>\n",
       "  <tbody>\n",
       "    <tr>\n",
       "      <th>B-25601</th>\n",
       "      <td>1429</td>\n",
       "      <td>19</td>\n",
       "    </tr>\n",
       "    <tr>\n",
       "      <th>B-25602</th>\n",
       "      <td>3889</td>\n",
       "      <td>22</td>\n",
       "    </tr>\n",
       "    <tr>\n",
       "      <th>B-25603</th>\n",
       "      <td>2025</td>\n",
       "      <td>25</td>\n",
       "    </tr>\n",
       "    <tr>\n",
       "      <th>B-25604</th>\n",
       "      <td>222</td>\n",
       "      <td>11</td>\n",
       "    </tr>\n",
       "    <tr>\n",
       "      <th>B-25605</th>\n",
       "      <td>75</td>\n",
       "      <td>7</td>\n",
       "    </tr>\n",
       "    <tr>\n",
       "      <th>...</th>\n",
       "      <td>...</td>\n",
       "      <td>...</td>\n",
       "    </tr>\n",
       "    <tr>\n",
       "      <th>B-26096</th>\n",
       "      <td>1091</td>\n",
       "      <td>18</td>\n",
       "    </tr>\n",
       "    <tr>\n",
       "      <th>B-26097</th>\n",
       "      <td>1688</td>\n",
       "      <td>23</td>\n",
       "    </tr>\n",
       "    <tr>\n",
       "      <th>B-26098</th>\n",
       "      <td>1189</td>\n",
       "      <td>21</td>\n",
       "    </tr>\n",
       "    <tr>\n",
       "      <th>B-26099</th>\n",
       "      <td>3417</td>\n",
       "      <td>15</td>\n",
       "    </tr>\n",
       "    <tr>\n",
       "      <th>B-26100</th>\n",
       "      <td>934</td>\n",
       "      <td>6</td>\n",
       "    </tr>\n",
       "  </tbody>\n",
       "</table>\n",
       "<p>500 rows × 2 columns</p>\n",
       "</div>"
      ],
      "text/plain": [
       "          Amount  Quantity\n",
       "Order ID                  \n",
       "B-25601     1429        19\n",
       "B-25602     3889        22\n",
       "B-25603     2025        25\n",
       "B-25604      222        11\n",
       "B-25605       75         7\n",
       "...          ...       ...\n",
       "B-26096     1091        18\n",
       "B-26097     1688        23\n",
       "B-26098     1189        21\n",
       "B-26099     3417        15\n",
       "B-26100      934         6\n",
       "\n",
       "[500 rows x 2 columns]"
      ]
     },
     "execution_count": 13,
     "metadata": {},
     "output_type": "execute_result"
    }
   ],
   "source": [
    "\n",
    "# Answer\n",
    "order_merged = pd.merge(order_details, orders, on='Order ID')\n",
    "order_merged.groupby('Order ID')[['Amount', 'Profit', 'Quantity']].sum()"
   ]
  },
  {
   "cell_type": "markdown",
   "metadata": {
    "id": "i_nJNFE4YADf"
   },
   "source": [
    "## Q3-2. 월별 주문량 집계하기\n",
    "\n",
    "* Step 1. 주문 날짜를 index로 하고 카테고리별 주문량을 합산하는 피봇 테이블을 만들어보세요. 이 테이블은 `order_pivot`라는 테이블로 저장합니다.\n",
    "\n",
    "    - Step 1 Output 예시\n",
    "\n",
    "| Order Date | Clothing | Electronics | Furniture |\n",
    "|:-----|:------------|:-----|:------------|\n",
    "| 2018-04-01 | 19.0 | 15.0 | 7.0 |\n",
    "| 2018-04-03 | 35.0 | NaN | 1.0 |\n",
    "| 2018-04-05 | 7.0 | NaN | NaN |\n",
    "| 2018-04-06 | 6.0 | NaN | NaN |\n",
    "| 2018-04-08 | 5.0 | 6.0 | 8.0 |\n",
    "\n",
    "\n",
    "<br>\n",
    "\n",
    "* Step 2. 위 데이터 프레임을 이용하여 월별 카테고리별 주문량을 집계하고, `monthly_orders_cate` 라는 테이블에 저장해보세요.\n",
    "\n",
    "    - Step 2 Output 예시\n",
    "\n",
    "| Order Date          |   Clothing |   Electronics |   Furniture |\n",
    "|:--------------------|-----------:|--------------:|------------:|\n",
    "| 2018-04-01 00:00:00 |        251 |            75 |          63 |\n",
    "| 2018-05-01 00:00:00 |        233 |           116 |          74 |\n",
    "| 2018-06-01 00:00:00 |        235 |            82 |          52 |\n",
    "| 2018-07-01 00:00:00 |        142 |            40 |          58 |\n",
    "| 2018-08-01 00:00:00 |        276 |            98 |          72 |"
   ]
  },
  {
   "cell_type": "code",
   "execution_count": 16,
   "metadata": {
    "id": "3Znmz31URzRI"
   },
   "outputs": [
    {
     "data": {
      "text/html": [
       "<div>\n",
       "<style scoped>\n",
       "    .dataframe tbody tr th:only-of-type {\n",
       "        vertical-align: middle;\n",
       "    }\n",
       "\n",
       "    .dataframe tbody tr th {\n",
       "        vertical-align: top;\n",
       "    }\n",
       "\n",
       "    .dataframe thead th {\n",
       "        text-align: right;\n",
       "    }\n",
       "</style>\n",
       "<table border=\"1\" class=\"dataframe\">\n",
       "  <thead>\n",
       "    <tr style=\"text-align: right;\">\n",
       "      <th>Category</th>\n",
       "      <th>Clothing</th>\n",
       "      <th>Electronics</th>\n",
       "      <th>Furniture</th>\n",
       "    </tr>\n",
       "    <tr>\n",
       "      <th>Order Date</th>\n",
       "      <th></th>\n",
       "      <th></th>\n",
       "      <th></th>\n",
       "    </tr>\n",
       "  </thead>\n",
       "  <tbody>\n",
       "    <tr>\n",
       "      <th>2018-04-01</th>\n",
       "      <td>4.0</td>\n",
       "      <td>4.0</td>\n",
       "      <td>1.0</td>\n",
       "    </tr>\n",
       "    <tr>\n",
       "      <th>2018-04-03</th>\n",
       "      <td>9.0</td>\n",
       "      <td>NaN</td>\n",
       "      <td>1.0</td>\n",
       "    </tr>\n",
       "    <tr>\n",
       "      <th>2018-04-05</th>\n",
       "      <td>1.0</td>\n",
       "      <td>NaN</td>\n",
       "      <td>NaN</td>\n",
       "    </tr>\n",
       "    <tr>\n",
       "      <th>2018-04-06</th>\n",
       "      <td>2.0</td>\n",
       "      <td>NaN</td>\n",
       "      <td>NaN</td>\n",
       "    </tr>\n",
       "    <tr>\n",
       "      <th>2018-04-08</th>\n",
       "      <td>1.0</td>\n",
       "      <td>1.0</td>\n",
       "      <td>2.0</td>\n",
       "    </tr>\n",
       "    <tr>\n",
       "      <th>...</th>\n",
       "      <td>...</td>\n",
       "      <td>...</td>\n",
       "      <td>...</td>\n",
       "    </tr>\n",
       "    <tr>\n",
       "      <th>2019-03-27</th>\n",
       "      <td>10.0</td>\n",
       "      <td>2.0</td>\n",
       "      <td>1.0</td>\n",
       "    </tr>\n",
       "    <tr>\n",
       "      <th>2019-03-28</th>\n",
       "      <td>9.0</td>\n",
       "      <td>4.0</td>\n",
       "      <td>1.0</td>\n",
       "    </tr>\n",
       "    <tr>\n",
       "      <th>2019-03-29</th>\n",
       "      <td>4.0</td>\n",
       "      <td>1.0</td>\n",
       "      <td>1.0</td>\n",
       "    </tr>\n",
       "    <tr>\n",
       "      <th>2019-03-30</th>\n",
       "      <td>3.0</td>\n",
       "      <td>1.0</td>\n",
       "      <td>NaN</td>\n",
       "    </tr>\n",
       "    <tr>\n",
       "      <th>2019-03-31</th>\n",
       "      <td>2.0</td>\n",
       "      <td>NaN</td>\n",
       "      <td>1.0</td>\n",
       "    </tr>\n",
       "  </tbody>\n",
       "</table>\n",
       "<p>307 rows × 3 columns</p>\n",
       "</div>"
      ],
      "text/plain": [
       "Category    Clothing  Electronics  Furniture\n",
       "Order Date                                  \n",
       "2018-04-01       4.0          4.0        1.0\n",
       "2018-04-03       9.0          NaN        1.0\n",
       "2018-04-05       1.0          NaN        NaN\n",
       "2018-04-06       2.0          NaN        NaN\n",
       "2018-04-08       1.0          1.0        2.0\n",
       "...              ...          ...        ...\n",
       "2019-03-27      10.0          2.0        1.0\n",
       "2019-03-28       9.0          4.0        1.0\n",
       "2019-03-29       4.0          1.0        1.0\n",
       "2019-03-30       3.0          1.0        NaN\n",
       "2019-03-31       2.0          NaN        1.0\n",
       "\n",
       "[307 rows x 3 columns]"
      ]
     },
     "execution_count": 16,
     "metadata": {},
     "output_type": "execute_result"
    }
   ],
   "source": [
    "# Answer\n",
    "order_merged_pivot = pd.pivot_table(order_merged, index='Order Date', columns='Category', values='Quantity',aggfunc='count')\n",
    "order_merged_pivot\n"
   ]
  },
  {
   "cell_type": "markdown",
   "metadata": {
    "id": "KwXuPrceRPnQ"
   },
   "source": [
    "## Q3-3. 주문량 데이터를 시각화하기"
   ]
  },
  {
   "cell_type": "markdown",
   "metadata": {
    "id": "BwAmHHXyAYks"
   },
   "source": [
    "위에서 만든 테이블을 이용하여 월 주문량 그래프를 카테고리별로 그려주세요.\n",
    "* x 축: 주문 월\n",
    "* y 축: 카테고리별 주문량\n",
    "\n",
    "<br>\n",
    "\n",
    "Output 예시\n",
    "\n",
    "![](data:image/png;base64,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)"
   ]
  },
  {
   "cell_type": "code",
   "execution_count": 126,
   "metadata": {
    "id": "2vZU__nPZQjS"
   },
   "outputs": [
    {
     "data": {
      "text/plain": [
       "<AxesSubplot:xlabel='Order Date'>"
      ]
     },
     "execution_count": 126,
     "metadata": {},
     "output_type": "execute_result"
    },
    {
     "data": {
      "image/png": "[encoded data removed]",
      "text/plain": [
       "<Figure size 432x288 with 1 Axes>"
      ]
     },
     "metadata": {
      "needs_background": "light"
     },
     "output_type": "display_data"
    }
   ],
   "source": [
    "# Answer\n",
    "# summary['sdf'] = order_merged['Quantity'].resample('1M').sum()\n",
    "order_merged_pivot.resample('1M').sum().plot()"
   ]
  },
  {
   "cell_type": "markdown",
   "metadata": {
    "id": "jmZLQa3tZjQZ"
   },
   "source": [
    "## 질문\n",
    "\n",
    "* 질문: 주문량이 가장 많이 증가한 카테고리는 무엇입니까? 주문량이 비슷하거나, 감소한 카테고리도 있나요?\n",
    "* 답변: "
   ]
  },
  {
   "cell_type": "markdown",
   "metadata": {
    "id": "-d-V0McX334r"
   },
   "source": [
    "# Q4. 2018년에 가장 많은 금액을 주문한 상위 5명 고객 찾기\n",
    "\n",
    "\n",
    "2018년에 가장 많이 주문해주신 고객 다섯 분께 감사의 마음을 담아 사은품을 증정할 예정입니다. <br> '많이 주문'한 기준은 주문 금액(Amount)으로 하려고 합니다.\n",
    "\n",
    "* Step 1. `order_merged` 데이터 프레임에서 2018년도 주문 데이터만 필터링하여 `orders_2018` 데이터 프레임에 저장해주세요.\n",
    "* Step 2. `orders_2018` 데이터 프레임을 연산하여 고객별로 2018년 주문 금액을 구해주세요. 계산한 결과를 `customers_2018` 데이터 프레임에 저장해주세요. (고객의 Id 정보가 없으므로 `CustomerName` 컬럼을 이용하여 계산해야 합니다. 동명이인은 없다고 가정합시다)\n",
    "* Step 3. 저장한 테이블에서 합산된 주문 금액이 가장 높은 상위 5명의 고객을 출력해주세요.\n"
   ]
  },
  {
   "cell_type": "code",
   "execution_count": 32,
   "metadata": {
    "id": "KEDpUBqM4D7L"
   },
   "outputs": [
    {
     "data": {
      "text/html": [
       "<div>\n",
       "<style scoped>\n",
       "    .dataframe tbody tr th:only-of-type {\n",
       "        vertical-align: middle;\n",
       "    }\n",
       "\n",
       "    .dataframe tbody tr th {\n",
       "        vertical-align: top;\n",
       "    }\n",
       "\n",
       "    .dataframe thead th {\n",
       "        text-align: right;\n",
       "    }\n",
       "</style>\n",
       "<table border=\"1\" class=\"dataframe\">\n",
       "  <thead>\n",
       "    <tr style=\"text-align: right;\">\n",
       "      <th></th>\n",
       "      <th>Order ID</th>\n",
       "      <th>Amount</th>\n",
       "      <th>Profit</th>\n",
       "      <th>Quantity</th>\n",
       "      <th>Category</th>\n",
       "      <th>Sub-Category</th>\n",
       "      <th>Order Date</th>\n",
       "      <th>CustomerName</th>\n",
       "      <th>State</th>\n",
       "      <th>City</th>\n",
       "      <th>year</th>\n",
       "      <th>month</th>\n",
       "    </tr>\n",
       "  </thead>\n",
       "  <tbody>\n",
       "    <tr>\n",
       "      <th>0</th>\n",
       "      <td>B-25601</td>\n",
       "      <td>1275</td>\n",
       "      <td>(1148)</td>\n",
       "      <td>7</td>\n",
       "      <td>Furniture</td>\n",
       "      <td>Bookcases</td>\n",
       "      <td>2018-04-01</td>\n",
       "      <td>Bharat</td>\n",
       "      <td>Gujarat</td>\n",
       "      <td>Ahmedabad</td>\n",
       "      <td>2018</td>\n",
       "      <td>4</td>\n",
       "    </tr>\n",
       "    <tr>\n",
       "      <th>1</th>\n",
       "      <td>B-25601</td>\n",
       "      <td>66</td>\n",
       "      <td>(12)</td>\n",
       "      <td>5</td>\n",
       "      <td>Clothing</td>\n",
       "      <td>Stole</td>\n",
       "      <td>2018-04-01</td>\n",
       "      <td>Bharat</td>\n",
       "      <td>Gujarat</td>\n",
       "      <td>Ahmedabad</td>\n",
       "      <td>2018</td>\n",
       "      <td>4</td>\n",
       "    </tr>\n",
       "    <tr>\n",
       "      <th>2</th>\n",
       "      <td>B-25601</td>\n",
       "      <td>8</td>\n",
       "      <td>(2)</td>\n",
       "      <td>3</td>\n",
       "      <td>Clothing</td>\n",
       "      <td>Hankerchief</td>\n",
       "      <td>2018-04-01</td>\n",
       "      <td>Bharat</td>\n",
       "      <td>Gujarat</td>\n",
       "      <td>Ahmedabad</td>\n",
       "      <td>2018</td>\n",
       "      <td>4</td>\n",
       "    </tr>\n",
       "    <tr>\n",
       "      <th>3</th>\n",
       "      <td>B-25601</td>\n",
       "      <td>80</td>\n",
       "      <td>(56)</td>\n",
       "      <td>4</td>\n",
       "      <td>Electronics</td>\n",
       "      <td>Electronic Games</td>\n",
       "      <td>2018-04-01</td>\n",
       "      <td>Bharat</td>\n",
       "      <td>Gujarat</td>\n",
       "      <td>Ahmedabad</td>\n",
       "      <td>2018</td>\n",
       "      <td>4</td>\n",
       "    </tr>\n",
       "    <tr>\n",
       "      <th>4</th>\n",
       "      <td>B-25602</td>\n",
       "      <td>168</td>\n",
       "      <td>(111)</td>\n",
       "      <td>2</td>\n",
       "      <td>Electronics</td>\n",
       "      <td>Phones</td>\n",
       "      <td>2018-04-01</td>\n",
       "      <td>Pearl</td>\n",
       "      <td>Maharashtra</td>\n",
       "      <td>Pune</td>\n",
       "      <td>2018</td>\n",
       "      <td>4</td>\n",
       "    </tr>\n",
       "  </tbody>\n",
       "</table>\n",
       "</div>"
      ],
      "text/plain": [
       "  Order ID  Amount  Profit  Quantity     Category      Sub-Category  \\\n",
       "0  B-25601    1275  (1148)         7    Furniture         Bookcases   \n",
       "1  B-25601      66    (12)         5     Clothing             Stole   \n",
       "2  B-25601       8     (2)         3     Clothing       Hankerchief   \n",
       "3  B-25601      80    (56)         4  Electronics  Electronic Games   \n",
       "4  B-25602     168   (111)         2  Electronics            Phones   \n",
       "\n",
       "  Order Date CustomerName        State       City  year  month  \n",
       "0 2018-04-01       Bharat      Gujarat  Ahmedabad  2018      4  \n",
       "1 2018-04-01       Bharat      Gujarat  Ahmedabad  2018      4  \n",
       "2 2018-04-01       Bharat      Gujarat  Ahmedabad  2018      4  \n",
       "3 2018-04-01       Bharat      Gujarat  Ahmedabad  2018      4  \n",
       "4 2018-04-01        Pearl  Maharashtra       Pune  2018      4  "
      ]
     },
     "execution_count": 32,
     "metadata": {},
     "output_type": "execute_result"
    }
   ],
   "source": [
    "# Step 1\n",
    "orders_2018 = order_merged[order_merged['year']==2018]\n",
    "orders_2018.head()"
   ]
  },
  {
   "cell_type": "code",
   "execution_count": 37,
   "metadata": {
    "id": "MEyf05u14E4z"
   },
   "outputs": [
    {
     "data": {
      "text/plain": [
       "CustomerName\n",
       "Aakanksha      74\n",
       "Aarushi      2953\n",
       "Aashna       1931\n",
       "Aastha       3276\n",
       "Aayush        556\n",
       "Name: Amount, dtype: int64"
      ]
     },
     "execution_count": 37,
     "metadata": {},
     "output_type": "execute_result"
    }
   ],
   "source": [
    "# Step 2\n",
    "customer_2018 = orders_2018.groupby('CustomerName')['Amount'].sum()\n",
    "customer_2018.head()"
   ]
  },
  {
   "cell_type": "code",
   "execution_count": 38,
   "metadata": {
    "id": "8gtrj1WN4BNW"
   },
   "outputs": [
    {
     "data": {
      "text/plain": [
       "CustomerName\n",
       "Pooja       8777\n",
       "Abhishek    8135\n",
       "Surabhi     6889\n",
       "Abhijeet    5691\n",
       "Swapnil     4929\n",
       "Name: Amount, dtype: int64"
      ]
     },
     "execution_count": 38,
     "metadata": {},
     "output_type": "execute_result"
    }
   ],
   "source": [
    "# Step 3\n",
    "customer_2018.nlargest(5)"
   ]
  },
  {
   "cell_type": "markdown",
   "metadata": {
    "id": "tjrC7l5vIKBp"
   },
   "source": [
    "### **질문**\n",
    "\n",
    "* 질문: 어떤 분께 사은품을 보내드리면 될까요?\n",
    "* 답변: "
   ]
  },
  {
   "cell_type": "markdown",
   "metadata": {
    "id": "5k6b94HwQMUs"
   },
   "source": [
    "# Q5. 여러분들의 분석 아이디어를 들려주세요.\n",
    "\n",
    "여러분들의 분석 내용을 인프런 블로그 또는 개인 블로그에 `#데이터리안` `#판다스공부` `#TIL` 해시태그로 공유해주세요! `velog.io`, `brunch`, `medium` 등 개인 블로그에 올리신 분들은 인프런 블로그로 링크를 올려주시면 저희가 검색해서 찾아갈 수 있을 것 같아요.\n",
    "\n",
    "분석 내용 뿐 아니라 노트북 자체를 공유하고 싶은 분들은 아래 예시를 참고해주세요.\n",
    "* [nbviewer 예시](https://nbviewer.jupyter.org/github/dataitgirls3/Teaching-Materials/blob/master/2019-09-09%20Pandas%20%EC%88%98%EC%97%85%20%EB%B3%B4%EC%B6%A9%EC%9E%90%EB%A3%8C.ipynb)\n",
    "* [github 예시](https://github.com/dataitgirls3/Teaching-Materials/blob/master/Comprehension.ipynb)\n",
    "\n",
    "인프런 블로그에 올리실 때 `#데이터리안` `#판다스공부` 해시태그 다는거 잊지 말아주세요!"
   ]
  },
  {
   "cell_type": "code",
   "execution_count": null,
   "metadata": {
    "id": "S4ATH6wGArQ8"
   },
   "outputs": [],
   "source": [
    "# 추가 분석"
   ]
  },
  {
   "cell_type": "markdown",
   "metadata": {
    "id": "_P-HeTfWPA-7"
   },
   "source": [
    "# 수고하셨습니다!\n",
    "> 섹션 8에서 만나요!"
   ]
  }
 ],
 "metadata": {
  "colab": {
   "collapsed_sections": [],
   "provenance": [],
   "toc_visible": true
  },
  "kernelspec": {
   "display_name": "Python 3 (ipykernel)",
   "language": "python",
   "name": "python3"
  },
  "language_info": {
   "codemirror_mode": {
    "name": "ipython",
    "version": 3
   },
   "file_extension": ".py",
   "mimetype": "text/x-python",
   "name": "python",
   "nbconvert_exporter": "python",
   "pygments_lexer": "ipython3",
   "version": "3.9.7"
  }
 },
 "nbformat": 4,
 "nbformat_minor": 1
}
