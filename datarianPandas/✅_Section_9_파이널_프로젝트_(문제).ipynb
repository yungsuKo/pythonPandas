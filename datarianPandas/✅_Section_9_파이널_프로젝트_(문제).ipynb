{
 "cells": [
  {
   "cell_type": "markdown",
   "metadata": {
    "id": "487Co9pOv2wK"
   },
   "source": [
    "# 파이널 프로젝트 Overview\n",
    "* 마지막 문제풀이입니다! 데이터리안 블로그 GA 데이터를 분석하면서 이번 강의에서 배운 판다스의 다양한 기능들을 사용해봅시다.\n",
    "* 문제를 본격적으로 풀기 전에 아래 코드를 실행해 pandas 라이브러리를 임포트하고 데이터를 읽어와주세요."
   ]
  },
  {
   "cell_type": "code",
   "execution_count": 1,
   "metadata": {
    "id": "8EsiUZegX2vq"
   },
   "outputs": [],
   "source": [
    "import pandas as pd"
   ]
  },
  {
   "cell_type": "code",
   "execution_count": 3,
   "metadata": {
    "id": "V5OTBqpyn0Ds"
   },
   "outputs": [],
   "source": [
    "ga = pd.read_csv('https://raw.githubusercontent.com/datarian-kr/pandas/main/data/ga_encrypted.csv')"
   ]
  },
  {
   "cell_type": "markdown",
   "metadata": {
    "id": "tSUb8SLKf7eD"
   },
   "source": [
    "# 데이터 설명\n",
    "\n",
    "이 데이터는 [데이터리안의 테크 블로그](https://datarian-kr.github.io/) GA(Google Anlaytics) 데이터의 일부입니다. 데이터리안은 GA를 이용해 테크 블로그 안에서 사용자들이 어떤 페이지를 보는지, 어떤 요소를 클릭하는지 등 사용자 로그를 분석합니다.\n",
    "\n",
    "데이터리안 블로그의 'Blog' 탭에 들어가면 멤버들이 쓴 글을 보실 수 있습니다. 이 글을 소비하는 사용자들의 패턴을 분석하여 앞으로 데이터리안이 어떤 글을 더 써야할지, 어떤 글을 사용자들이 흥미롭게 생각했는지 등을 파악해보려고 합니다.\n",
    "\n",
    "<div>\n",
    "<img src=\"https://github.com/datarian-kr/pandas/blob/main/img/blog_main.png?raw=true\" width=\"500\"/>\n",
    "</div>"
   ]
  },
  {
   "cell_type": "markdown",
   "metadata": {
    "id": "_btzZupmhQVO"
   },
   "source": [
    "**컬럼 상세**\n",
    "* event_date_kst: 이벤트가 일어난 날짜 (KST)\n",
    "* user_pseudo_id: 암호화 된 사용자 아이디\n",
    "* event_timestamp_kst: 이벤트가 일어난 시각 (KST)\n",
    "* user_first_touch_timestamp_kst: 사용자가 처음 사이트를 방문한 시각 (KST)\n",
    "* event_name: 이벤트 이름\n",
    "* key: 이벤트 매개변수의 키\n",
    "* string_value: 이벤트 매개변수의 문자열 값\n",
    "* int_value: 이벤트 매개변수의 정수 값\n",
    "* geo_continent: 이벤트가 발생한 대륙\n",
    "* geo_country: 이벤트가 발생한 국가\n",
    "* traffic_source_medium: 사용자를 최초로 획득한 매체\n",
    "* traffic_source: 사용자를 최초로 획득한 네트워크의 이름\n",
    "\n",
    "**참고**  \n",
    "위 데이터는 BigQuery로 내보낸 GA4의 속성 데이터입니다. 데이터의 형식 및 스키마에 대한 더 자세한 설명은 `BigQuery Export 스키마` 문서를 참고하세요. 각 이벤트가 수집되는 기준은 `[GA4] 자동으로 수집되는 이벤트` 문서에서 찾아보실 수 있습니다.\n",
    "* [BigQuery Export 스키마](https://support.google.com/analytics/answer/7029846?hl=ko)\n",
    "* [[GA4] 자동으로 수집되는 이벤트](https://support.google.com/analytics/answer/9234069)"
   ]
  },
  {
   "cell_type": "markdown",
   "metadata": {
    "id": "slIIx2r3v_vA"
   },
   "source": [
    "# Q1. 탐색적 데이터 분석\n",
    "\n",
    "데이터를 탐색해봅시다.\n",
    "\n",
    "**아래의 간단한 질문들에 답하며 EDA를 시작해도 좋습니다.**\n",
    "* 총 몇 개의 데이터가 들어있나요?\n",
    "* 몇 일치의 데이터가 들어있나요?\n",
    "* `event_name`, `key`, `geo_continent` 등 컬럼에는 각각 어떤 데이터들이 들어있나요?\n",
    "* 일자 별로 몇 명의 유저가 방문했나요?\n",
    "* 블로그 글을 조회하거나, 읽은 것과 관련한 로그는 어떤 조건으로 찾을 수 있나요? (중요!)"
   ]
  },
  {
   "cell_type": "code",
   "execution_count": 5,
   "metadata": {
    "id": "gkmHKTePrWS9"
   },
   "outputs": [
    {
     "name": "stdout",
     "output_type": "stream",
     "text": [
      "<class 'pandas.core.frame.DataFrame'>\n",
      "RangeIndex: 12457 entries, 0 to 12456\n",
      "Data columns (total 12 columns):\n",
      " #   Column                          Non-Null Count  Dtype  \n",
      "---  ------                          --------------  -----  \n",
      " 0   event_date_kst                  12457 non-null  object \n",
      " 1   user_pseudo_id                  12457 non-null  object \n",
      " 2   event_timestamp_kst             12457 non-null  object \n",
      " 3   user_first_touch_timestamp_kst  12457 non-null  object \n",
      " 4   event_name                      12457 non-null  object \n",
      " 5   key                             12457 non-null  object \n",
      " 6   string_value                    7050 non-null   object \n",
      " 7   int_value                       5407 non-null   float64\n",
      " 8   geo_continent                   12457 non-null  object \n",
      " 9   geo_country                     12457 non-null  object \n",
      " 10  traffic_source_medium           12457 non-null  object \n",
      " 11  traffic_source                  12457 non-null  object \n",
      "dtypes: float64(1), object(11)\n",
      "memory usage: 1.1+ MB\n"
     ]
    }
   ],
   "source": [
    "# Answer\n",
    "ga.info()"
   ]
  },
  {
   "cell_type": "markdown",
   "metadata": {
    "id": "IXaKgF9jogvA"
   },
   "source": [
    "# Q2. 블로그 글과 관련한 로그 필터링\n",
    "\n",
    "전체 데이터 중 분석에 필요한 로그만 필터링합니다. 아래 조건을 충족하는 데이터를 선택해서 `pages` 데이터 프레임에 저장해주세요.\n",
    "\n",
    "**조건**\n",
    "1. event_name이 `page_view`, `scroll`, `user_engagement` 중에 하나일 것\n",
    "2. 해당 이벤트의 파라미터(key 컬럼) 중 `page_title` 만 선택\n",
    "\n",
    "**이벤트 상세**\n",
    "\n",
    "상단에 `[GA4] 자동으로 수집되는 이벤트` 문서 참고\n",
    "\n",
    "* first_visit: 사용자가 웹사이트에 처음 방문\n",
    "* session_start: 사용자가 앱 또는 웹사이트에 참여할 때\n",
    "* page_view: 페이지가 로드될 때\n",
    "* scroll: 사용자가 각 페이지에서 처음으로 하단에 도달할 때(세로 기준으로 페이지의 90% 이상이 표시될 때)\n",
    "* user_engagement: 1초 이상 웹페이지에 머물렀을 때\n",
    "* click: 사용자가 현재 도메인에서 나가는 링크를 클릭할 때"
   ]
  },
  {
   "cell_type": "code",
   "execution_count": 32,
   "metadata": {
    "id": "AD27CRg_i5yb"
   },
   "outputs": [
    {
     "data": {
      "text/html": [
       "<div>\n",
       "<style scoped>\n",
       "    .dataframe tbody tr th:only-of-type {\n",
       "        vertical-align: middle;\n",
       "    }\n",
       "\n",
       "    .dataframe tbody tr th {\n",
       "        vertical-align: top;\n",
       "    }\n",
       "\n",
       "    .dataframe thead th {\n",
       "        text-align: right;\n",
       "    }\n",
       "</style>\n",
       "<table border=\"1\" class=\"dataframe\">\n",
       "  <thead>\n",
       "    <tr style=\"text-align: right;\">\n",
       "      <th></th>\n",
       "      <th>event_date_kst</th>\n",
       "      <th>user_pseudo_id</th>\n",
       "      <th>event_timestamp_kst</th>\n",
       "      <th>user_first_touch_timestamp_kst</th>\n",
       "      <th>event_name</th>\n",
       "      <th>key</th>\n",
       "      <th>string_value</th>\n",
       "      <th>int_value</th>\n",
       "      <th>geo_continent</th>\n",
       "      <th>geo_country</th>\n",
       "      <th>traffic_source_medium</th>\n",
       "      <th>traffic_source</th>\n",
       "    </tr>\n",
       "  </thead>\n",
       "  <tbody>\n",
       "    <tr>\n",
       "      <th>16</th>\n",
       "      <td>2021-08-05</td>\n",
       "      <td>2e7e591e5b2b75de74baf0ae1ae6671d83240388</td>\n",
       "      <td>2021-08-05 23:55:07</td>\n",
       "      <td>2021-08-05 23:55:07</td>\n",
       "      <td>page_view</td>\n",
       "      <td>page_title</td>\n",
       "      <td>내가 만약 카톡 선물하기의 분석가라면</td>\n",
       "      <td>NaN</td>\n",
       "      <td>Asia</td>\n",
       "      <td>South Korea</td>\n",
       "      <td>(none)</td>\n",
       "      <td>(direct)</td>\n",
       "    </tr>\n",
       "    <tr>\n",
       "      <th>19</th>\n",
       "      <td>2021-08-05</td>\n",
       "      <td>2e7e591e5b2b75de74baf0ae1ae6671d83240388</td>\n",
       "      <td>2021-08-05 23:55:25</td>\n",
       "      <td>2021-08-05 23:55:07</td>\n",
       "      <td>scroll</td>\n",
       "      <td>page_title</td>\n",
       "      <td>내가 만약 카톡 선물하기의 분석가라면</td>\n",
       "      <td>NaN</td>\n",
       "      <td>Asia</td>\n",
       "      <td>South Korea</td>\n",
       "      <td>(none)</td>\n",
       "      <td>(direct)</td>\n",
       "    </tr>\n",
       "    <tr>\n",
       "      <th>30</th>\n",
       "      <td>2021-08-05</td>\n",
       "      <td>2e7e591e5b2b75de74baf0ae1ae6671d83240388</td>\n",
       "      <td>2021-08-05 23:57:48</td>\n",
       "      <td>2021-08-05 23:55:07</td>\n",
       "      <td>user_engagement</td>\n",
       "      <td>page_title</td>\n",
       "      <td>내가 만약 카톡 선물하기의 분석가라면</td>\n",
       "      <td>NaN</td>\n",
       "      <td>Asia</td>\n",
       "      <td>South Korea</td>\n",
       "      <td>(none)</td>\n",
       "      <td>(direct)</td>\n",
       "    </tr>\n",
       "    <tr>\n",
       "      <th>45</th>\n",
       "      <td>2021-08-05</td>\n",
       "      <td>93b652814b54bc68233f5f3ab7f021a778b575d6</td>\n",
       "      <td>2021-08-05 22:07:52</td>\n",
       "      <td>2021-08-05 22:07:52</td>\n",
       "      <td>page_view</td>\n",
       "      <td>page_title</td>\n",
       "      <td>Datarian</td>\n",
       "      <td>NaN</td>\n",
       "      <td>Asia</td>\n",
       "      <td>South Korea</td>\n",
       "      <td>(none)</td>\n",
       "      <td>(direct)</td>\n",
       "    </tr>\n",
       "    <tr>\n",
       "      <th>47</th>\n",
       "      <td>2021-08-05</td>\n",
       "      <td>93b652814b54bc68233f5f3ab7f021a778b575d6</td>\n",
       "      <td>2021-08-05 22:07:59</td>\n",
       "      <td>2021-08-05 22:07:52</td>\n",
       "      <td>scroll</td>\n",
       "      <td>page_title</td>\n",
       "      <td>Datarian</td>\n",
       "      <td>NaN</td>\n",
       "      <td>Asia</td>\n",
       "      <td>South Korea</td>\n",
       "      <td>(none)</td>\n",
       "      <td>(direct)</td>\n",
       "    </tr>\n",
       "    <tr>\n",
       "      <th>...</th>\n",
       "      <td>...</td>\n",
       "      <td>...</td>\n",
       "      <td>...</td>\n",
       "      <td>...</td>\n",
       "      <td>...</td>\n",
       "      <td>...</td>\n",
       "      <td>...</td>\n",
       "      <td>...</td>\n",
       "      <td>...</td>\n",
       "      <td>...</td>\n",
       "      <td>...</td>\n",
       "      <td>...</td>\n",
       "    </tr>\n",
       "    <tr>\n",
       "      <th>12336</th>\n",
       "      <td>2021-08-10</td>\n",
       "      <td>6815e666f5e45dbc148219cc7e89b8f61fc9f244</td>\n",
       "      <td>2021-08-10 10:31:08</td>\n",
       "      <td>2021-08-10 10:11:22</td>\n",
       "      <td>user_engagement</td>\n",
       "      <td>page_title</td>\n",
       "      <td>Datarian</td>\n",
       "      <td>NaN</td>\n",
       "      <td>Asia</td>\n",
       "      <td>South Korea</td>\n",
       "      <td>(none)</td>\n",
       "      <td>(direct)</td>\n",
       "    </tr>\n",
       "    <tr>\n",
       "      <th>12339</th>\n",
       "      <td>2021-08-10</td>\n",
       "      <td>6815e666f5e45dbc148219cc7e89b8f61fc9f244</td>\n",
       "      <td>2021-08-10 10:55:26</td>\n",
       "      <td>2021-08-10 10:11:22</td>\n",
       "      <td>page_view</td>\n",
       "      <td>page_title</td>\n",
       "      <td>Datarian</td>\n",
       "      <td>NaN</td>\n",
       "      <td>Asia</td>\n",
       "      <td>South Korea</td>\n",
       "      <td>(none)</td>\n",
       "      <td>(direct)</td>\n",
       "    </tr>\n",
       "    <tr>\n",
       "      <th>12421</th>\n",
       "      <td>2021-08-10</td>\n",
       "      <td>6815e666f5e45dbc148219cc7e89b8f61fc9f244</td>\n",
       "      <td>2021-08-10 10:56:48</td>\n",
       "      <td>2021-08-10 10:11:22</td>\n",
       "      <td>user_engagement</td>\n",
       "      <td>page_title</td>\n",
       "      <td>Datarian</td>\n",
       "      <td>NaN</td>\n",
       "      <td>Asia</td>\n",
       "      <td>South Korea</td>\n",
       "      <td>(none)</td>\n",
       "      <td>(direct)</td>\n",
       "    </tr>\n",
       "    <tr>\n",
       "      <th>12445</th>\n",
       "      <td>2021-08-10</td>\n",
       "      <td>ef9eb5753c4c556f95148152f327e5fa37929efc</td>\n",
       "      <td>2021-08-10 20:13:29</td>\n",
       "      <td>2021-08-10 20:13:29</td>\n",
       "      <td>page_view</td>\n",
       "      <td>page_title</td>\n",
       "      <td>데이터 분석을 위한 SQL 참고도서 추천</td>\n",
       "      <td>NaN</td>\n",
       "      <td>Asia</td>\n",
       "      <td>South Korea</td>\n",
       "      <td>referral</td>\n",
       "      <td>channeltab-godfather.onkakao.net</td>\n",
       "    </tr>\n",
       "    <tr>\n",
       "      <th>12455</th>\n",
       "      <td>2021-08-10</td>\n",
       "      <td>ef9eb5753c4c556f95148152f327e5fa37929efc</td>\n",
       "      <td>2021-08-10 20:13:31</td>\n",
       "      <td>2021-08-10 20:13:29</td>\n",
       "      <td>user_engagement</td>\n",
       "      <td>page_title</td>\n",
       "      <td>데이터 분석을 위한 SQL 참고도서 추천</td>\n",
       "      <td>NaN</td>\n",
       "      <td>Asia</td>\n",
       "      <td>South Korea</td>\n",
       "      <td>referral</td>\n",
       "      <td>channeltab-godfather.onkakao.net</td>\n",
       "    </tr>\n",
       "  </tbody>\n",
       "</table>\n",
       "<p>1007 rows × 12 columns</p>\n",
       "</div>"
      ],
      "text/plain": [
       "      event_date_kst                            user_pseudo_id  \\\n",
       "16        2021-08-05  2e7e591e5b2b75de74baf0ae1ae6671d83240388   \n",
       "19        2021-08-05  2e7e591e5b2b75de74baf0ae1ae6671d83240388   \n",
       "30        2021-08-05  2e7e591e5b2b75de74baf0ae1ae6671d83240388   \n",
       "45        2021-08-05  93b652814b54bc68233f5f3ab7f021a778b575d6   \n",
       "47        2021-08-05  93b652814b54bc68233f5f3ab7f021a778b575d6   \n",
       "...              ...                                       ...   \n",
       "12336     2021-08-10  6815e666f5e45dbc148219cc7e89b8f61fc9f244   \n",
       "12339     2021-08-10  6815e666f5e45dbc148219cc7e89b8f61fc9f244   \n",
       "12421     2021-08-10  6815e666f5e45dbc148219cc7e89b8f61fc9f244   \n",
       "12445     2021-08-10  ef9eb5753c4c556f95148152f327e5fa37929efc   \n",
       "12455     2021-08-10  ef9eb5753c4c556f95148152f327e5fa37929efc   \n",
       "\n",
       "       event_timestamp_kst user_first_touch_timestamp_kst       event_name  \\\n",
       "16     2021-08-05 23:55:07            2021-08-05 23:55:07        page_view   \n",
       "19     2021-08-05 23:55:25            2021-08-05 23:55:07           scroll   \n",
       "30     2021-08-05 23:57:48            2021-08-05 23:55:07  user_engagement   \n",
       "45     2021-08-05 22:07:52            2021-08-05 22:07:52        page_view   \n",
       "47     2021-08-05 22:07:59            2021-08-05 22:07:52           scroll   \n",
       "...                    ...                            ...              ...   \n",
       "12336  2021-08-10 10:31:08            2021-08-10 10:11:22  user_engagement   \n",
       "12339  2021-08-10 10:55:26            2021-08-10 10:11:22        page_view   \n",
       "12421  2021-08-10 10:56:48            2021-08-10 10:11:22  user_engagement   \n",
       "12445  2021-08-10 20:13:29            2021-08-10 20:13:29        page_view   \n",
       "12455  2021-08-10 20:13:31            2021-08-10 20:13:29  user_engagement   \n",
       "\n",
       "              key            string_value  int_value geo_continent  \\\n",
       "16     page_title    내가 만약 카톡 선물하기의 분석가라면        NaN          Asia   \n",
       "19     page_title    내가 만약 카톡 선물하기의 분석가라면        NaN          Asia   \n",
       "30     page_title    내가 만약 카톡 선물하기의 분석가라면        NaN          Asia   \n",
       "45     page_title                Datarian        NaN          Asia   \n",
       "47     page_title                Datarian        NaN          Asia   \n",
       "...           ...                     ...        ...           ...   \n",
       "12336  page_title                Datarian        NaN          Asia   \n",
       "12339  page_title                Datarian        NaN          Asia   \n",
       "12421  page_title                Datarian        NaN          Asia   \n",
       "12445  page_title  데이터 분석을 위한 SQL 참고도서 추천        NaN          Asia   \n",
       "12455  page_title  데이터 분석을 위한 SQL 참고도서 추천        NaN          Asia   \n",
       "\n",
       "       geo_country traffic_source_medium                    traffic_source  \n",
       "16     South Korea                (none)                          (direct)  \n",
       "19     South Korea                (none)                          (direct)  \n",
       "30     South Korea                (none)                          (direct)  \n",
       "45     South Korea                (none)                          (direct)  \n",
       "47     South Korea                (none)                          (direct)  \n",
       "...            ...                   ...                               ...  \n",
       "12336  South Korea                (none)                          (direct)  \n",
       "12339  South Korea                (none)                          (direct)  \n",
       "12421  South Korea                (none)                          (direct)  \n",
       "12445  South Korea              referral  channeltab-godfather.onkakao.net  \n",
       "12455  South Korea              referral  channeltab-godfather.onkakao.net  \n",
       "\n",
       "[1007 rows x 12 columns]"
      ]
     },
     "execution_count": 32,
     "metadata": {},
     "output_type": "execute_result"
    }
   ],
   "source": [
    "# Answer\n",
    "pages = ga[((ga['event_name'] == 'page_view')|(ga['event_name'] == 'scroll')|(ga['event_name'] == 'user_engagement'))]\n",
    "pages = pages[pages['key']=='page_title']\n",
    "\n",
    "pages"
   ]
  },
  {
   "cell_type": "markdown",
   "metadata": {
    "id": "xTh66IqDqezj"
   },
   "source": [
    "# Q3. 사람들이 가장 많이 본 페이지는 무엇일까요?\n",
    "\n",
    "사람들이 가장 많이 본 페이지가 뭔지 알아보고 데이터리안이 앞으로 블로그에 어떤 글을 더 써야할지 생각해봅시다. 아래 스텝에 따라 진행해주세요."
   ]
  },
  {
   "cell_type": "markdown",
   "metadata": {
    "id": "pp6bZrsQybOX"
   },
   "source": [
    "* Step 1. `pages` 데이터 프레임에서 '페이지 조회' 이벤트만 필터링하여 `page_view` 데이터 프레임을 만들어주세요.\n",
    "* Step 2. `page_view` 을 가지고 데이터 기간 동안 어떤 페이지가 몇 번 조회되었는지, 몇 명이 조회하였는지 계산하고 이를 `page_view_cnt` 데이터 프레임에 저장해주세요.\n",
    "  - Step 2 Output 예시\n",
    "\n",
    "| string_value                                |   count |   nunique |\n",
    "|:--------------------------------------------|--------:|----------:|\n",
    "| 2020 현업 분석가 3인 선데이 아점 토크 _ 1화 |       3 |         3 |\n",
    "| 2020 현업 분석가 3인 선데이 아점 토크 _ 2화 |       1 |         1 |\n",
    "| Blog                                        |      94 |        47 |\n",
    "\n",
    "* Step 3. 위 데이터를 페이지가 많이 조회 된 순서대로 정렬해주세요."
   ]
  },
  {
   "cell_type": "code",
   "execution_count": 41,
   "metadata": {
    "id": "9mBWZWyni8gD"
   },
   "outputs": [
    {
     "name": "stderr",
     "output_type": "stream",
     "text": [
      "/var/folders/83/jp6r_0zj1p39llmq2gz9rq380000gn/T/ipykernel_17226/161362929.py:2: FutureWarning: Indexing with multiple keys (implicitly converted to a tuple of keys) will be deprecated, use a list instead.\n",
      "  pages[pages['event_name']=='page_view'].groupby('string_value')['event_timestamp_kst','user_pseudo_id'].nunique()\n"
     ]
    },
    {
     "data": {
      "text/html": [
       "<div>\n",
       "<style scoped>\n",
       "    .dataframe tbody tr th:only-of-type {\n",
       "        vertical-align: middle;\n",
       "    }\n",
       "\n",
       "    .dataframe tbody tr th {\n",
       "        vertical-align: top;\n",
       "    }\n",
       "\n",
       "    .dataframe thead th {\n",
       "        text-align: right;\n",
       "    }\n",
       "</style>\n",
       "<table border=\"1\" class=\"dataframe\">\n",
       "  <thead>\n",
       "    <tr style=\"text-align: right;\">\n",
       "      <th></th>\n",
       "      <th>event_timestamp_kst</th>\n",
       "      <th>user_pseudo_id</th>\n",
       "    </tr>\n",
       "    <tr>\n",
       "      <th>string_value</th>\n",
       "      <th></th>\n",
       "      <th></th>\n",
       "    </tr>\n",
       "  </thead>\n",
       "  <tbody>\n",
       "    <tr>\n",
       "      <th>2020 현업 분석가 3인 선데이 아점 토크 _ 1화</th>\n",
       "      <td>3</td>\n",
       "      <td>3</td>\n",
       "    </tr>\n",
       "    <tr>\n",
       "      <th>2020 현업 분석가 3인 선데이 아점 토크 _ 2화</th>\n",
       "      <td>1</td>\n",
       "      <td>1</td>\n",
       "    </tr>\n",
       "    <tr>\n",
       "      <th>Blog</th>\n",
       "      <td>94</td>\n",
       "      <td>47</td>\n",
       "    </tr>\n",
       "    <tr>\n",
       "      <th>Datarian</th>\n",
       "      <td>117</td>\n",
       "      <td>63</td>\n",
       "    </tr>\n",
       "    <tr>\n",
       "      <th>Grid Search vs Random Search</th>\n",
       "      <td>1</td>\n",
       "      <td>1</td>\n",
       "    </tr>\n",
       "    <tr>\n",
       "      <th>Members</th>\n",
       "      <td>87</td>\n",
       "      <td>32</td>\n",
       "    </tr>\n",
       "    <tr>\n",
       "      <th>[백문이불여일타] SQL 시리즈 강의 가이드</th>\n",
       "      <td>5</td>\n",
       "      <td>4</td>\n",
       "    </tr>\n",
       "    <tr>\n",
       "      <th>내가 만약 카톡 선물하기의 분석가라면</th>\n",
       "      <td>34</td>\n",
       "      <td>26</td>\n",
       "    </tr>\n",
       "    <tr>\n",
       "      <th>데이터 분석가 빙고</th>\n",
       "      <td>1</td>\n",
       "      <td>1</td>\n",
       "    </tr>\n",
       "    <tr>\n",
       "      <th>데이터 분석을 위한 SQL 참고도서 추천</th>\n",
       "      <td>86</td>\n",
       "      <td>71</td>\n",
       "    </tr>\n",
       "    <tr>\n",
       "      <th>인프런 지식 공유자는 이런 데이터가 궁금해요!</th>\n",
       "      <td>3</td>\n",
       "      <td>3</td>\n",
       "    </tr>\n",
       "    <tr>\n",
       "      <th>직방, 다방, 네이버 부동산, 집토스 뭐가 다를까? (부제: 프롭테크 산업이란?)</th>\n",
       "      <td>14</td>\n",
       "      <td>10</td>\n",
       "    </tr>\n",
       "    <tr>\n",
       "      <th>한국 기후위기 데이터로 글쓰고 100만원 받기</th>\n",
       "      <td>8</td>\n",
       "      <td>7</td>\n",
       "    </tr>\n",
       "  </tbody>\n",
       "</table>\n",
       "</div>"
      ],
      "text/plain": [
       "                                               event_timestamp_kst  \\\n",
       "string_value                                                         \n",
       "2020 현업 분석가 3인 선데이 아점 토크 _ 1화                                    3   \n",
       "2020 현업 분석가 3인 선데이 아점 토크 _ 2화                                    1   \n",
       "Blog                                                            94   \n",
       "Datarian                                                       117   \n",
       "Grid Search vs Random Search                                     1   \n",
       "Members                                                         87   \n",
       "[백문이불여일타] SQL 시리즈 강의 가이드                                         5   \n",
       "내가 만약 카톡 선물하기의 분석가라면                                            34   \n",
       "데이터 분석가 빙고                                                       1   \n",
       "데이터 분석을 위한 SQL 참고도서 추천                                          86   \n",
       "인프런 지식 공유자는 이런 데이터가 궁금해요!                                        3   \n",
       "직방, 다방, 네이버 부동산, 집토스 뭐가 다를까? (부제: 프롭테크 산업이란?)                   14   \n",
       "한국 기후위기 데이터로 글쓰고 100만원 받기                                        8   \n",
       "\n",
       "                                               user_pseudo_id  \n",
       "string_value                                                   \n",
       "2020 현업 분석가 3인 선데이 아점 토크 _ 1화                               3  \n",
       "2020 현업 분석가 3인 선데이 아점 토크 _ 2화                               1  \n",
       "Blog                                                       47  \n",
       "Datarian                                                   63  \n",
       "Grid Search vs Random Search                                1  \n",
       "Members                                                    32  \n",
       "[백문이불여일타] SQL 시리즈 강의 가이드                                    4  \n",
       "내가 만약 카톡 선물하기의 분석가라면                                       26  \n",
       "데이터 분석가 빙고                                                  1  \n",
       "데이터 분석을 위한 SQL 참고도서 추천                                     71  \n",
       "인프런 지식 공유자는 이런 데이터가 궁금해요!                                   3  \n",
       "직방, 다방, 네이버 부동산, 집토스 뭐가 다를까? (부제: 프롭테크 산업이란?)              10  \n",
       "한국 기후위기 데이터로 글쓰고 100만원 받기                                   7  "
      ]
     },
     "execution_count": 41,
     "metadata": {},
     "output_type": "execute_result"
    }
   ],
   "source": [
    "# Answer\n",
    "pages[pages['event_name']=='page_view'].groupby('string_value')['event_timestamp_kst','user_pseudo_id'].nunique()"
   ]
  },
  {
   "cell_type": "markdown",
   "metadata": {
    "id": "Xy1EKWNdyeBl"
   },
   "source": [
    "### 질문\n",
    "\n",
    "* 질문1: 가장 많이 조회된 페이지는 어디이고, 데이터 기간 동안 몇 번 조회되었나요?\n",
    "* 답변1: \n",
    "\n",
    "<br>\n",
    "\n",
    "* 질문2: 데이터리안 블로그의 구조에서 '탭'에 속하는 'Datarian', 'Blog', 'Member'를 제외한 페이지들은 블로그 글입니다. 어떤 글이 가장 많이 읽혔나요? 데이터 기간 동안 몇 번 조회되었나요?\n",
    "* 답변2: "
   ]
  },
  {
   "cell_type": "markdown",
   "metadata": {
    "id": "rwksjSm57BnW"
   },
   "source": [
    "# Q4. 사람들이 가장 많이 읽은 페이지는 무엇일까요?\n",
    "\n",
    "위에서 살펴본 pageview 로그는 단순히 그 '페이지를 조회했다'를 의미합니다. 그러면 사람들이 글을 실제로 읽었는지 확인해보려면 어떤 방법들이 있을 수 있을까요?\n",
    "\n",
    "그 페이지에 얼마나 머물렀는지, 스크롤을 얼마나 내렸는지, 글 안의 링크들을 클릭해 보았는지 등으로 사람들이 그 컨텐츠를 실제로 소비했는지를 가늠해 볼 수 있을겁니다. 이번 문제에서는 'page_view'와 함께 'user_engagement', 'scroll' 로그를 함께 분석해봅시다."
   ]
  },
  {
   "cell_type": "markdown",
   "metadata": {
    "id": "lmkuzrOrQiQv"
   },
   "source": [
    "**[참고] 이벤트 정의**\n",
    "\n",
    "상단에 `[GA4] 자동으로 수집되는 이벤트` 문서에서 더 자세한 내용을 보실 수 있습니다.\n",
    "* page_view: 페이지가 로드될 때\n",
    "* scroll: 사용자가 각 페이지에서 처음으로 하단에 도달할 때(세로 기준으로 페이지의 90% 이상이 표시될 때)\n",
    "* user_engagement: 1초 이상 웹페이지에 머물렀을 때"
   ]
  },
  {
   "cell_type": "markdown",
   "metadata": {
    "id": "zIKnz60kG92P"
   },
   "source": [
    "**아래 스텝에 따라서 진행해주세요.**\n",
    "\n",
    "* Step 1. `pages` 데이터 프레임을 활용하여 페이지 별 조회수, 스크롤 90% 이상 히트 횟수, 페이지에서 1초 이상 머무른 횟수를 집계해주세요. 집계 결과는 `pages_pivot` 변수에 저장하세요.\n",
    "\n",
    "  - Step 1 Output 예시\n",
    "\n",
    "| string_value                                |   page_view |   scroll |   user_engagement |\n",
    "|:--------------------------------------------|------------:|---------:|------------------:|\n",
    "| 2020 현업 분석가 3인 선데이 아점 토크 _ 1화 |           3 |        1 |                 3 |\n",
    "| 2020 현업 분석가 3인 선데이 아점 토크 _ 2화 |           1 |        0 |                 1 |\n",
    "| Blog                                        |          94 |       22 |                82 |\n",
    "\n",
    "<br>\n",
    "\n",
    "* Step 2. 데이터 해석의 편의를 위해 `pages_pivot` 데이터 프레임을 조회수가 많은 기준으로 정렬하여 `pages_pivot` 데이터 프레임에 다시 저장합니다.\n",
    "\n",
    "<br>\n",
    "\n",
    "* Step 3. 블로그 글에 노출된 사람들 중 그 글을 실제로 읽은 사람이 얼마나 되는지, 다 읽은 사람이 얼마나 되는지 비율을 계산하고 싶습니다. `page_view`, `scroll`, `user_engagement` 컬럼을 이용하여 비율을 계산하고 `scroll %`, `user engagement %` 컬럼을 추가하세요.\n",
    "\n",
    "  - Step 3 Output 예시\n",
    "\n",
    "| string_value   |   page_view |   scroll |   user_engagement |   scroll % |   user engagement % |\n",
    "|:---------------|------------:|---------:|------------------:|-----------:|--------------------:|\n",
    "| Datarian       |         117 |       68 |                97 |    58.1197 |             82.906  |\n",
    "| Blog           |          94 |       22 |                82 |    23.4043 |             87.234  |\n",
    "| Members        |          88 |       26 |                64 |    29.5455 |             72.7273 |"
   ]
  },
  {
   "cell_type": "code",
   "execution_count": 65,
   "metadata": {
    "id": "BTS4ZsxZEAt6"
   },
   "outputs": [
    {
     "data": {
      "text/html": [
       "<div>\n",
       "<style scoped>\n",
       "    .dataframe tbody tr th:only-of-type {\n",
       "        vertical-align: middle;\n",
       "    }\n",
       "\n",
       "    .dataframe tbody tr th {\n",
       "        vertical-align: top;\n",
       "    }\n",
       "\n",
       "    .dataframe thead th {\n",
       "        text-align: right;\n",
       "    }\n",
       "</style>\n",
       "<table border=\"1\" class=\"dataframe\">\n",
       "  <thead>\n",
       "    <tr style=\"text-align: right;\">\n",
       "      <th>event_name</th>\n",
       "      <th>page_view</th>\n",
       "      <th>scroll</th>\n",
       "      <th>user_engagement</th>\n",
       "      <th>user engagement</th>\n",
       "    </tr>\n",
       "    <tr>\n",
       "      <th>string_value</th>\n",
       "      <th></th>\n",
       "      <th></th>\n",
       "      <th></th>\n",
       "      <th></th>\n",
       "    </tr>\n",
       "  </thead>\n",
       "  <tbody>\n",
       "    <tr>\n",
       "      <th>Datarian</th>\n",
       "      <td>117.0</td>\n",
       "      <td>0.581197</td>\n",
       "      <td>97.0</td>\n",
       "      <td>0.829060</td>\n",
       "    </tr>\n",
       "    <tr>\n",
       "      <th>Blog</th>\n",
       "      <td>94.0</td>\n",
       "      <td>0.234043</td>\n",
       "      <td>82.0</td>\n",
       "      <td>0.872340</td>\n",
       "    </tr>\n",
       "    <tr>\n",
       "      <th>Members</th>\n",
       "      <td>88.0</td>\n",
       "      <td>0.295455</td>\n",
       "      <td>64.0</td>\n",
       "      <td>0.727273</td>\n",
       "    </tr>\n",
       "    <tr>\n",
       "      <th>데이터 분석을 위한 SQL 참고도서 추천</th>\n",
       "      <td>86.0</td>\n",
       "      <td>0.581395</td>\n",
       "      <td>58.0</td>\n",
       "      <td>0.674419</td>\n",
       "    </tr>\n",
       "    <tr>\n",
       "      <th>내가 만약 카톡 선물하기의 분석가라면</th>\n",
       "      <td>34.0</td>\n",
       "      <td>0.529412</td>\n",
       "      <td>21.0</td>\n",
       "      <td>0.617647</td>\n",
       "    </tr>\n",
       "  </tbody>\n",
       "</table>\n",
       "</div>"
      ],
      "text/plain": [
       "event_name              page_view    scroll  user_engagement  user engagement\n",
       "string_value                                                                 \n",
       "Datarian                    117.0  0.581197             97.0         0.829060\n",
       "Blog                         94.0  0.234043             82.0         0.872340\n",
       "Members                      88.0  0.295455             64.0         0.727273\n",
       "데이터 분석을 위한 SQL 참고도서 추천       86.0  0.581395             58.0         0.674419\n",
       "내가 만약 카톡 선물하기의 분석가라면         34.0  0.529412             21.0         0.617647"
      ]
     },
     "execution_count": 65,
     "metadata": {},
     "output_type": "execute_result"
    }
   ],
   "source": [
    "# Answer\n",
    "pivot_table = pd.pivot_table(pages, index='string_value', columns='event_name',values='event_timestamp_kst',aggfunc='count')\n",
    "pivot_table = pivot_table.sort_values(by='page_view', ascending=False)\n",
    "pivot_table['scroll'] = pivot_table['scroll']/pivot_table['page_view']\n",
    "pivot_table['user engagement'] = pivot_table['user_engagement']/pivot_table['page_view']\n",
    "pivot_table.head()"
   ]
  },
  {
   "cell_type": "markdown",
   "metadata": {
    "id": "vz26HEAUEP25"
   },
   "source": [
    "### 질문\n",
    "\n",
    "* 질문1: 페이지의 하단 90% 까지 내렸을 때 `scroll` 로그가 기록됩니다. 이 로그를 보고 글의 완독률을 대략 파악할 수 있겠지요! '데이터 분석을 위한 SQL 참고도서 추천' 글의 완독률은 어느정도 인가요? 다른 글과 비교해 높은 편인가요 낮은 편인가요?\n",
    "* 답변1:\n",
    "\n",
    "<br>\n",
    "\n",
    "* 질문2: 페이지에서 1초 이상 머물 경우 `user_engagement` 로그가 기록됩니다. `page_view` 로그는 있으나 `user_engagement` 로그가 없는 경우를 어떻게 해석할 수 있을까요? '데이터 분석을 위한 SQL 참고도서 추천'의 `user engagement` 비율은 얼마이며 이를 어떻게 개선할 수 있을까요?\n",
    "* 답변2:"
   ]
  },
  {
   "cell_type": "markdown",
   "metadata": {
    "id": "WBtLU1oeFG62"
   },
   "source": [
    "# Q5. 여러분들의 분석 아이디어를 들려주세요.\n",
    "\n",
    "여러분들의 분석 내용을 인프런 블로그 또는 개인 블로그에 `#데이터리안` `#판다스공부` `#TIL` 해시태그로 공유해주세요! `velog.io`, `brunch`, `medium` 등 개인 블로그에 올리신 분들은 인프런 블로그로 링크를 올려주시면 저희가 검색해서 찾아갈 수 있을 것 같아요.\n",
    "\n",
    "분석 내용 뿐 아니라 노트북 자체를 공유하고 싶은 분들은 아래 예시를 참고해주세요.\n",
    "* [nbviewer 예시](https://nbviewer.jupyter.org/github/dataitgirls3/Teaching-Materials/blob/master/2019-09-09%20Pandas%20%EC%88%98%EC%97%85%20%EB%B3%B4%EC%B6%A9%EC%9E%90%EB%A3%8C.ipynb)\n",
    "* [github 예시](https://github.com/dataitgirls3/Teaching-Materials/blob/master/Comprehension.ipynb)\n",
    "\n",
    "인프런 블로그에 올리실 때 `#데이터리안` `#판다스공부` 해시태그 다는거 잊지 말아주세요!"
   ]
  },
  {
   "cell_type": "code",
   "execution_count": null,
   "metadata": {
    "id": "-_K6Y1v0FPS-"
   },
   "outputs": [],
   "source": [
    "# 추가 분석"
   ]
  },
  {
   "cell_type": "markdown",
   "metadata": {
    "id": "Cwx4XeW7FQae"
   },
   "source": [
    "# 수고하셨습니다!"
   ]
  }
 ],
 "metadata": {
  "colab": {
   "collapsed_sections": [],
   "provenance": []
  },
  "kernelspec": {
   "display_name": "Python 3 (ipykernel)",
   "language": "python",
   "name": "python3"
  },
  "language_info": {
   "codemirror_mode": {
    "name": "ipython",
    "version": 3
   },
   "file_extension": ".py",
   "mimetype": "text/x-python",
   "name": "python",
   "nbconvert_exporter": "python",
   "pygments_lexer": "ipython3",
   "version": "3.9.7"
  }
 },
 "nbformat": 4,
 "nbformat_minor": 1
}
