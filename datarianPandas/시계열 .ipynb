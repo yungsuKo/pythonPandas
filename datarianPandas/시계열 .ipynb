{
 "cells": [
  {
   "cell_type": "code",
   "execution_count": 1,
   "id": "e7f878e5",
   "metadata": {},
   "outputs": [],
   "source": [
    "import pandas as pd"
   ]
  },
  {
   "cell_type": "code",
   "execution_count": 2,
   "id": "678a1c83",
   "metadata": {},
   "outputs": [],
   "source": [
    "air_quality = pd.read_csv('https://raw.githubusercontent.com/pandas-dev/pandas/master/doc/data/air_quality_no2_long.csv')"
   ]
  },
  {
   "cell_type": "code",
   "execution_count": 5,
   "id": "9fee2a62",
   "metadata": {},
   "outputs": [
    {
     "name": "stdout",
     "output_type": "stream",
     "text": [
      "<class 'pandas.core.frame.DataFrame'>\n",
      "RangeIndex: 2068 entries, 0 to 2067\n",
      "Data columns (total 7 columns):\n",
      " #   Column     Non-Null Count  Dtype  \n",
      "---  ------     --------------  -----  \n",
      " 0   city       2068 non-null   object \n",
      " 1   country    2068 non-null   object \n",
      " 2   date.utc   2068 non-null   object \n",
      " 3   location   2068 non-null   object \n",
      " 4   parameter  2068 non-null   object \n",
      " 5   value      2068 non-null   float64\n",
      " 6   unit       2068 non-null   object \n",
      "dtypes: float64(1), object(6)\n",
      "memory usage: 113.2+ KB\n"
     ]
    }
   ],
   "source": [
    "air_quality.info()"
   ]
  },
  {
   "cell_type": "code",
   "execution_count": 10,
   "id": "807b65c7",
   "metadata": {},
   "outputs": [
    {
     "name": "stdout",
     "output_type": "stream",
     "text": [
      "<class 'pandas.core.frame.DataFrame'>\n",
      "RangeIndex: 2068 entries, 0 to 2067\n",
      "Data columns (total 7 columns):\n",
      " #   Column     Non-Null Count  Dtype              \n",
      "---  ------     --------------  -----              \n",
      " 0   city       2068 non-null   object             \n",
      " 1   country    2068 non-null   object             \n",
      " 2   date.utc   2068 non-null   datetime64[ns, UTC]\n",
      " 3   location   2068 non-null   object             \n",
      " 4   parameter  2068 non-null   object             \n",
      " 5   value      2068 non-null   float64            \n",
      " 6   unit       2068 non-null   object             \n",
      "dtypes: datetime64[ns, UTC](1), float64(1), object(5)\n",
      "memory usage: 113.2+ KB\n"
     ]
    }
   ],
   "source": [
    "air_quality['date.utc'] = pd.to_datetime(air_quality['date.utc'])\n",
    "air_quality.info()"
   ]
  },
  {
   "cell_type": "code",
   "execution_count": 12,
   "id": "a8b7947f",
   "metadata": {},
   "outputs": [
    {
     "name": "stdout",
     "output_type": "stream",
     "text": [
      "2019-05-07 01:00:00+00:00\n",
      "2019-06-21 00:00:00+00:00\n"
     ]
    }
   ],
   "source": [
    "print(air_quality['date.utc'].min())\n",
    "print(air_quality['date.utc'].max())"
   ]
  },
  {
   "cell_type": "code",
   "execution_count": 13,
   "id": "3b23bbc8",
   "metadata": {},
   "outputs": [
    {
     "data": {
      "text/plain": [
       "Timedelta('44 days 23:00:00')"
      ]
     },
     "execution_count": 13,
     "metadata": {},
     "output_type": "execute_result"
    }
   ],
   "source": [
    "air_quality['date.utc'].max() - air_quality['date.utc'].min()"
   ]
  },
  {
   "cell_type": "code",
   "execution_count": 15,
   "id": "06311335",
   "metadata": {},
   "outputs": [
    {
     "data": {
      "text/html": [
       "<div>\n",
       "<style scoped>\n",
       "    .dataframe tbody tr th:only-of-type {\n",
       "        vertical-align: middle;\n",
       "    }\n",
       "\n",
       "    .dataframe tbody tr th {\n",
       "        vertical-align: top;\n",
       "    }\n",
       "\n",
       "    .dataframe thead th {\n",
       "        text-align: right;\n",
       "    }\n",
       "</style>\n",
       "<table border=\"1\" class=\"dataframe\">\n",
       "  <thead>\n",
       "    <tr style=\"text-align: right;\">\n",
       "      <th></th>\n",
       "      <th>city</th>\n",
       "      <th>country</th>\n",
       "      <th>date.utc</th>\n",
       "      <th>location</th>\n",
       "      <th>parameter</th>\n",
       "      <th>value</th>\n",
       "      <th>unit</th>\n",
       "      <th>month</th>\n",
       "      <th>hour</th>\n",
       "    </tr>\n",
       "  </thead>\n",
       "  <tbody>\n",
       "    <tr>\n",
       "      <th>0</th>\n",
       "      <td>Paris</td>\n",
       "      <td>FR</td>\n",
       "      <td>2019-06-21 00:00:00+00:00</td>\n",
       "      <td>FR04014</td>\n",
       "      <td>no2</td>\n",
       "      <td>20.0</td>\n",
       "      <td>µg/m³</td>\n",
       "      <td>6</td>\n",
       "      <td>0</td>\n",
       "    </tr>\n",
       "    <tr>\n",
       "      <th>1</th>\n",
       "      <td>Paris</td>\n",
       "      <td>FR</td>\n",
       "      <td>2019-06-20 23:00:00+00:00</td>\n",
       "      <td>FR04014</td>\n",
       "      <td>no2</td>\n",
       "      <td>21.8</td>\n",
       "      <td>µg/m³</td>\n",
       "      <td>6</td>\n",
       "      <td>23</td>\n",
       "    </tr>\n",
       "    <tr>\n",
       "      <th>2</th>\n",
       "      <td>Paris</td>\n",
       "      <td>FR</td>\n",
       "      <td>2019-06-20 22:00:00+00:00</td>\n",
       "      <td>FR04014</td>\n",
       "      <td>no2</td>\n",
       "      <td>26.5</td>\n",
       "      <td>µg/m³</td>\n",
       "      <td>6</td>\n",
       "      <td>22</td>\n",
       "    </tr>\n",
       "    <tr>\n",
       "      <th>3</th>\n",
       "      <td>Paris</td>\n",
       "      <td>FR</td>\n",
       "      <td>2019-06-20 21:00:00+00:00</td>\n",
       "      <td>FR04014</td>\n",
       "      <td>no2</td>\n",
       "      <td>24.9</td>\n",
       "      <td>µg/m³</td>\n",
       "      <td>6</td>\n",
       "      <td>21</td>\n",
       "    </tr>\n",
       "    <tr>\n",
       "      <th>4</th>\n",
       "      <td>Paris</td>\n",
       "      <td>FR</td>\n",
       "      <td>2019-06-20 20:00:00+00:00</td>\n",
       "      <td>FR04014</td>\n",
       "      <td>no2</td>\n",
       "      <td>21.4</td>\n",
       "      <td>µg/m³</td>\n",
       "      <td>6</td>\n",
       "      <td>20</td>\n",
       "    </tr>\n",
       "    <tr>\n",
       "      <th>...</th>\n",
       "      <td>...</td>\n",
       "      <td>...</td>\n",
       "      <td>...</td>\n",
       "      <td>...</td>\n",
       "      <td>...</td>\n",
       "      <td>...</td>\n",
       "      <td>...</td>\n",
       "      <td>...</td>\n",
       "      <td>...</td>\n",
       "    </tr>\n",
       "    <tr>\n",
       "      <th>2063</th>\n",
       "      <td>London</td>\n",
       "      <td>GB</td>\n",
       "      <td>2019-05-07 06:00:00+00:00</td>\n",
       "      <td>London Westminster</td>\n",
       "      <td>no2</td>\n",
       "      <td>26.0</td>\n",
       "      <td>µg/m³</td>\n",
       "      <td>5</td>\n",
       "      <td>6</td>\n",
       "    </tr>\n",
       "    <tr>\n",
       "      <th>2064</th>\n",
       "      <td>London</td>\n",
       "      <td>GB</td>\n",
       "      <td>2019-05-07 04:00:00+00:00</td>\n",
       "      <td>London Westminster</td>\n",
       "      <td>no2</td>\n",
       "      <td>16.0</td>\n",
       "      <td>µg/m³</td>\n",
       "      <td>5</td>\n",
       "      <td>4</td>\n",
       "    </tr>\n",
       "    <tr>\n",
       "      <th>2065</th>\n",
       "      <td>London</td>\n",
       "      <td>GB</td>\n",
       "      <td>2019-05-07 03:00:00+00:00</td>\n",
       "      <td>London Westminster</td>\n",
       "      <td>no2</td>\n",
       "      <td>19.0</td>\n",
       "      <td>µg/m³</td>\n",
       "      <td>5</td>\n",
       "      <td>3</td>\n",
       "    </tr>\n",
       "    <tr>\n",
       "      <th>2066</th>\n",
       "      <td>London</td>\n",
       "      <td>GB</td>\n",
       "      <td>2019-05-07 02:00:00+00:00</td>\n",
       "      <td>London Westminster</td>\n",
       "      <td>no2</td>\n",
       "      <td>19.0</td>\n",
       "      <td>µg/m³</td>\n",
       "      <td>5</td>\n",
       "      <td>2</td>\n",
       "    </tr>\n",
       "    <tr>\n",
       "      <th>2067</th>\n",
       "      <td>London</td>\n",
       "      <td>GB</td>\n",
       "      <td>2019-05-07 01:00:00+00:00</td>\n",
       "      <td>London Westminster</td>\n",
       "      <td>no2</td>\n",
       "      <td>23.0</td>\n",
       "      <td>µg/m³</td>\n",
       "      <td>5</td>\n",
       "      <td>1</td>\n",
       "    </tr>\n",
       "  </tbody>\n",
       "</table>\n",
       "<p>2068 rows × 9 columns</p>\n",
       "</div>"
      ],
      "text/plain": [
       "        city country                  date.utc            location parameter  \\\n",
       "0      Paris      FR 2019-06-21 00:00:00+00:00             FR04014       no2   \n",
       "1      Paris      FR 2019-06-20 23:00:00+00:00             FR04014       no2   \n",
       "2      Paris      FR 2019-06-20 22:00:00+00:00             FR04014       no2   \n",
       "3      Paris      FR 2019-06-20 21:00:00+00:00             FR04014       no2   \n",
       "4      Paris      FR 2019-06-20 20:00:00+00:00             FR04014       no2   \n",
       "...      ...     ...                       ...                 ...       ...   \n",
       "2063  London      GB 2019-05-07 06:00:00+00:00  London Westminster       no2   \n",
       "2064  London      GB 2019-05-07 04:00:00+00:00  London Westminster       no2   \n",
       "2065  London      GB 2019-05-07 03:00:00+00:00  London Westminster       no2   \n",
       "2066  London      GB 2019-05-07 02:00:00+00:00  London Westminster       no2   \n",
       "2067  London      GB 2019-05-07 01:00:00+00:00  London Westminster       no2   \n",
       "\n",
       "      value   unit  month  hour  \n",
       "0      20.0  µg/m³      6     0  \n",
       "1      21.8  µg/m³      6    23  \n",
       "2      26.5  µg/m³      6    22  \n",
       "3      24.9  µg/m³      6    21  \n",
       "4      21.4  µg/m³      6    20  \n",
       "...     ...    ...    ...   ...  \n",
       "2063   26.0  µg/m³      5     6  \n",
       "2064   16.0  µg/m³      5     4  \n",
       "2065   19.0  µg/m³      5     3  \n",
       "2066   19.0  µg/m³      5     2  \n",
       "2067   23.0  µg/m³      5     1  \n",
       "\n",
       "[2068 rows x 9 columns]"
      ]
     },
     "execution_count": 15,
     "metadata": {},
     "output_type": "execute_result"
    }
   ],
   "source": [
    "air_quality['month'] = air_quality['date.utc'].dt.month\n",
    "air_quality['hour'] = air_quality['date.utc'].dt.hour\n",
    "air_quality"
   ]
  },
  {
   "cell_type": "code",
   "execution_count": 16,
   "id": "3bca4c0b",
   "metadata": {},
   "outputs": [
    {
     "data": {
      "text/plain": [
       "hour\n",
       "0     27.955294\n",
       "1     26.125688\n",
       "2     23.558511\n",
       "3     23.242683\n",
       "4     22.979518\n",
       "5     27.070732\n",
       "6     30.635632\n",
       "7     31.346591\n",
       "8     29.138636\n",
       "9     26.071591\n",
       "10    22.602326\n",
       "11    21.275294\n",
       "12    21.029762\n",
       "13    21.008235\n",
       "14    21.737647\n",
       "15    23.840000\n",
       "16    24.972619\n",
       "17    26.691667\n",
       "18    27.089412\n",
       "19    28.143529\n",
       "20    29.372941\n",
       "21    30.973256\n",
       "22    32.451282\n",
       "23    31.189412\n",
       "Name: value, dtype: float64"
      ]
     },
     "execution_count": 16,
     "metadata": {},
     "output_type": "execute_result"
    }
   ],
   "source": [
    "air_quality.groupby('hour')['value'].mean()"
   ]
  },
  {
   "cell_type": "code",
   "execution_count": 21,
   "id": "f7150a49",
   "metadata": {},
   "outputs": [
    {
     "data": {
      "text/plain": [
       "Text(0, 0.5, 'Air quality')"
      ]
     },
     "execution_count": 21,
     "metadata": {},
     "output_type": "execute_result"
    },
    {
     "data": {
      "image/png": "[encoded data removed]",
      "text/plain": [
       "<Figure size 864x288 with 1 Axes>"
      ]
     },
     "metadata": {
      "needs_background": "light"
     },
     "output_type": "display_data"
    }
   ],
   "source": [
    "import matplotlib.pyplot as plt\n",
    "fig, axis = plt.subplots(figsize=(12,4))\n",
    "air_quality.groupby('hour')['value'].mean().plot(kind='bar', ax=axis, rot=0)\n",
    "\n",
    "axis.set_xlabel('Hours of the day')\n",
    "axis.set_ylabel('Air quality')"
   ]
  },
  {
   "cell_type": "markdown",
   "id": "1c792bc6",
   "metadata": {},
   "source": [
    "# Datetime as index"
   ]
  },
  {
   "cell_type": "code",
   "execution_count": 23,
   "id": "a440d80f",
   "metadata": {},
   "outputs": [],
   "source": [
    "no2 = air_quality.pivot(index=\"date.utc\", columns='location', values='value')"
   ]
  },
  {
   "cell_type": "code",
   "execution_count": 27,
   "id": "a5b678a7",
   "metadata": {},
   "outputs": [
    {
     "data": {
      "text/plain": [
       "DatetimeIndex(['2019-05-07 01:00:00+00:00', '2019-05-07 02:00:00+00:00',\n",
       "               '2019-05-07 03:00:00+00:00', '2019-05-07 04:00:00+00:00',\n",
       "               '2019-05-07 05:00:00+00:00', '2019-05-07 06:00:00+00:00',\n",
       "               '2019-05-07 07:00:00+00:00', '2019-05-07 08:00:00+00:00',\n",
       "               '2019-05-07 09:00:00+00:00', '2019-05-07 10:00:00+00:00',\n",
       "               ...\n",
       "               '2019-06-20 15:00:00+00:00', '2019-06-20 16:00:00+00:00',\n",
       "               '2019-06-20 17:00:00+00:00', '2019-06-20 18:00:00+00:00',\n",
       "               '2019-06-20 19:00:00+00:00', '2019-06-20 20:00:00+00:00',\n",
       "               '2019-06-20 21:00:00+00:00', '2019-06-20 22:00:00+00:00',\n",
       "               '2019-06-20 23:00:00+00:00', '2019-06-21 00:00:00+00:00'],\n",
       "              dtype='datetime64[ns, UTC]', name='date.utc', length=1033, freq=None)"
      ]
     },
     "execution_count": 27,
     "metadata": {},
     "output_type": "execute_result"
    }
   ],
   "source": [
    "no2.index\n"
   ]
  },
  {
   "cell_type": "code",
   "execution_count": 28,
   "id": "6b544273",
   "metadata": {},
   "outputs": [
    {
     "data": {
      "text/plain": [
       "<AxesSubplot:xlabel='date.utc'>"
      ]
     },
     "execution_count": 28,
     "metadata": {},
     "output_type": "execute_result"
    },
    {
     "data": {
      "image/png": "[encoded data removed]",
      "text/plain": [
       "<Figure size 432x288 with 1 Axes>"
      ]
     },
     "metadata": {
      "needs_background": "light"
     },
     "output_type": "display_data"
    }
   ],
   "source": [
    "no2['2019-05-07':'2019-05-31'].plot()"
   ]
  },
  {
   "cell_type": "markdown",
   "id": "b9f05d88",
   "metadata": {},
   "source": [
    "# Resample\n",
    "그룹바이와 비슷한 개념으로 이해하면 좋음"
   ]
  },
  {
   "cell_type": "code",
   "execution_count": 33,
   "id": "71d58d08",
   "metadata": {},
   "outputs": [
    {
     "data": {
      "text/plain": [
       "<MonthEnd>"
      ]
     },
     "execution_count": 33,
     "metadata": {},
     "output_type": "execute_result"
    }
   ],
   "source": [
    "monthly_max = no2.resample(\"M\").max()\n",
    "monthly_max.index.freq"
   ]
  },
  {
   "cell_type": "code",
   "execution_count": 35,
   "id": "bc430b24",
   "metadata": {},
   "outputs": [
    {
     "data": {
      "text/html": [
       "<div>\n",
       "<style scoped>\n",
       "    .dataframe tbody tr th:only-of-type {\n",
       "        vertical-align: middle;\n",
       "    }\n",
       "\n",
       "    .dataframe tbody tr th {\n",
       "        vertical-align: top;\n",
       "    }\n",
       "\n",
       "    .dataframe thead th {\n",
       "        text-align: right;\n",
       "    }\n",
       "</style>\n",
       "<table border=\"1\" class=\"dataframe\">\n",
       "  <thead>\n",
       "    <tr style=\"text-align: right;\">\n",
       "      <th>location</th>\n",
       "      <th>BETR801</th>\n",
       "      <th>FR04014</th>\n",
       "      <th>London Westminster</th>\n",
       "    </tr>\n",
       "    <tr>\n",
       "      <th>date.utc</th>\n",
       "      <th></th>\n",
       "      <th></th>\n",
       "      <th></th>\n",
       "    </tr>\n",
       "  </thead>\n",
       "  <tbody>\n",
       "    <tr>\n",
       "      <th>2019-05-07 00:00:00+00:00</th>\n",
       "      <td>47.75000</td>\n",
       "      <td>33.986957</td>\n",
       "      <td>22.190476</td>\n",
       "    </tr>\n",
       "    <tr>\n",
       "      <th>2019-05-08 00:00:00+00:00</th>\n",
       "      <td>21.75000</td>\n",
       "      <td>25.012500</td>\n",
       "      <td>26.521739</td>\n",
       "    </tr>\n",
       "    <tr>\n",
       "      <th>2019-05-09 00:00:00+00:00</th>\n",
       "      <td>20.25000</td>\n",
       "      <td>27.795833</td>\n",
       "      <td>44.652174</td>\n",
       "    </tr>\n",
       "    <tr>\n",
       "      <th>2019-05-10 00:00:00+00:00</th>\n",
       "      <td>11.00000</td>\n",
       "      <td>32.854167</td>\n",
       "      <td>33.458333</td>\n",
       "    </tr>\n",
       "    <tr>\n",
       "      <th>2019-05-11 00:00:00+00:00</th>\n",
       "      <td>23.75000</td>\n",
       "      <td>26.804762</td>\n",
       "      <td>31.157895</td>\n",
       "    </tr>\n",
       "    <tr>\n",
       "      <th>2019-05-12 00:00:00+00:00</th>\n",
       "      <td>18.75000</td>\n",
       "      <td>18.108333</td>\n",
       "      <td>27.708333</td>\n",
       "    </tr>\n",
       "    <tr>\n",
       "      <th>2019-05-13 00:00:00+00:00</th>\n",
       "      <td>14.50000</td>\n",
       "      <td>21.662500</td>\n",
       "      <td>29.000000</td>\n",
       "    </tr>\n",
       "    <tr>\n",
       "      <th>2019-05-14 00:00:00+00:00</th>\n",
       "      <td>13.00000</td>\n",
       "      <td>22.804167</td>\n",
       "      <td>28.208333</td>\n",
       "    </tr>\n",
       "    <tr>\n",
       "      <th>2019-05-15 00:00:00+00:00</th>\n",
       "      <td>24.00000</td>\n",
       "      <td>20.800000</td>\n",
       "      <td>31.260870</td>\n",
       "    </tr>\n",
       "    <tr>\n",
       "      <th>2019-05-16 00:00:00+00:00</th>\n",
       "      <td>28.00000</td>\n",
       "      <td>23.930435</td>\n",
       "      <td>28.833333</td>\n",
       "    </tr>\n",
       "    <tr>\n",
       "      <th>2019-05-17 00:00:00+00:00</th>\n",
       "      <td>NaN</td>\n",
       "      <td>35.437500</td>\n",
       "      <td>28.666667</td>\n",
       "    </tr>\n",
       "    <tr>\n",
       "      <th>2019-05-18 00:00:00+00:00</th>\n",
       "      <td>36.50000</td>\n",
       "      <td>27.045833</td>\n",
       "      <td>33.916667</td>\n",
       "    </tr>\n",
       "    <tr>\n",
       "      <th>2019-05-19 00:00:00+00:00</th>\n",
       "      <td>20.50000</td>\n",
       "      <td>32.733333</td>\n",
       "      <td>35.000000</td>\n",
       "    </tr>\n",
       "    <tr>\n",
       "      <th>2019-05-20 00:00:00+00:00</th>\n",
       "      <td>24.84375</td>\n",
       "      <td>26.920833</td>\n",
       "      <td>31.375000</td>\n",
       "    </tr>\n",
       "    <tr>\n",
       "      <th>2019-05-21 00:00:00+00:00</th>\n",
       "      <td>15.50000</td>\n",
       "      <td>38.950000</td>\n",
       "      <td>30.875000</td>\n",
       "    </tr>\n",
       "    <tr>\n",
       "      <th>2019-05-22 00:00:00+00:00</th>\n",
       "      <td>20.50000</td>\n",
       "      <td>43.054167</td>\n",
       "      <td>29.291667</td>\n",
       "    </tr>\n",
       "    <tr>\n",
       "      <th>2019-05-23 00:00:00+00:00</th>\n",
       "      <td>60.50000</td>\n",
       "      <td>46.404167</td>\n",
       "      <td>32.541667</td>\n",
       "    </tr>\n",
       "    <tr>\n",
       "      <th>2019-05-24 00:00:00+00:00</th>\n",
       "      <td>74.50000</td>\n",
       "      <td>29.195833</td>\n",
       "      <td>33.608696</td>\n",
       "    </tr>\n",
       "    <tr>\n",
       "      <th>2019-05-25 00:00:00+00:00</th>\n",
       "      <td>29.00000</td>\n",
       "      <td>32.090476</td>\n",
       "      <td>31.125000</td>\n",
       "    </tr>\n",
       "    <tr>\n",
       "      <th>2019-05-26 00:00:00+00:00</th>\n",
       "      <td>53.00000</td>\n",
       "      <td>19.200000</td>\n",
       "      <td>23.333333</td>\n",
       "    </tr>\n",
       "    <tr>\n",
       "      <th>2019-05-27 00:00:00+00:00</th>\n",
       "      <td>10.50000</td>\n",
       "      <td>19.850000</td>\n",
       "      <td>20.458333</td>\n",
       "    </tr>\n",
       "    <tr>\n",
       "      <th>2019-05-28 00:00:00+00:00</th>\n",
       "      <td>11.00000</td>\n",
       "      <td>20.020833</td>\n",
       "      <td>22.782609</td>\n",
       "    </tr>\n",
       "    <tr>\n",
       "      <th>2019-05-29 00:00:00+00:00</th>\n",
       "      <td>21.00000</td>\n",
       "      <td>23.958333</td>\n",
       "      <td>14.750000</td>\n",
       "    </tr>\n",
       "    <tr>\n",
       "      <th>2019-05-30 00:00:00+00:00</th>\n",
       "      <td>7.50000</td>\n",
       "      <td>17.012500</td>\n",
       "      <td>13.666667</td>\n",
       "    </tr>\n",
       "    <tr>\n",
       "      <th>2019-05-31 00:00:00+00:00</th>\n",
       "      <td>9.00000</td>\n",
       "      <td>32.550000</td>\n",
       "      <td>20.208333</td>\n",
       "    </tr>\n",
       "    <tr>\n",
       "      <th>2019-06-01 00:00:00+00:00</th>\n",
       "      <td>52.50000</td>\n",
       "      <td>32.338095</td>\n",
       "      <td>25.333333</td>\n",
       "    </tr>\n",
       "    <tr>\n",
       "      <th>2019-06-02 00:00:00+00:00</th>\n",
       "      <td>NaN</td>\n",
       "      <td>23.383333</td>\n",
       "      <td>34.541667</td>\n",
       "    </tr>\n",
       "    <tr>\n",
       "      <th>2019-06-03 00:00:00+00:00</th>\n",
       "      <td>NaN</td>\n",
       "      <td>27.891667</td>\n",
       "      <td>14.750000</td>\n",
       "    </tr>\n",
       "    <tr>\n",
       "      <th>2019-06-04 00:00:00+00:00</th>\n",
       "      <td>NaN</td>\n",
       "      <td>30.529167</td>\n",
       "      <td>22.666667</td>\n",
       "    </tr>\n",
       "    <tr>\n",
       "      <th>2019-06-05 00:00:00+00:00</th>\n",
       "      <td>15.00000</td>\n",
       "      <td>34.829167</td>\n",
       "      <td>11.333333</td>\n",
       "    </tr>\n",
       "    <tr>\n",
       "      <th>2019-06-06 00:00:00+00:00</th>\n",
       "      <td>NaN</td>\n",
       "      <td>25.046667</td>\n",
       "      <td>11.565217</td>\n",
       "    </tr>\n",
       "    <tr>\n",
       "      <th>2019-06-07 00:00:00+00:00</th>\n",
       "      <td>NaN</td>\n",
       "      <td>21.044444</td>\n",
       "      <td>25.173913</td>\n",
       "    </tr>\n",
       "    <tr>\n",
       "      <th>2019-06-08 00:00:00+00:00</th>\n",
       "      <td>NaN</td>\n",
       "      <td>15.854545</td>\n",
       "      <td>11.136364</td>\n",
       "    </tr>\n",
       "    <tr>\n",
       "      <th>2019-06-09 00:00:00+00:00</th>\n",
       "      <td>10.00000</td>\n",
       "      <td>28.958333</td>\n",
       "      <td>11.478261</td>\n",
       "    </tr>\n",
       "    <tr>\n",
       "      <th>2019-06-10 00:00:00+00:00</th>\n",
       "      <td>18.50000</td>\n",
       "      <td>18.416667</td>\n",
       "      <td>29.791667</td>\n",
       "    </tr>\n",
       "    <tr>\n",
       "      <th>2019-06-11 00:00:00+00:00</th>\n",
       "      <td>7.50000</td>\n",
       "      <td>34.945833</td>\n",
       "      <td>22.166667</td>\n",
       "    </tr>\n",
       "    <tr>\n",
       "      <th>2019-06-12 00:00:00+00:00</th>\n",
       "      <td>21.00000</td>\n",
       "      <td>27.525000</td>\n",
       "      <td>28.714286</td>\n",
       "    </tr>\n",
       "    <tr>\n",
       "      <th>2019-06-13 00:00:00+00:00</th>\n",
       "      <td>28.50000</td>\n",
       "      <td>32.795833</td>\n",
       "      <td>17.391304</td>\n",
       "    </tr>\n",
       "    <tr>\n",
       "      <th>2019-06-14 00:00:00+00:00</th>\n",
       "      <td>36.50000</td>\n",
       "      <td>36.466667</td>\n",
       "      <td>17.434783</td>\n",
       "    </tr>\n",
       "    <tr>\n",
       "      <th>2019-06-15 00:00:00+00:00</th>\n",
       "      <td>17.50000</td>\n",
       "      <td>17.657143</td>\n",
       "      <td>16.238095</td>\n",
       "    </tr>\n",
       "    <tr>\n",
       "      <th>2019-06-16 00:00:00+00:00</th>\n",
       "      <td>42.50000</td>\n",
       "      <td>17.262500</td>\n",
       "      <td>16.173913</td>\n",
       "    </tr>\n",
       "    <tr>\n",
       "      <th>2019-06-17 00:00:00+00:00</th>\n",
       "      <td>40.62500</td>\n",
       "      <td>34.395833</td>\n",
       "      <td>12.916667</td>\n",
       "    </tr>\n",
       "    <tr>\n",
       "      <th>2019-06-18 00:00:00+00:00</th>\n",
       "      <td>NaN</td>\n",
       "      <td>40.015385</td>\n",
       "      <td>NaN</td>\n",
       "    </tr>\n",
       "    <tr>\n",
       "      <th>2019-06-19 00:00:00+00:00</th>\n",
       "      <td>NaN</td>\n",
       "      <td>26.950000</td>\n",
       "      <td>NaN</td>\n",
       "    </tr>\n",
       "    <tr>\n",
       "      <th>2019-06-20 00:00:00+00:00</th>\n",
       "      <td>NaN</td>\n",
       "      <td>22.254545</td>\n",
       "      <td>NaN</td>\n",
       "    </tr>\n",
       "    <tr>\n",
       "      <th>2019-06-21 00:00:00+00:00</th>\n",
       "      <td>NaN</td>\n",
       "      <td>20.000000</td>\n",
       "      <td>NaN</td>\n",
       "    </tr>\n",
       "  </tbody>\n",
       "</table>\n",
       "</div>"
      ],
      "text/plain": [
       "location                    BETR801    FR04014  London Westminster\n",
       "date.utc                                                          \n",
       "2019-05-07 00:00:00+00:00  47.75000  33.986957           22.190476\n",
       "2019-05-08 00:00:00+00:00  21.75000  25.012500           26.521739\n",
       "2019-05-09 00:00:00+00:00  20.25000  27.795833           44.652174\n",
       "2019-05-10 00:00:00+00:00  11.00000  32.854167           33.458333\n",
       "2019-05-11 00:00:00+00:00  23.75000  26.804762           31.157895\n",
       "2019-05-12 00:00:00+00:00  18.75000  18.108333           27.708333\n",
       "2019-05-13 00:00:00+00:00  14.50000  21.662500           29.000000\n",
       "2019-05-14 00:00:00+00:00  13.00000  22.804167           28.208333\n",
       "2019-05-15 00:00:00+00:00  24.00000  20.800000           31.260870\n",
       "2019-05-16 00:00:00+00:00  28.00000  23.930435           28.833333\n",
       "2019-05-17 00:00:00+00:00       NaN  35.437500           28.666667\n",
       "2019-05-18 00:00:00+00:00  36.50000  27.045833           33.916667\n",
       "2019-05-19 00:00:00+00:00  20.50000  32.733333           35.000000\n",
       "2019-05-20 00:00:00+00:00  24.84375  26.920833           31.375000\n",
       "2019-05-21 00:00:00+00:00  15.50000  38.950000           30.875000\n",
       "2019-05-22 00:00:00+00:00  20.50000  43.054167           29.291667\n",
       "2019-05-23 00:00:00+00:00  60.50000  46.404167           32.541667\n",
       "2019-05-24 00:00:00+00:00  74.50000  29.195833           33.608696\n",
       "2019-05-25 00:00:00+00:00  29.00000  32.090476           31.125000\n",
       "2019-05-26 00:00:00+00:00  53.00000  19.200000           23.333333\n",
       "2019-05-27 00:00:00+00:00  10.50000  19.850000           20.458333\n",
       "2019-05-28 00:00:00+00:00  11.00000  20.020833           22.782609\n",
       "2019-05-29 00:00:00+00:00  21.00000  23.958333           14.750000\n",
       "2019-05-30 00:00:00+00:00   7.50000  17.012500           13.666667\n",
       "2019-05-31 00:00:00+00:00   9.00000  32.550000           20.208333\n",
       "2019-06-01 00:00:00+00:00  52.50000  32.338095           25.333333\n",
       "2019-06-02 00:00:00+00:00       NaN  23.383333           34.541667\n",
       "2019-06-03 00:00:00+00:00       NaN  27.891667           14.750000\n",
       "2019-06-04 00:00:00+00:00       NaN  30.529167           22.666667\n",
       "2019-06-05 00:00:00+00:00  15.00000  34.829167           11.333333\n",
       "2019-06-06 00:00:00+00:00       NaN  25.046667           11.565217\n",
       "2019-06-07 00:00:00+00:00       NaN  21.044444           25.173913\n",
       "2019-06-08 00:00:00+00:00       NaN  15.854545           11.136364\n",
       "2019-06-09 00:00:00+00:00  10.00000  28.958333           11.478261\n",
       "2019-06-10 00:00:00+00:00  18.50000  18.416667           29.791667\n",
       "2019-06-11 00:00:00+00:00   7.50000  34.945833           22.166667\n",
       "2019-06-12 00:00:00+00:00  21.00000  27.525000           28.714286\n",
       "2019-06-13 00:00:00+00:00  28.50000  32.795833           17.391304\n",
       "2019-06-14 00:00:00+00:00  36.50000  36.466667           17.434783\n",
       "2019-06-15 00:00:00+00:00  17.50000  17.657143           16.238095\n",
       "2019-06-16 00:00:00+00:00  42.50000  17.262500           16.173913\n",
       "2019-06-17 00:00:00+00:00  40.62500  34.395833           12.916667\n",
       "2019-06-18 00:00:00+00:00       NaN  40.015385                 NaN\n",
       "2019-06-19 00:00:00+00:00       NaN  26.950000                 NaN\n",
       "2019-06-20 00:00:00+00:00       NaN  22.254545                 NaN\n",
       "2019-06-21 00:00:00+00:00       NaN  20.000000                 NaN"
      ]
     },
     "execution_count": 35,
     "metadata": {},
     "output_type": "execute_result"
    }
   ],
   "source": [
    "daily_mean = no2.resample(\"D\").mean()\n",
    "daily_mean"
   ]
  },
  {
   "cell_type": "code",
   "execution_count": 39,
   "id": "1d79ae5f",
   "metadata": {},
   "outputs": [
    {
     "data": {
      "text/plain": [
       "<AxesSubplot:xlabel='date.utc'>"
      ]
     },
     "execution_count": 39,
     "metadata": {},
     "output_type": "execute_result"
    },
    {
     "data": {
      "image/png": "[encoded data removed]",
      "text/plain": [
       "<Figure size 720x360 with 1 Axes>"
      ]
     },
     "metadata": {
      "needs_background": "light"
     },
     "output_type": "display_data"
    }
   ],
   "source": [
    "daily_mean.plot(figsize=(10,5), style=\"-o\")"
   ]
  }
 ],
 "metadata": {
  "kernelspec": {
   "display_name": "Python 3 (ipykernel)",
   "language": "python",
   "name": "python3"
  },
  "language_info": {
   "codemirror_mode": {
    "name": "ipython",
    "version": 3
   },
   "file_extension": ".py",
   "mimetype": "text/x-python",
   "name": "python",
   "nbconvert_exporter": "python",
   "pygments_lexer": "ipython3",
   "version": "3.9.7"
  }
 },
 "nbformat": 4,
 "nbformat_minor": 5
}
