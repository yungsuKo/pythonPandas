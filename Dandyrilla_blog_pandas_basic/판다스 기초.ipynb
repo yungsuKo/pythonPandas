{
 "cells": [
  {
   "cell_type": "code",
   "execution_count": 1,
   "id": "2a2c2d9c",
   "metadata": {},
   "outputs": [],
   "source": [
    "import pandas as pd\n",
    "import numpy as np\n",
    "import matplotlib.pyplot as plt"
   ]
  },
  {
   "cell_type": "markdown",
   "id": "85f92602",
   "metadata": {},
   "source": [
    "### 1. 데이터 오브젝트 생성하기\n",
    "- series\n",
    "    - 1차원 배열의 형태를 가짐. \n",
    "    - 리스트를 넘겨주면 만들 수 있음. \n",
    "    - 위치하고 있는 정보인 인덱스가 같이 저장되게 됨\n",
    "    - 따로 전달해주지 않는 이상 기본적으로 0~n 정수 인덱스를 가지게 됨\n",
    "- DataFrame\n",
    "    여러 형태의 데이터를 받아 생성할 수 있음\n",
    "    1. numpy array를 받아 생성할 수 있음\n",
    "        - 2차원 배열의 형태를 띄고 있음\n",
    "        - 배열, 인덱스, 컬럼명 순서로 작성\n",
    "    2. 딕셔너리 형태로 만들 수 있음\n",
    "        - dict의 key값이 열을 정의하는 컬럼이 됨\n",
    "        - 행을 정의하는 index는 자동으로 0부터 시작하여 1씩 증가하는 정수 인덱스가 사용됨"
   ]
  },
  {
   "cell_type": "code",
   "execution_count": 6,
   "id": "ae7225a3",
   "metadata": {},
   "outputs": [
    {
     "data": {
      "text/plain": [
       "DatetimeIndex(['2022-10-26', '2022-10-27', '2022-10-28', '2022-10-29',\n",
       "               '2022-10-30', '2022-10-31'],\n",
       "              dtype='datetime64[ns]', freq='D')"
      ]
     },
     "execution_count": 6,
     "metadata": {},
     "output_type": "execute_result"
    }
   ],
   "source": [
    "dates = pd.date_range('20221026', periods=6)\n",
    "dates"
   ]
  },
  {
   "cell_type": "code",
   "execution_count": 7,
   "id": "e4e5f605",
   "metadata": {},
   "outputs": [
    {
     "data": {
      "text/html": [
       "<div>\n",
       "<style scoped>\n",
       "    .dataframe tbody tr th:only-of-type {\n",
       "        vertical-align: middle;\n",
       "    }\n",
       "\n",
       "    .dataframe tbody tr th {\n",
       "        vertical-align: top;\n",
       "    }\n",
       "\n",
       "    .dataframe thead th {\n",
       "        text-align: right;\n",
       "    }\n",
       "</style>\n",
       "<table border=\"1\" class=\"dataframe\">\n",
       "  <thead>\n",
       "    <tr style=\"text-align: right;\">\n",
       "      <th></th>\n",
       "      <th>A</th>\n",
       "      <th>B</th>\n",
       "      <th>C</th>\n",
       "      <th>D</th>\n",
       "    </tr>\n",
       "  </thead>\n",
       "  <tbody>\n",
       "    <tr>\n",
       "      <th>2022-10-26</th>\n",
       "      <td>1.239788</td>\n",
       "      <td>0.009124</td>\n",
       "      <td>0.221657</td>\n",
       "      <td>-0.380609</td>\n",
       "    </tr>\n",
       "    <tr>\n",
       "      <th>2022-10-27</th>\n",
       "      <td>-0.148007</td>\n",
       "      <td>0.688480</td>\n",
       "      <td>2.869126</td>\n",
       "      <td>-1.360317</td>\n",
       "    </tr>\n",
       "    <tr>\n",
       "      <th>2022-10-28</th>\n",
       "      <td>0.449262</td>\n",
       "      <td>-0.745872</td>\n",
       "      <td>-0.036021</td>\n",
       "      <td>-0.179717</td>\n",
       "    </tr>\n",
       "    <tr>\n",
       "      <th>2022-10-29</th>\n",
       "      <td>-0.038179</td>\n",
       "      <td>-1.363583</td>\n",
       "      <td>-0.572041</td>\n",
       "      <td>0.029549</td>\n",
       "    </tr>\n",
       "    <tr>\n",
       "      <th>2022-10-30</th>\n",
       "      <td>0.042069</td>\n",
       "      <td>0.166434</td>\n",
       "      <td>0.096564</td>\n",
       "      <td>0.163112</td>\n",
       "    </tr>\n",
       "    <tr>\n",
       "      <th>2022-10-31</th>\n",
       "      <td>-0.530795</td>\n",
       "      <td>0.999491</td>\n",
       "      <td>0.364012</td>\n",
       "      <td>-2.145749</td>\n",
       "    </tr>\n",
       "  </tbody>\n",
       "</table>\n",
       "</div>"
      ],
      "text/plain": [
       "                   A         B         C         D\n",
       "2022-10-26  1.239788  0.009124  0.221657 -0.380609\n",
       "2022-10-27 -0.148007  0.688480  2.869126 -1.360317\n",
       "2022-10-28  0.449262 -0.745872 -0.036021 -0.179717\n",
       "2022-10-29 -0.038179 -1.363583 -0.572041  0.029549\n",
       "2022-10-30  0.042069  0.166434  0.096564  0.163112\n",
       "2022-10-31 -0.530795  0.999491  0.364012 -2.145749"
      ]
     },
     "execution_count": 7,
     "metadata": {},
     "output_type": "execute_result"
    }
   ],
   "source": [
    "df = pd.DataFrame(np.random.randn(6,4), index=dates, columns=list('ABCD'))\n",
    "df"
   ]
  },
  {
   "cell_type": "code",
   "execution_count": 9,
   "id": "252fefe7",
   "metadata": {},
   "outputs": [
    {
     "data": {
      "text/plain": [
       "A    float64\n",
       "B    float64\n",
       "C    float64\n",
       "D    float64\n",
       "dtype: object"
      ]
     },
     "execution_count": 9,
     "metadata": {},
     "output_type": "execute_result"
    }
   ],
   "source": [
    "df.dtypes"
   ]
  },
  {
   "cell_type": "markdown",
   "id": "c1baaa84",
   "metadata": {},
   "source": [
    "### 2. 데이터 확인하기\n",
    "- 맨앞이나 맨뒤 데이터 확인하는 방법\n",
    "    - head(), tail()\n",
    "- 인덱스명이나 컬럼명, 값을 보는 방법\n",
    "    - index(), columns(), values()\n",
    "- 간단한 통계 정보를 보는 방법\n",
    "    - describe()\n",
    "- 열과 행을 바꾸는 방법\n",
    "    - T : 속성임, ()작성시 에러\n",
    "- 정렬하기\n",
    "    - sort_index()\n",
    "        - axis=n : n번째 인덱스를 기준으로 정렬함\n",
    "        - by=\"columns\" : \"columns\"를 기준으로 값 정렬\n",
    "        "
   ]
  },
  {
   "cell_type": "code",
   "execution_count": 11,
   "id": "06077bdd",
   "metadata": {},
   "outputs": [
    {
     "data": {
      "text/html": [
       "<div>\n",
       "<style scoped>\n",
       "    .dataframe tbody tr th:only-of-type {\n",
       "        vertical-align: middle;\n",
       "    }\n",
       "\n",
       "    .dataframe tbody tr th {\n",
       "        vertical-align: top;\n",
       "    }\n",
       "\n",
       "    .dataframe thead th {\n",
       "        text-align: right;\n",
       "    }\n",
       "</style>\n",
       "<table border=\"1\" class=\"dataframe\">\n",
       "  <thead>\n",
       "    <tr style=\"text-align: right;\">\n",
       "      <th></th>\n",
       "      <th>A</th>\n",
       "      <th>B</th>\n",
       "      <th>C</th>\n",
       "      <th>D</th>\n",
       "    </tr>\n",
       "  </thead>\n",
       "  <tbody>\n",
       "    <tr>\n",
       "      <th>count</th>\n",
       "      <td>6.000000</td>\n",
       "      <td>6.000000</td>\n",
       "      <td>6.000000</td>\n",
       "      <td>6.000000</td>\n",
       "    </tr>\n",
       "    <tr>\n",
       "      <th>mean</th>\n",
       "      <td>0.169023</td>\n",
       "      <td>-0.040988</td>\n",
       "      <td>0.490550</td>\n",
       "      <td>-0.645622</td>\n",
       "    </tr>\n",
       "    <tr>\n",
       "      <th>std</th>\n",
       "      <td>0.612271</td>\n",
       "      <td>0.883898</td>\n",
       "      <td>1.208928</td>\n",
       "      <td>0.911962</td>\n",
       "    </tr>\n",
       "    <tr>\n",
       "      <th>min</th>\n",
       "      <td>-0.530795</td>\n",
       "      <td>-1.363583</td>\n",
       "      <td>-0.572041</td>\n",
       "      <td>-2.145749</td>\n",
       "    </tr>\n",
       "    <tr>\n",
       "      <th>25%</th>\n",
       "      <td>-0.120550</td>\n",
       "      <td>-0.557123</td>\n",
       "      <td>-0.002875</td>\n",
       "      <td>-1.115390</td>\n",
       "    </tr>\n",
       "    <tr>\n",
       "      <th>50%</th>\n",
       "      <td>0.001945</td>\n",
       "      <td>0.087779</td>\n",
       "      <td>0.159110</td>\n",
       "      <td>-0.280163</td>\n",
       "    </tr>\n",
       "    <tr>\n",
       "      <th>75%</th>\n",
       "      <td>0.347464</td>\n",
       "      <td>0.557969</td>\n",
       "      <td>0.328423</td>\n",
       "      <td>-0.022767</td>\n",
       "    </tr>\n",
       "    <tr>\n",
       "      <th>max</th>\n",
       "      <td>1.239788</td>\n",
       "      <td>0.999491</td>\n",
       "      <td>2.869126</td>\n",
       "      <td>0.163112</td>\n",
       "    </tr>\n",
       "  </tbody>\n",
       "</table>\n",
       "</div>"
      ],
      "text/plain": [
       "              A         B         C         D\n",
       "count  6.000000  6.000000  6.000000  6.000000\n",
       "mean   0.169023 -0.040988  0.490550 -0.645622\n",
       "std    0.612271  0.883898  1.208928  0.911962\n",
       "min   -0.530795 -1.363583 -0.572041 -2.145749\n",
       "25%   -0.120550 -0.557123 -0.002875 -1.115390\n",
       "50%    0.001945  0.087779  0.159110 -0.280163\n",
       "75%    0.347464  0.557969  0.328423 -0.022767\n",
       "max    1.239788  0.999491  2.869126  0.163112"
      ]
     },
     "execution_count": 11,
     "metadata": {},
     "output_type": "execute_result"
    }
   ],
   "source": [
    "df.describe()"
   ]
  },
  {
   "cell_type": "markdown",
   "id": "bcd98468",
   "metadata": {},
   "source": [
    "### 3. 데이터 선택하기\n",
    "- 특정 열의 data를 추출 : df['column'] or df.column\n",
    "    - 리턴값은 seies 형태를 가짐\n",
    "- 특정 행의 data를 선택 : df['index':'index']\n",
    "    - default index인 경우 [0:n] \n",
    "    - index를 지정한 경우 [index: index]\n",
    "- index, columns를 사용하여 원하는 데이터 선택 : df.loc[index, 'columns']\n",
    "    - 특정 한 개의 값을 가져옴 : df.at[index, 'columns']\n",
    "- 위치를 이용하여 선택하기 : df.iloc[index, columns_index]\n",
    "    - 특정 한 개의 값을 가져옴 : df.iat[index, columns_index]\n",
    "    \n",
    "    \n",
    "- 조건을 이용하여 선택하기\n",
    "    - df[df['columns'] > 0]\n",
    "- 필터링 이용하기\n",
    "    - isin([존재여부 확인할 값])\n",
    "    \n",
    "    \n",
    "- 데이터 변경하기\n",
    "    - 바꾸려고 하는 위치를 고름\n",
    "    - 바꾸고자 하는 값을 넣어줌"
   ]
  },
  {
   "cell_type": "code",
   "execution_count": 21,
   "id": "9e20b6e1",
   "metadata": {},
   "outputs": [
    {
     "data": {
      "text/plain": [
       "2022-10-26    1\n",
       "2022-10-27    2\n",
       "2022-10-28    3\n",
       "2022-10-29    4\n",
       "2022-10-30    5\n",
       "2022-10-31    6\n",
       "Freq: D, dtype: int64"
      ]
     },
     "execution_count": 21,
     "metadata": {},
     "output_type": "execute_result"
    }
   ],
   "source": [
    "s1 = pd.Series([1, 2, 3, 4, 5, 6], index=pd.date_range('20221026', periods=6))\n",
    "s1"
   ]
  },
  {
   "cell_type": "code",
   "execution_count": 22,
   "id": "355ad329",
   "metadata": {},
   "outputs": [
    {
     "data": {
      "text/html": [
       "<div>\n",
       "<style scoped>\n",
       "    .dataframe tbody tr th:only-of-type {\n",
       "        vertical-align: middle;\n",
       "    }\n",
       "\n",
       "    .dataframe tbody tr th {\n",
       "        vertical-align: top;\n",
       "    }\n",
       "\n",
       "    .dataframe thead th {\n",
       "        text-align: right;\n",
       "    }\n",
       "</style>\n",
       "<table border=\"1\" class=\"dataframe\">\n",
       "  <thead>\n",
       "    <tr style=\"text-align: right;\">\n",
       "      <th></th>\n",
       "      <th>A</th>\n",
       "      <th>B</th>\n",
       "      <th>C</th>\n",
       "      <th>D</th>\n",
       "      <th>F</th>\n",
       "    </tr>\n",
       "  </thead>\n",
       "  <tbody>\n",
       "    <tr>\n",
       "      <th>2022-10-26</th>\n",
       "      <td>1.239788</td>\n",
       "      <td>0.009124</td>\n",
       "      <td>0.221657</td>\n",
       "      <td>-0.380609</td>\n",
       "      <td>1</td>\n",
       "    </tr>\n",
       "    <tr>\n",
       "      <th>2022-10-27</th>\n",
       "      <td>-0.148007</td>\n",
       "      <td>0.688480</td>\n",
       "      <td>2.869126</td>\n",
       "      <td>-1.360317</td>\n",
       "      <td>2</td>\n",
       "    </tr>\n",
       "    <tr>\n",
       "      <th>2022-10-28</th>\n",
       "      <td>0.449262</td>\n",
       "      <td>-0.745872</td>\n",
       "      <td>-0.036021</td>\n",
       "      <td>-0.179717</td>\n",
       "      <td>3</td>\n",
       "    </tr>\n",
       "    <tr>\n",
       "      <th>2022-10-29</th>\n",
       "      <td>-0.038179</td>\n",
       "      <td>-1.363583</td>\n",
       "      <td>-0.572041</td>\n",
       "      <td>0.029549</td>\n",
       "      <td>4</td>\n",
       "    </tr>\n",
       "    <tr>\n",
       "      <th>2022-10-30</th>\n",
       "      <td>0.042069</td>\n",
       "      <td>0.166434</td>\n",
       "      <td>0.096564</td>\n",
       "      <td>0.163112</td>\n",
       "      <td>5</td>\n",
       "    </tr>\n",
       "    <tr>\n",
       "      <th>2022-10-31</th>\n",
       "      <td>-0.530795</td>\n",
       "      <td>0.999491</td>\n",
       "      <td>0.364012</td>\n",
       "      <td>-2.145749</td>\n",
       "      <td>6</td>\n",
       "    </tr>\n",
       "  </tbody>\n",
       "</table>\n",
       "</div>"
      ],
      "text/plain": [
       "                   A         B         C         D  F\n",
       "2022-10-26  1.239788  0.009124  0.221657 -0.380609  1\n",
       "2022-10-27 -0.148007  0.688480  2.869126 -1.360317  2\n",
       "2022-10-28  0.449262 -0.745872 -0.036021 -0.179717  3\n",
       "2022-10-29 -0.038179 -1.363583 -0.572041  0.029549  4\n",
       "2022-10-30  0.042069  0.166434  0.096564  0.163112  5\n",
       "2022-10-31 -0.530795  0.999491  0.364012 -2.145749  6"
      ]
     },
     "execution_count": 22,
     "metadata": {},
     "output_type": "execute_result"
    }
   ],
   "source": [
    "df['F'] = s1\n",
    "df"
   ]
  },
  {
   "cell_type": "code",
   "execution_count": 12,
   "id": "cba038b0",
   "metadata": {},
   "outputs": [
    {
     "data": {
      "text/html": [
       "<div>\n",
       "<style scoped>\n",
       "    .dataframe tbody tr th:only-of-type {\n",
       "        vertical-align: middle;\n",
       "    }\n",
       "\n",
       "    .dataframe tbody tr th {\n",
       "        vertical-align: top;\n",
       "    }\n",
       "\n",
       "    .dataframe thead th {\n",
       "        text-align: right;\n",
       "    }\n",
       "</style>\n",
       "<table border=\"1\" class=\"dataframe\">\n",
       "  <thead>\n",
       "    <tr style=\"text-align: right;\">\n",
       "      <th></th>\n",
       "      <th>A</th>\n",
       "      <th>B</th>\n",
       "      <th>C</th>\n",
       "      <th>D</th>\n",
       "    </tr>\n",
       "  </thead>\n",
       "  <tbody>\n",
       "    <tr>\n",
       "      <th>2022-10-26</th>\n",
       "      <td>1.239788</td>\n",
       "      <td>0.009124</td>\n",
       "      <td>0.221657</td>\n",
       "      <td>NaN</td>\n",
       "    </tr>\n",
       "    <tr>\n",
       "      <th>2022-10-27</th>\n",
       "      <td>NaN</td>\n",
       "      <td>0.688480</td>\n",
       "      <td>2.869126</td>\n",
       "      <td>NaN</td>\n",
       "    </tr>\n",
       "    <tr>\n",
       "      <th>2022-10-28</th>\n",
       "      <td>0.449262</td>\n",
       "      <td>NaN</td>\n",
       "      <td>NaN</td>\n",
       "      <td>NaN</td>\n",
       "    </tr>\n",
       "    <tr>\n",
       "      <th>2022-10-29</th>\n",
       "      <td>NaN</td>\n",
       "      <td>NaN</td>\n",
       "      <td>NaN</td>\n",
       "      <td>0.029549</td>\n",
       "    </tr>\n",
       "    <tr>\n",
       "      <th>2022-10-30</th>\n",
       "      <td>0.042069</td>\n",
       "      <td>0.166434</td>\n",
       "      <td>0.096564</td>\n",
       "      <td>0.163112</td>\n",
       "    </tr>\n",
       "    <tr>\n",
       "      <th>2022-10-31</th>\n",
       "      <td>NaN</td>\n",
       "      <td>0.999491</td>\n",
       "      <td>0.364012</td>\n",
       "      <td>NaN</td>\n",
       "    </tr>\n",
       "  </tbody>\n",
       "</table>\n",
       "</div>"
      ],
      "text/plain": [
       "                   A         B         C         D\n",
       "2022-10-26  1.239788  0.009124  0.221657       NaN\n",
       "2022-10-27       NaN  0.688480  2.869126       NaN\n",
       "2022-10-28  0.449262       NaN       NaN       NaN\n",
       "2022-10-29       NaN       NaN       NaN  0.029549\n",
       "2022-10-30  0.042069  0.166434  0.096564  0.163112\n",
       "2022-10-31       NaN  0.999491  0.364012       NaN"
      ]
     },
     "execution_count": 12,
     "metadata": {},
     "output_type": "execute_result"
    }
   ],
   "source": [
    "df[df>0]"
   ]
  },
  {
   "cell_type": "code",
   "execution_count": 15,
   "id": "3e525dc7",
   "metadata": {},
   "outputs": [
    {
     "data": {
      "text/html": [
       "<div>\n",
       "<style scoped>\n",
       "    .dataframe tbody tr th:only-of-type {\n",
       "        vertical-align: middle;\n",
       "    }\n",
       "\n",
       "    .dataframe tbody tr th {\n",
       "        vertical-align: top;\n",
       "    }\n",
       "\n",
       "    .dataframe thead th {\n",
       "        text-align: right;\n",
       "    }\n",
       "</style>\n",
       "<table border=\"1\" class=\"dataframe\">\n",
       "  <thead>\n",
       "    <tr style=\"text-align: right;\">\n",
       "      <th></th>\n",
       "      <th>A</th>\n",
       "      <th>B</th>\n",
       "      <th>C</th>\n",
       "      <th>D</th>\n",
       "      <th>E</th>\n",
       "    </tr>\n",
       "  </thead>\n",
       "  <tbody>\n",
       "    <tr>\n",
       "      <th>2022-10-26</th>\n",
       "      <td>1.239788</td>\n",
       "      <td>0.009124</td>\n",
       "      <td>0.221657</td>\n",
       "      <td>-0.380609</td>\n",
       "      <td>one</td>\n",
       "    </tr>\n",
       "    <tr>\n",
       "      <th>2022-10-27</th>\n",
       "      <td>-0.148007</td>\n",
       "      <td>0.688480</td>\n",
       "      <td>2.869126</td>\n",
       "      <td>-1.360317</td>\n",
       "      <td>two</td>\n",
       "    </tr>\n",
       "    <tr>\n",
       "      <th>2022-10-28</th>\n",
       "      <td>0.449262</td>\n",
       "      <td>-0.745872</td>\n",
       "      <td>-0.036021</td>\n",
       "      <td>-0.179717</td>\n",
       "      <td>three</td>\n",
       "    </tr>\n",
       "    <tr>\n",
       "      <th>2022-10-29</th>\n",
       "      <td>-0.038179</td>\n",
       "      <td>-1.363583</td>\n",
       "      <td>-0.572041</td>\n",
       "      <td>0.029549</td>\n",
       "      <td>four</td>\n",
       "    </tr>\n",
       "    <tr>\n",
       "      <th>2022-10-30</th>\n",
       "      <td>0.042069</td>\n",
       "      <td>0.166434</td>\n",
       "      <td>0.096564</td>\n",
       "      <td>0.163112</td>\n",
       "      <td>five</td>\n",
       "    </tr>\n",
       "    <tr>\n",
       "      <th>2022-10-31</th>\n",
       "      <td>-0.530795</td>\n",
       "      <td>0.999491</td>\n",
       "      <td>0.364012</td>\n",
       "      <td>-2.145749</td>\n",
       "      <td>six</td>\n",
       "    </tr>\n",
       "  </tbody>\n",
       "</table>\n",
       "</div>"
      ],
      "text/plain": [
       "                   A         B         C         D      E\n",
       "2022-10-26  1.239788  0.009124  0.221657 -0.380609    one\n",
       "2022-10-27 -0.148007  0.688480  2.869126 -1.360317    two\n",
       "2022-10-28  0.449262 -0.745872 -0.036021 -0.179717  three\n",
       "2022-10-29 -0.038179 -1.363583 -0.572041  0.029549   four\n",
       "2022-10-30  0.042069  0.166434  0.096564  0.163112   five\n",
       "2022-10-31 -0.530795  0.999491  0.364012 -2.145749    six"
      ]
     },
     "execution_count": 15,
     "metadata": {},
     "output_type": "execute_result"
    }
   ],
   "source": [
    "df2 = df.copy()\n",
    "df2['E'] = ['one', 'two', 'three', 'four', 'five', 'six']\n",
    "df2"
   ]
  },
  {
   "cell_type": "code",
   "execution_count": 16,
   "id": "af7038d4",
   "metadata": {},
   "outputs": [
    {
     "data": {
      "text/html": [
       "<div>\n",
       "<style scoped>\n",
       "    .dataframe tbody tr th:only-of-type {\n",
       "        vertical-align: middle;\n",
       "    }\n",
       "\n",
       "    .dataframe tbody tr th {\n",
       "        vertical-align: top;\n",
       "    }\n",
       "\n",
       "    .dataframe thead th {\n",
       "        text-align: right;\n",
       "    }\n",
       "</style>\n",
       "<table border=\"1\" class=\"dataframe\">\n",
       "  <thead>\n",
       "    <tr style=\"text-align: right;\">\n",
       "      <th></th>\n",
       "      <th>A</th>\n",
       "      <th>B</th>\n",
       "      <th>C</th>\n",
       "      <th>D</th>\n",
       "      <th>E</th>\n",
       "    </tr>\n",
       "  </thead>\n",
       "  <tbody>\n",
       "    <tr>\n",
       "      <th>2022-10-26</th>\n",
       "      <td>1.239788</td>\n",
       "      <td>0.009124</td>\n",
       "      <td>0.221657</td>\n",
       "      <td>-0.380609</td>\n",
       "      <td>one</td>\n",
       "    </tr>\n",
       "    <tr>\n",
       "      <th>2022-10-28</th>\n",
       "      <td>0.449262</td>\n",
       "      <td>-0.745872</td>\n",
       "      <td>-0.036021</td>\n",
       "      <td>-0.179717</td>\n",
       "      <td>three</td>\n",
       "    </tr>\n",
       "  </tbody>\n",
       "</table>\n",
       "</div>"
      ],
      "text/plain": [
       "                   A         B         C         D      E\n",
       "2022-10-26  1.239788  0.009124  0.221657 -0.380609    one\n",
       "2022-10-28  0.449262 -0.745872 -0.036021 -0.179717  three"
      ]
     },
     "execution_count": 16,
     "metadata": {},
     "output_type": "execute_result"
    }
   ],
   "source": [
    "df2[df2['E'].isin(['one', 'three'])]"
   ]
  },
  {
   "cell_type": "markdown",
   "id": "582d9b94",
   "metadata": {},
   "source": [
    "### 4. 결측치\n",
    "- 결측치가 하나라도 존재하는 행 자체를 버릴 때\n",
    "    - dropna()\n",
    "- 결측치가 있는 부분을 다른 값으로 채우로 싶을 때\n",
    "    - fillna(채우고 싶은 값)\n",
    "- 결측치인지 아닌지 여부를 알고 싶을 때\n",
    "    - isna()"
   ]
  },
  {
   "cell_type": "code",
   "execution_count": 23,
   "id": "a165f62e",
   "metadata": {},
   "outputs": [],
   "source": [
    "df1 = df.reindex(index=dates[0:4], columns=list(df.columns) + ['E'])"
   ]
  },
  {
   "cell_type": "code",
   "execution_count": 24,
   "id": "72d632bb",
   "metadata": {},
   "outputs": [
    {
     "data": {
      "text/html": [
       "<div>\n",
       "<style scoped>\n",
       "    .dataframe tbody tr th:only-of-type {\n",
       "        vertical-align: middle;\n",
       "    }\n",
       "\n",
       "    .dataframe tbody tr th {\n",
       "        vertical-align: top;\n",
       "    }\n",
       "\n",
       "    .dataframe thead th {\n",
       "        text-align: right;\n",
       "    }\n",
       "</style>\n",
       "<table border=\"1\" class=\"dataframe\">\n",
       "  <thead>\n",
       "    <tr style=\"text-align: right;\">\n",
       "      <th></th>\n",
       "      <th>A</th>\n",
       "      <th>B</th>\n",
       "      <th>C</th>\n",
       "      <th>D</th>\n",
       "      <th>F</th>\n",
       "      <th>E</th>\n",
       "    </tr>\n",
       "  </thead>\n",
       "  <tbody>\n",
       "    <tr>\n",
       "      <th>2022-10-26</th>\n",
       "      <td>1.239788</td>\n",
       "      <td>0.009124</td>\n",
       "      <td>0.221657</td>\n",
       "      <td>-0.380609</td>\n",
       "      <td>1</td>\n",
       "      <td>NaN</td>\n",
       "    </tr>\n",
       "    <tr>\n",
       "      <th>2022-10-27</th>\n",
       "      <td>-0.148007</td>\n",
       "      <td>0.688480</td>\n",
       "      <td>2.869126</td>\n",
       "      <td>-1.360317</td>\n",
       "      <td>2</td>\n",
       "      <td>NaN</td>\n",
       "    </tr>\n",
       "    <tr>\n",
       "      <th>2022-10-28</th>\n",
       "      <td>0.449262</td>\n",
       "      <td>-0.745872</td>\n",
       "      <td>-0.036021</td>\n",
       "      <td>-0.179717</td>\n",
       "      <td>3</td>\n",
       "      <td>NaN</td>\n",
       "    </tr>\n",
       "    <tr>\n",
       "      <th>2022-10-29</th>\n",
       "      <td>-0.038179</td>\n",
       "      <td>-1.363583</td>\n",
       "      <td>-0.572041</td>\n",
       "      <td>0.029549</td>\n",
       "      <td>4</td>\n",
       "      <td>NaN</td>\n",
       "    </tr>\n",
       "  </tbody>\n",
       "</table>\n",
       "</div>"
      ],
      "text/plain": [
       "                   A         B         C         D  F   E\n",
       "2022-10-26  1.239788  0.009124  0.221657 -0.380609  1 NaN\n",
       "2022-10-27 -0.148007  0.688480  2.869126 -1.360317  2 NaN\n",
       "2022-10-28  0.449262 -0.745872 -0.036021 -0.179717  3 NaN\n",
       "2022-10-29 -0.038179 -1.363583 -0.572041  0.029549  4 NaN"
      ]
     },
     "execution_count": 24,
     "metadata": {},
     "output_type": "execute_result"
    }
   ],
   "source": [
    "df1"
   ]
  },
  {
   "cell_type": "markdown",
   "id": "ec7fb05d",
   "metadata": {},
   "source": [
    "### 5. 연산\n",
    "- 통계적 지표들\n",
    "    "
   ]
  },
  {
   "cell_type": "markdown",
   "id": "9dfc7708",
   "metadata": {},
   "source": [
    "### 6. 합치기 (merge)"
   ]
  },
  {
   "cell_type": "markdown",
   "id": "7d8cc440",
   "metadata": {},
   "source": [
    "### 7. 묶기 (Group)"
   ]
  },
  {
   "cell_type": "markdown",
   "id": "d505cc93",
   "metadata": {},
   "source": [
    "### 8. 변형하기 (reshape)"
   ]
  },
  {
   "cell_type": "markdown",
   "id": "abab96fd",
   "metadata": {},
   "source": [
    "### 9. 시계열 다루기"
   ]
  },
  {
   "cell_type": "markdown",
   "id": "deae28cf",
   "metadata": {},
   "source": [
    "### 10. 범주형 데이터 다루기"
   ]
  },
  {
   "cell_type": "markdown",
   "id": "ff6ba402",
   "metadata": {},
   "source": [
    "### 11. 그래프로 표현하기"
   ]
  },
  {
   "cell_type": "markdown",
   "id": "86f5bac8",
   "metadata": {},
   "source": [
    "### 데이터 입/출력"
   ]
  }
 ],
 "metadata": {
  "kernelspec": {
   "display_name": "Python 3 (ipykernel)",
   "language": "python",
   "name": "python3"
  },
  "language_info": {
   "codemirror_mode": {
    "name": "ipython",
    "version": 3
   },
   "file_extension": ".py",
   "mimetype": "text/x-python",
   "name": "python",
   "nbconvert_exporter": "python",
   "pygments_lexer": "ipython3",
   "version": "3.9.7"
  }
 },
 "nbformat": 4,
 "nbformat_minor": 5
}
