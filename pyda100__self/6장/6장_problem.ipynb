{
 "cells": [
  {
   "cell_type": "code",
   "execution_count": 2,
   "metadata": {},
   "outputs": [],
   "source": [
    "# 경고(warning)비표시\n",
    "import warnings\n",
    "warnings.filterwarnings('ignore')"
   ]
  },
  {
   "cell_type": "markdown",
   "metadata": {},
   "source": [
    "# 6장 물류의 최적경로를 컨설팅하는 테크닉10"
   ]
  },
  {
   "cell_type": "markdown",
   "metadata": {},
   "source": [
    "### 테크닉 51 : 물류데이터를 불러오자"
   ]
  },
  {
   "cell_type": "code",
   "execution_count": 1,
   "metadata": {},
   "outputs": [
    {
     "data": {
      "text/html": [
       "<div>\n",
       "<style scoped>\n",
       "    .dataframe tbody tr th:only-of-type {\n",
       "        vertical-align: middle;\n",
       "    }\n",
       "\n",
       "    .dataframe tbody tr th {\n",
       "        vertical-align: top;\n",
       "    }\n",
       "\n",
       "    .dataframe thead th {\n",
       "        text-align: right;\n",
       "    }\n",
       "</style>\n",
       "<table border=\"1\" class=\"dataframe\">\n",
       "  <thead>\n",
       "    <tr style=\"text-align: right;\">\n",
       "      <th></th>\n",
       "      <th>FCName</th>\n",
       "      <th>FCDemand</th>\n",
       "      <th>FCRegion</th>\n",
       "    </tr>\n",
       "    <tr>\n",
       "      <th>FCID</th>\n",
       "      <th></th>\n",
       "      <th></th>\n",
       "      <th></th>\n",
       "    </tr>\n",
       "  </thead>\n",
       "  <tbody>\n",
       "    <tr>\n",
       "      <th>FC00001</th>\n",
       "      <td>서울공장</td>\n",
       "      <td>28</td>\n",
       "      <td>북부</td>\n",
       "    </tr>\n",
       "    <tr>\n",
       "      <th>FC00002</th>\n",
       "      <td>수원공장</td>\n",
       "      <td>29</td>\n",
       "      <td>북부</td>\n",
       "    </tr>\n",
       "    <tr>\n",
       "      <th>FC00003</th>\n",
       "      <td>인천공장</td>\n",
       "      <td>31</td>\n",
       "      <td>북부</td>\n",
       "    </tr>\n",
       "    <tr>\n",
       "      <th>FC00004</th>\n",
       "      <td>대전공장</td>\n",
       "      <td>25</td>\n",
       "      <td>북부</td>\n",
       "    </tr>\n",
       "    <tr>\n",
       "      <th>FC00005</th>\n",
       "      <td>대구공장</td>\n",
       "      <td>21</td>\n",
       "      <td>남부</td>\n",
       "    </tr>\n",
       "    <tr>\n",
       "      <th>FC00006</th>\n",
       "      <td>광주공장</td>\n",
       "      <td>30</td>\n",
       "      <td>남부</td>\n",
       "    </tr>\n",
       "    <tr>\n",
       "      <th>FC00007</th>\n",
       "      <td>부산공장</td>\n",
       "      <td>25</td>\n",
       "      <td>남부</td>\n",
       "    </tr>\n",
       "    <tr>\n",
       "      <th>FC00008</th>\n",
       "      <td>울산공장</td>\n",
       "      <td>16</td>\n",
       "      <td>남부</td>\n",
       "    </tr>\n",
       "  </tbody>\n",
       "</table>\n",
       "</div>"
      ],
      "text/plain": [
       "        FCName  FCDemand FCRegion\n",
       "FCID                             \n",
       "FC00001   서울공장        28       북부\n",
       "FC00002   수원공장        29       북부\n",
       "FC00003   인천공장        31       북부\n",
       "FC00004   대전공장        25       북부\n",
       "FC00005   대구공장        21       남부\n",
       "FC00006   광주공장        30       남부\n",
       "FC00007   부산공장        25       남부\n",
       "FC00008   울산공장        16       남부"
      ]
     },
     "execution_count": 1,
     "metadata": {},
     "output_type": "execute_result"
    }
   ],
   "source": [
    "import pandas as pd\n",
    "factories = pd.read_csv('tbl_factory.csv', index_col=0)\n",
    "factories"
   ]
  },
  {
   "cell_type": "code",
   "execution_count": 4,
   "metadata": {},
   "outputs": [
    {
     "name": "stdout",
     "output_type": "stream",
     "text": [
      "<class 'pandas.core.frame.DataFrame'>\n",
      "Index: 6 entries, WH00001 to WH00006\n",
      "Data columns (total 3 columns):\n",
      " #   Column    Non-Null Count  Dtype \n",
      "---  ------    --------------  ----- \n",
      " 0   WHName    6 non-null      object\n",
      " 1   WHSupply  6 non-null      int64 \n",
      " 2   WHRegion  6 non-null      object\n",
      "dtypes: int64(1), object(2)\n",
      "memory usage: 192.0+ bytes\n",
      "        WHName  WHSupply WHRegion\n",
      "WHID                             \n",
      "WH00001   판교창고        35       북부\n",
      "WH00002   용인창고        41       북부\n",
      "WH00003   수원창고        42       북부\n",
      "WH00004   대전창고        60       남부\n",
      "WH00005   대구창고        72       남부 None\n",
      "            FCID     WHID  Cost\n",
      "RCostID                        \n",
      "1        FC00001  WH00001   0.4\n",
      "2        FC00001  WH00002   0.8\n",
      "3        FC00001  WH00003   1.5\n",
      "4        FC00002  WH00001   0.9\n",
      "5        FC00002  WH00002   0.8\n"
     ]
    }
   ],
   "source": [
    "warehouses = pd.read_csv('tbl_warehouse.csv', index_col=0)\n",
    "cost = pd.read_csv('rel_cost.csv',index_col=0)\n",
    "print(warehouses.head(),warehouses.info())\n",
    "print(cost.head())"
   ]
  },
  {
   "cell_type": "code",
   "execution_count": 6,
   "metadata": {},
   "outputs": [
    {
     "data": {
      "text/html": [
       "<div>\n",
       "<style scoped>\n",
       "    .dataframe tbody tr th:only-of-type {\n",
       "        vertical-align: middle;\n",
       "    }\n",
       "\n",
       "    .dataframe tbody tr th {\n",
       "        vertical-align: top;\n",
       "    }\n",
       "\n",
       "    .dataframe thead th {\n",
       "        text-align: right;\n",
       "    }\n",
       "</style>\n",
       "<table border=\"1\" class=\"dataframe\">\n",
       "  <thead>\n",
       "    <tr style=\"text-align: right;\">\n",
       "      <th></th>\n",
       "      <th>TransactionDate</th>\n",
       "      <th>ToFC</th>\n",
       "      <th>FromWH</th>\n",
       "      <th>Quantity</th>\n",
       "    </tr>\n",
       "    <tr>\n",
       "      <th>TRID</th>\n",
       "      <th></th>\n",
       "      <th></th>\n",
       "      <th></th>\n",
       "      <th></th>\n",
       "    </tr>\n",
       "  </thead>\n",
       "  <tbody>\n",
       "    <tr>\n",
       "      <th>0</th>\n",
       "      <td>2019-01-01 02:11:10</td>\n",
       "      <td>FC00004</td>\n",
       "      <td>WH00003</td>\n",
       "      <td>33</td>\n",
       "    </tr>\n",
       "    <tr>\n",
       "      <th>1</th>\n",
       "      <td>2019-01-01 06:12:42</td>\n",
       "      <td>FC00007</td>\n",
       "      <td>WH00006</td>\n",
       "      <td>19</td>\n",
       "    </tr>\n",
       "    <tr>\n",
       "      <th>2</th>\n",
       "      <td>2019-01-01 06:32:32</td>\n",
       "      <td>FC00006</td>\n",
       "      <td>WH00004</td>\n",
       "      <td>31</td>\n",
       "    </tr>\n",
       "    <tr>\n",
       "      <th>3</th>\n",
       "      <td>2019-01-01 07:17:06</td>\n",
       "      <td>FC00002</td>\n",
       "      <td>WH00003</td>\n",
       "      <td>18</td>\n",
       "    </tr>\n",
       "    <tr>\n",
       "      <th>4</th>\n",
       "      <td>2019-01-01 07:52:18</td>\n",
       "      <td>FC00001</td>\n",
       "      <td>WH00002</td>\n",
       "      <td>30</td>\n",
       "    </tr>\n",
       "  </tbody>\n",
       "</table>\n",
       "</div>"
      ],
      "text/plain": [
       "          TransactionDate     ToFC   FromWH  Quantity\n",
       "TRID                                                 \n",
       "0     2019-01-01 02:11:10  FC00004  WH00003        33\n",
       "1     2019-01-01 06:12:42  FC00007  WH00006        19\n",
       "2     2019-01-01 06:32:32  FC00006  WH00004        31\n",
       "3     2019-01-01 07:17:06  FC00002  WH00003        18\n",
       "4     2019-01-01 07:52:18  FC00001  WH00002        30"
      ]
     },
     "execution_count": 6,
     "metadata": {},
     "output_type": "execute_result"
    }
   ],
   "source": [
    "trans = pd.read_csv('tbl_transaction.csv', index_col=0)\n",
    "trans.head()"
   ]
  },
  {
   "cell_type": "code",
   "execution_count": 7,
   "metadata": {},
   "outputs": [
    {
     "data": {
      "text/html": [
       "<div>\n",
       "<style scoped>\n",
       "    .dataframe tbody tr th:only-of-type {\n",
       "        vertical-align: middle;\n",
       "    }\n",
       "\n",
       "    .dataframe tbody tr th {\n",
       "        vertical-align: top;\n",
       "    }\n",
       "\n",
       "    .dataframe thead th {\n",
       "        text-align: right;\n",
       "    }\n",
       "</style>\n",
       "<table border=\"1\" class=\"dataframe\">\n",
       "  <thead>\n",
       "    <tr style=\"text-align: right;\">\n",
       "      <th></th>\n",
       "      <th>TransactionDate</th>\n",
       "      <th>ToFC</th>\n",
       "      <th>FromWH</th>\n",
       "      <th>Quantity</th>\n",
       "      <th>FCID</th>\n",
       "      <th>WHID</th>\n",
       "      <th>Cost</th>\n",
       "    </tr>\n",
       "  </thead>\n",
       "  <tbody>\n",
       "    <tr>\n",
       "      <th>0</th>\n",
       "      <td>2019-01-01 02:11:10</td>\n",
       "      <td>FC00004</td>\n",
       "      <td>WH00003</td>\n",
       "      <td>33</td>\n",
       "      <td>FC00004</td>\n",
       "      <td>WH00003</td>\n",
       "      <td>1.1</td>\n",
       "    </tr>\n",
       "    <tr>\n",
       "      <th>1</th>\n",
       "      <td>2019-01-01 06:12:42</td>\n",
       "      <td>FC00007</td>\n",
       "      <td>WH00006</td>\n",
       "      <td>19</td>\n",
       "      <td>FC00007</td>\n",
       "      <td>WH00006</td>\n",
       "      <td>1.3</td>\n",
       "    </tr>\n",
       "    <tr>\n",
       "      <th>2</th>\n",
       "      <td>2019-01-01 06:32:32</td>\n",
       "      <td>FC00006</td>\n",
       "      <td>WH00004</td>\n",
       "      <td>31</td>\n",
       "      <td>FC00006</td>\n",
       "      <td>WH00004</td>\n",
       "      <td>0.9</td>\n",
       "    </tr>\n",
       "    <tr>\n",
       "      <th>3</th>\n",
       "      <td>2019-01-01 07:17:06</td>\n",
       "      <td>FC00002</td>\n",
       "      <td>WH00003</td>\n",
       "      <td>18</td>\n",
       "      <td>FC00002</td>\n",
       "      <td>WH00003</td>\n",
       "      <td>1.6</td>\n",
       "    </tr>\n",
       "    <tr>\n",
       "      <th>4</th>\n",
       "      <td>2019-01-01 07:52:18</td>\n",
       "      <td>FC00001</td>\n",
       "      <td>WH00002</td>\n",
       "      <td>30</td>\n",
       "      <td>FC00001</td>\n",
       "      <td>WH00002</td>\n",
       "      <td>0.8</td>\n",
       "    </tr>\n",
       "  </tbody>\n",
       "</table>\n",
       "</div>"
      ],
      "text/plain": [
       "       TransactionDate     ToFC   FromWH  Quantity     FCID     WHID  Cost\n",
       "0  2019-01-01 02:11:10  FC00004  WH00003        33  FC00004  WH00003   1.1\n",
       "1  2019-01-01 06:12:42  FC00007  WH00006        19  FC00007  WH00006   1.3\n",
       "2  2019-01-01 06:32:32  FC00006  WH00004        31  FC00006  WH00004   0.9\n",
       "3  2019-01-01 07:17:06  FC00002  WH00003        18  FC00002  WH00003   1.6\n",
       "4  2019-01-01 07:52:18  FC00001  WH00002        30  FC00001  WH00002   0.8"
      ]
     },
     "execution_count": 7,
     "metadata": {},
     "output_type": "execute_result"
    }
   ],
   "source": [
    "join_data = pd.merge(trans, cost, left_on=['ToFC', 'FromWH'], right_on=['FCID', 'WHID'], how=\"left\")\n",
    "join_data.head()"
   ]
  },
  {
   "cell_type": "code",
   "execution_count": 8,
   "metadata": {},
   "outputs": [],
   "source": [
    "join_data = pd.merge(join_data, factories, on='FCID', how=\"left\")"
   ]
  },
  {
   "cell_type": "code",
   "execution_count": 10,
   "metadata": {},
   "outputs": [
    {
     "data": {
      "text/html": [
       "<div>\n",
       "<style scoped>\n",
       "    .dataframe tbody tr th:only-of-type {\n",
       "        vertical-align: middle;\n",
       "    }\n",
       "\n",
       "    .dataframe tbody tr th {\n",
       "        vertical-align: top;\n",
       "    }\n",
       "\n",
       "    .dataframe thead th {\n",
       "        text-align: right;\n",
       "    }\n",
       "</style>\n",
       "<table border=\"1\" class=\"dataframe\">\n",
       "  <thead>\n",
       "    <tr style=\"text-align: right;\">\n",
       "      <th></th>\n",
       "      <th>TransactionDate</th>\n",
       "      <th>ToFC</th>\n",
       "      <th>FromWH</th>\n",
       "      <th>Quantity</th>\n",
       "      <th>FCID</th>\n",
       "      <th>WHID</th>\n",
       "      <th>Cost</th>\n",
       "      <th>FCName</th>\n",
       "      <th>FCDemand</th>\n",
       "      <th>FCRegion</th>\n",
       "      <th>WHName</th>\n",
       "      <th>WHSupply</th>\n",
       "      <th>WHRegion</th>\n",
       "    </tr>\n",
       "  </thead>\n",
       "  <tbody>\n",
       "    <tr>\n",
       "      <th>0</th>\n",
       "      <td>2019-01-01 02:11:10</td>\n",
       "      <td>FC00004</td>\n",
       "      <td>WH00003</td>\n",
       "      <td>33</td>\n",
       "      <td>FC00004</td>\n",
       "      <td>WH00003</td>\n",
       "      <td>1.1</td>\n",
       "      <td>대전공장</td>\n",
       "      <td>25</td>\n",
       "      <td>북부</td>\n",
       "      <td>수원창고</td>\n",
       "      <td>42</td>\n",
       "      <td>북부</td>\n",
       "    </tr>\n",
       "    <tr>\n",
       "      <th>1</th>\n",
       "      <td>2019-01-01 07:17:06</td>\n",
       "      <td>FC00002</td>\n",
       "      <td>WH00003</td>\n",
       "      <td>18</td>\n",
       "      <td>FC00002</td>\n",
       "      <td>WH00003</td>\n",
       "      <td>1.6</td>\n",
       "      <td>수원공장</td>\n",
       "      <td>29</td>\n",
       "      <td>북부</td>\n",
       "      <td>수원창고</td>\n",
       "      <td>42</td>\n",
       "      <td>북부</td>\n",
       "    </tr>\n",
       "    <tr>\n",
       "      <th>2</th>\n",
       "      <td>2019-01-01 09:09:30</td>\n",
       "      <td>FC00001</td>\n",
       "      <td>WH00003</td>\n",
       "      <td>12</td>\n",
       "      <td>FC00001</td>\n",
       "      <td>WH00003</td>\n",
       "      <td>1.5</td>\n",
       "      <td>서울공장</td>\n",
       "      <td>28</td>\n",
       "      <td>북부</td>\n",
       "      <td>수원창고</td>\n",
       "      <td>42</td>\n",
       "      <td>북부</td>\n",
       "    </tr>\n",
       "    <tr>\n",
       "      <th>3</th>\n",
       "      <td>2019-01-01 10:52:55</td>\n",
       "      <td>FC00003</td>\n",
       "      <td>WH00003</td>\n",
       "      <td>27</td>\n",
       "      <td>FC00003</td>\n",
       "      <td>WH00003</td>\n",
       "      <td>1.5</td>\n",
       "      <td>인천공장</td>\n",
       "      <td>31</td>\n",
       "      <td>북부</td>\n",
       "      <td>수원창고</td>\n",
       "      <td>42</td>\n",
       "      <td>북부</td>\n",
       "    </tr>\n",
       "    <tr>\n",
       "      <th>4</th>\n",
       "      <td>2019-01-03 20:23:03</td>\n",
       "      <td>FC00002</td>\n",
       "      <td>WH00003</td>\n",
       "      <td>17</td>\n",
       "      <td>FC00002</td>\n",
       "      <td>WH00003</td>\n",
       "      <td>1.6</td>\n",
       "      <td>수원공장</td>\n",
       "      <td>29</td>\n",
       "      <td>북부</td>\n",
       "      <td>수원창고</td>\n",
       "      <td>42</td>\n",
       "      <td>북부</td>\n",
       "    </tr>\n",
       "  </tbody>\n",
       "</table>\n",
       "</div>"
      ],
      "text/plain": [
       "       TransactionDate     ToFC   FromWH  Quantity     FCID     WHID  Cost  \\\n",
       "0  2019-01-01 02:11:10  FC00004  WH00003        33  FC00004  WH00003   1.1   \n",
       "1  2019-01-01 07:17:06  FC00002  WH00003        18  FC00002  WH00003   1.6   \n",
       "2  2019-01-01 09:09:30  FC00001  WH00003        12  FC00001  WH00003   1.5   \n",
       "3  2019-01-01 10:52:55  FC00003  WH00003        27  FC00003  WH00003   1.5   \n",
       "4  2019-01-03 20:23:03  FC00002  WH00003        17  FC00002  WH00003   1.6   \n",
       "\n",
       "  FCName  FCDemand FCRegion WHName  WHSupply WHRegion  \n",
       "0   대전공장        25       북부   수원창고        42       북부  \n",
       "1   수원공장        29       북부   수원창고        42       북부  \n",
       "2   서울공장        28       북부   수원창고        42       북부  \n",
       "3   인천공장        31       북부   수원창고        42       북부  \n",
       "4   수원공장        29       북부   수원창고        42       북부  "
      ]
     },
     "execution_count": 10,
     "metadata": {},
     "output_type": "execute_result"
    }
   ],
   "source": [
    "join_data = pd.merge(join_data, warehouses, on=\"WHID\")\n",
    "join_data.head()"
   ]
  },
  {
   "cell_type": "code",
   "execution_count": 11,
   "metadata": {},
   "outputs": [
    {
     "data": {
      "text/html": [
       "<div>\n",
       "<style scoped>\n",
       "    .dataframe tbody tr th:only-of-type {\n",
       "        vertical-align: middle;\n",
       "    }\n",
       "\n",
       "    .dataframe tbody tr th {\n",
       "        vertical-align: top;\n",
       "    }\n",
       "\n",
       "    .dataframe thead th {\n",
       "        text-align: right;\n",
       "    }\n",
       "</style>\n",
       "<table border=\"1\" class=\"dataframe\">\n",
       "  <thead>\n",
       "    <tr style=\"text-align: right;\">\n",
       "      <th></th>\n",
       "      <th>TransactionDate</th>\n",
       "      <th>Quantity</th>\n",
       "      <th>Cost</th>\n",
       "      <th>ToFC</th>\n",
       "      <th>FCName</th>\n",
       "      <th>FCDemand</th>\n",
       "      <th>FromWH</th>\n",
       "      <th>WHName</th>\n",
       "      <th>WHSupply</th>\n",
       "      <th>WHRegion</th>\n",
       "    </tr>\n",
       "  </thead>\n",
       "  <tbody>\n",
       "    <tr>\n",
       "      <th>0</th>\n",
       "      <td>2019-01-01 02:11:10</td>\n",
       "      <td>33</td>\n",
       "      <td>1.1</td>\n",
       "      <td>FC00004</td>\n",
       "      <td>대전공장</td>\n",
       "      <td>25</td>\n",
       "      <td>WH00003</td>\n",
       "      <td>수원창고</td>\n",
       "      <td>42</td>\n",
       "      <td>북부</td>\n",
       "    </tr>\n",
       "    <tr>\n",
       "      <th>1</th>\n",
       "      <td>2019-01-01 07:17:06</td>\n",
       "      <td>18</td>\n",
       "      <td>1.6</td>\n",
       "      <td>FC00002</td>\n",
       "      <td>수원공장</td>\n",
       "      <td>29</td>\n",
       "      <td>WH00003</td>\n",
       "      <td>수원창고</td>\n",
       "      <td>42</td>\n",
       "      <td>북부</td>\n",
       "    </tr>\n",
       "    <tr>\n",
       "      <th>2</th>\n",
       "      <td>2019-01-01 09:09:30</td>\n",
       "      <td>12</td>\n",
       "      <td>1.5</td>\n",
       "      <td>FC00001</td>\n",
       "      <td>서울공장</td>\n",
       "      <td>28</td>\n",
       "      <td>WH00003</td>\n",
       "      <td>수원창고</td>\n",
       "      <td>42</td>\n",
       "      <td>북부</td>\n",
       "    </tr>\n",
       "    <tr>\n",
       "      <th>3</th>\n",
       "      <td>2019-01-01 10:52:55</td>\n",
       "      <td>27</td>\n",
       "      <td>1.5</td>\n",
       "      <td>FC00003</td>\n",
       "      <td>인천공장</td>\n",
       "      <td>31</td>\n",
       "      <td>WH00003</td>\n",
       "      <td>수원창고</td>\n",
       "      <td>42</td>\n",
       "      <td>북부</td>\n",
       "    </tr>\n",
       "    <tr>\n",
       "      <th>4</th>\n",
       "      <td>2019-01-03 20:23:03</td>\n",
       "      <td>17</td>\n",
       "      <td>1.6</td>\n",
       "      <td>FC00002</td>\n",
       "      <td>수원공장</td>\n",
       "      <td>29</td>\n",
       "      <td>WH00003</td>\n",
       "      <td>수원창고</td>\n",
       "      <td>42</td>\n",
       "      <td>북부</td>\n",
       "    </tr>\n",
       "  </tbody>\n",
       "</table>\n",
       "</div>"
      ],
      "text/plain": [
       "       TransactionDate  Quantity  Cost     ToFC FCName  FCDemand   FromWH  \\\n",
       "0  2019-01-01 02:11:10        33   1.1  FC00004   대전공장        25  WH00003   \n",
       "1  2019-01-01 07:17:06        18   1.6  FC00002   수원공장        29  WH00003   \n",
       "2  2019-01-01 09:09:30        12   1.5  FC00001   서울공장        28  WH00003   \n",
       "3  2019-01-01 10:52:55        27   1.5  FC00003   인천공장        31  WH00003   \n",
       "4  2019-01-03 20:23:03        17   1.6  FC00002   수원공장        29  WH00003   \n",
       "\n",
       "  WHName  WHSupply WHRegion  \n",
       "0   수원창고        42       북부  \n",
       "1   수원창고        42       북부  \n",
       "2   수원창고        42       북부  \n",
       "3   수원창고        42       북부  \n",
       "4   수원창고        42       북부  "
      ]
     },
     "execution_count": 11,
     "metadata": {},
     "output_type": "execute_result"
    }
   ],
   "source": [
    "join_data = join_data[['TransactionDate', 'Quantity', 'Cost', 'ToFC', 'FCName', 'FCDemand', \"FromWH\",\"WHName\",\"WHSupply\",\"WHRegion\"]]\n",
    "join_data.head()"
   ]
  },
  {
   "cell_type": "code",
   "execution_count": 13,
   "metadata": {},
   "outputs": [
    {
     "data": {
      "text/plain": [
       "4000"
      ]
     },
     "execution_count": 13,
     "metadata": {},
     "output_type": "execute_result"
    }
   ],
   "source": [
    "len(join_data)"
   ]
  },
  {
   "cell_type": "code",
   "execution_count": 14,
   "metadata": {},
   "outputs": [],
   "source": [
    "north = join_data[join_data['WHRegion'] == '북부']\n",
    "south = join_data[join_data['WHRegion'] == '남부']"
   ]
  },
  {
   "cell_type": "markdown",
   "metadata": {},
   "source": [
    "### 테크닉 52 : 현재 운송량, 비용을 확인해보자"
   ]
  },
  {
   "cell_type": "code",
   "execution_count": 16,
   "metadata": {},
   "outputs": [
    {
     "name": "stdout",
     "output_type": "stream",
     "text": [
      "북부 비용 :2189.3만원\n",
      "남부 비용 :2062.0만원\n"
     ]
    }
   ],
   "source": [
    "print('북부 비용 :' + str(north['Cost'].sum()) + '만원')\n",
    "print('남부 비용 :' + str(south['Cost'].sum()) + '만원')"
   ]
  },
  {
   "cell_type": "code",
   "execution_count": 17,
   "metadata": {},
   "outputs": [
    {
     "name": "stdout",
     "output_type": "stream",
     "text": [
      "북부 건수 :49146건\n",
      "남부 건수 :50214건\n"
     ]
    }
   ],
   "source": [
    "print('북부 건수 :' + str(north['Quantity'].sum()) + '건')\n",
    "print('남부 건수 :' + str(south['Quantity'].sum()) + '건')"
   ]
  },
  {
   "cell_type": "code",
   "execution_count": 22,
   "metadata": {},
   "outputs": [
    {
     "name": "stdout",
     "output_type": "stream",
     "text": [
      "북부 건당 비용 :445원\n",
      "남부 건당 비용 :410원\n"
     ]
    }
   ],
   "source": [
    "# 건당 운송 비용\n",
    "print('북부 건당 비용 :' + str(int(north['Cost'].sum()/north['Quantity'].sum()*10000)) + '원')\n",
    "print('남부 건당 비용 :' + str(int(south['Cost'].sum()/south['Quantity'].sum()*10000)) + '원')"
   ]
  },
  {
   "cell_type": "markdown",
   "metadata": {},
   "source": [
    "#### 위 데이터를 통해 남부가 북부보다 배송 효율이 더 좋은 것을 알 수 있음"
   ]
  },
  {
   "cell_type": "markdown",
   "metadata": {},
   "source": [
    "### 테크닉 53 : 네트워크를 가시화해보자"
   ]
  },
  {
   "cell_type": "code",
   "execution_count": 23,
   "metadata": {},
   "outputs": [],
   "source": [
    "import networkx as nx\n",
    "import matplotlib.pyplot as plt"
   ]
  },
  {
   "cell_type": "code",
   "execution_count": 27,
   "metadata": {},
   "outputs": [],
   "source": [
    "G = nx.Graph()"
   ]
  },
  {
   "cell_type": "code",
   "execution_count": 28,
   "metadata": {},
   "outputs": [
    {
     "data": {
      "image/png": "[encoded data removed]",
      "text/plain": [
       "<Figure size 432x288 with 1 Axes>"
      ]
     },
     "metadata": {},
     "output_type": "display_data"
    }
   ],
   "source": [
    "G.add_node(\"nodeA\")\n",
    "G.add_node(\"nodeB\")\n",
    "G.add_node(\"nodeC\")\n",
    "\n",
    "G.add_edge(\"nodeA\", \"nodeB\")\n",
    "G.add_edge(\"nodeA\", \"nodeC\")\n",
    "G.add_edge(\"nodeB\", \"nodeC\")\n",
    "\n",
    "pos = {}\n",
    "pos['nodeA'] = (0,0)\n",
    "pos['nodeB'] = (1,1)\n",
    "pos['nodeC'] = (0,1)\n",
    "\n",
    "nx.draw(G, pos)\n",
    "plt.show()"
   ]
  },
  {
   "cell_type": "markdown",
   "metadata": {},
   "source": [
    "### 테크닉 54 : 네트워크에 노드를 추가해보자"
   ]
  },
  {
   "cell_type": "code",
   "execution_count": 29,
   "metadata": {},
   "outputs": [
    {
     "data": {
      "image/png": "[encoded data removed]",
      "text/plain": [
       "<Figure size 432x288 with 1 Axes>"
      ]
     },
     "metadata": {},
     "output_type": "display_data"
    }
   ],
   "source": [
    "G.add_node(\"nodeD\")\n",
    "G.add_edge(\"nodeA\", \"nodeD\")\n",
    "pos[\"nodeD\"] = (1,0)\n",
    "\n",
    "nx.draw(G, pos, with_labels=True)"
   ]
  },
  {
   "cell_type": "markdown",
   "metadata": {},
   "source": [
    "### 테크닉 55 : 경로에 가중치를 부여하자"
   ]
  },
  {
   "cell_type": "code",
   "execution_count": 31,
   "metadata": {},
   "outputs": [
    {
     "data": {
      "image/png": "[encoded data removed]",
      "text/plain": [
       "<Figure size 432x288 with 1 Axes>"
      ]
     },
     "metadata": {},
     "output_type": "display_data"
    }
   ],
   "source": [
    "import pandas as pd\n",
    "import numpy as np\n",
    "import matplotlib.pyplot as plt\n",
    "import networkx as nx\n",
    "\n",
    "df_w = pd.read_csv('network_weight.csv')\n",
    "df_p = pd.read_csv('network_pos.csv')\n",
    "\n",
    "size = 10\n",
    "edges_weights = []\n",
    "\n",
    "for i in range(len(df_w)):\n",
    "    for j in range(len(df_w.columns)):\n",
    "        edges_weights.append(df_w.iloc[i][j]*size)\n",
    "\n",
    "G = nx.Graph()\n",
    "# 노드 설정\n",
    "for i in range(len(df_w)):\n",
    "    G.add_node(df_w.columns[i])\n",
    "# 엣지 설정\n",
    "for i in range(len(df_w.columns)):\n",
    "    for j in range(len(df_w.columns)):\n",
    "        G.add_edge(df_w.columns[i],df_w.columns[j])\n",
    "# 좌표 설정\n",
    "pos = {}\n",
    "for i in range(len(df_w.columns)):\n",
    "    node = df_w.columns[i]\n",
    "    pos[node] = (df_p[node][0], df_p[node][1])\n",
    "    \n",
    "# 그리기\n",
    "nx.draw(G, pos, with_labels=True, font_size= 16, node_size=1000, node_color='k', font_color=\"w\", width = edges_weights)\n",
    "# 표시\n",
    "plt.show()"
   ]
  },
  {
   "cell_type": "markdown",
   "metadata": {},
   "source": [
    "### 테크닉 56 : 운송경로 정보를 불러오자"
   ]
  },
  {
   "cell_type": "code",
   "execution_count": 35,
   "metadata": {},
   "outputs": [
    {
     "data": {
      "text/html": [
       "<div>\n",
       "<style scoped>\n",
       "    .dataframe tbody tr th:only-of-type {\n",
       "        vertical-align: middle;\n",
       "    }\n",
       "\n",
       "    .dataframe tbody tr th {\n",
       "        vertical-align: top;\n",
       "    }\n",
       "\n",
       "    .dataframe thead th {\n",
       "        text-align: right;\n",
       "    }\n",
       "</style>\n",
       "<table border=\"1\" class=\"dataframe\">\n",
       "  <thead>\n",
       "    <tr style=\"text-align: right;\">\n",
       "      <th></th>\n",
       "      <th>F1</th>\n",
       "      <th>F2</th>\n",
       "      <th>F3</th>\n",
       "      <th>F4</th>\n",
       "    </tr>\n",
       "    <tr>\n",
       "      <th>공장</th>\n",
       "      <th></th>\n",
       "      <th></th>\n",
       "      <th></th>\n",
       "      <th></th>\n",
       "    </tr>\n",
       "  </thead>\n",
       "  <tbody>\n",
       "    <tr>\n",
       "      <th>W1</th>\n",
       "      <td>15</td>\n",
       "      <td>15</td>\n",
       "      <td>0</td>\n",
       "      <td>5</td>\n",
       "    </tr>\n",
       "    <tr>\n",
       "      <th>W2</th>\n",
       "      <td>5</td>\n",
       "      <td>0</td>\n",
       "      <td>30</td>\n",
       "      <td>5</td>\n",
       "    </tr>\n",
       "    <tr>\n",
       "      <th>W3</th>\n",
       "      <td>10</td>\n",
       "      <td>15</td>\n",
       "      <td>2</td>\n",
       "      <td>15</td>\n",
       "    </tr>\n",
       "  </tbody>\n",
       "</table>\n",
       "</div>"
      ],
      "text/plain": [
       "    F1  F2  F3  F4\n",
       "공장                \n",
       "W1  15  15   0   5\n",
       "W2   5   0  30   5\n",
       "W3  10  15   2  15"
      ]
     },
     "execution_count": 35,
     "metadata": {},
     "output_type": "execute_result"
    }
   ],
   "source": [
    "df_tr = pd.read_csv('trans_route.csv', index_col = '공장')\n",
    "df_tr"
   ]
  },
  {
   "cell_type": "markdown",
   "metadata": {},
   "source": [
    "### 테크닉 57 : 운송경로정보로 네트워크를 가시화해보자"
   ]
  },
  {
   "cell_type": "code",
   "execution_count": 36,
   "metadata": {},
   "outputs": [],
   "source": [
    "df_tr = pd.read_csv('trans_route.csv', index_col=\"공장\")\n",
    "df_pos = pd.read_csv('trans_route_pos.csv')"
   ]
  },
  {
   "cell_type": "code",
   "execution_count": 51,
   "metadata": {},
   "outputs": [
    {
     "data": {
      "text/html": [
       "<div>\n",
       "<style scoped>\n",
       "    .dataframe tbody tr th:only-of-type {\n",
       "        vertical-align: middle;\n",
       "    }\n",
       "\n",
       "    .dataframe tbody tr th {\n",
       "        vertical-align: top;\n",
       "    }\n",
       "\n",
       "    .dataframe thead th {\n",
       "        text-align: right;\n",
       "    }\n",
       "</style>\n",
       "<table border=\"1\" class=\"dataframe\">\n",
       "  <thead>\n",
       "    <tr style=\"text-align: right;\">\n",
       "      <th></th>\n",
       "      <th>F1</th>\n",
       "      <th>F2</th>\n",
       "      <th>F3</th>\n",
       "      <th>F4</th>\n",
       "    </tr>\n",
       "    <tr>\n",
       "      <th>공장</th>\n",
       "      <th></th>\n",
       "      <th></th>\n",
       "      <th></th>\n",
       "      <th></th>\n",
       "    </tr>\n",
       "  </thead>\n",
       "  <tbody>\n",
       "    <tr>\n",
       "      <th>W1</th>\n",
       "      <td>15</td>\n",
       "      <td>15</td>\n",
       "      <td>0</td>\n",
       "      <td>5</td>\n",
       "    </tr>\n",
       "    <tr>\n",
       "      <th>W2</th>\n",
       "      <td>5</td>\n",
       "      <td>0</td>\n",
       "      <td>30</td>\n",
       "      <td>5</td>\n",
       "    </tr>\n",
       "    <tr>\n",
       "      <th>W3</th>\n",
       "      <td>10</td>\n",
       "      <td>15</td>\n",
       "      <td>2</td>\n",
       "      <td>15</td>\n",
       "    </tr>\n",
       "  </tbody>\n",
       "</table>\n",
       "</div>"
      ],
      "text/plain": [
       "    F1  F2  F3  F4\n",
       "공장                \n",
       "W1  15  15   0   5\n",
       "W2   5   0  30   5\n",
       "W3  10  15   2  15"
      ]
     },
     "execution_count": 51,
     "metadata": {},
     "output_type": "execute_result"
    }
   ],
   "source": [
    "df_tr"
   ]
  },
  {
   "cell_type": "code",
   "execution_count": 52,
   "metadata": {},
   "outputs": [
    {
     "data": {
      "text/html": [
       "<div>\n",
       "<style scoped>\n",
       "    .dataframe tbody tr th:only-of-type {\n",
       "        vertical-align: middle;\n",
       "    }\n",
       "\n",
       "    .dataframe tbody tr th {\n",
       "        vertical-align: top;\n",
       "    }\n",
       "\n",
       "    .dataframe thead th {\n",
       "        text-align: right;\n",
       "    }\n",
       "</style>\n",
       "<table border=\"1\" class=\"dataframe\">\n",
       "  <thead>\n",
       "    <tr style=\"text-align: right;\">\n",
       "      <th></th>\n",
       "      <th>W1</th>\n",
       "      <th>W2</th>\n",
       "      <th>W3</th>\n",
       "      <th>F1</th>\n",
       "      <th>F2</th>\n",
       "      <th>F3</th>\n",
       "      <th>F4</th>\n",
       "    </tr>\n",
       "  </thead>\n",
       "  <tbody>\n",
       "    <tr>\n",
       "      <th>0</th>\n",
       "      <td>0</td>\n",
       "      <td>0</td>\n",
       "      <td>0</td>\n",
       "      <td>4.0</td>\n",
       "      <td>4.0</td>\n",
       "      <td>4.0</td>\n",
       "      <td>4.0</td>\n",
       "    </tr>\n",
       "    <tr>\n",
       "      <th>1</th>\n",
       "      <td>1</td>\n",
       "      <td>2</td>\n",
       "      <td>3</td>\n",
       "      <td>0.5</td>\n",
       "      <td>1.5</td>\n",
       "      <td>2.5</td>\n",
       "      <td>3.5</td>\n",
       "    </tr>\n",
       "  </tbody>\n",
       "</table>\n",
       "</div>"
      ],
      "text/plain": [
       "   W1  W2  W3   F1   F2   F3   F4\n",
       "0   0   0   0  4.0  4.0  4.0  4.0\n",
       "1   1   2   3  0.5  1.5  2.5  3.5"
      ]
     },
     "execution_count": 52,
     "metadata": {},
     "output_type": "execute_result"
    }
   ],
   "source": [
    "df_pos"
   ]
  },
  {
   "cell_type": "code",
   "execution_count": 54,
   "metadata": {},
   "outputs": [
    {
     "data": {
      "image/png": "[encoded data removed]",
      "text/plain": [
       "<Figure size 432x288 with 1 Axes>"
      ]
     },
     "metadata": {},
     "output_type": "display_data"
    }
   ],
   "source": [
    "G = nx.Graph()\n",
    "\n",
    "for i in range(len(df_pos.columns)):\n",
    "    G.add_node(df_pos.columns[i])\n",
    "\n",
    "num_pre = 0\n",
    "edge_weights = []\n",
    "size = 0.1\n",
    "    \n",
    "for i in range(len(df_pos.columns)):\n",
    "    for j in range(len(df_pos.columns)):\n",
    "        if not(i==j):\n",
    "            G.add_edge(df_pos.columns[i], df_pos.columns[j])\n",
    "            if num_pre<len(G.edges):\n",
    "                num_pre = len(G.edges)\n",
    "                weight = 0\n",
    "                # 창고 -> 공장 경로인 경우\n",
    "                if(df_pos.columns[i] in df_tr.columns) and (df_pos.columns[j] in df_tr.index):\n",
    "                    if df_tr[df_pos.columns[i]][df_pos.columns[j]]:\n",
    "                        weight = df_tr[df_pos.columns[i]][df_pos.columns[j]]*size\n",
    "                # ??\n",
    "                elif(df_pos.columns[j] in df_tr.columns) and (df_pos.columns[i] in df_tr.index):\n",
    "                    if df_tr[df_pos.columns[j]][df_pos.columns[i]]:\n",
    "                        weight = df_tr[df_pos.columns[j]][df_pos.columns[i]]*size\n",
    "                        \n",
    "                edge_weights.append(weight)\n",
    "                \n",
    "pos = {}\n",
    "for i in range(len(df_pos.columns)):\n",
    "    node = df_pos.columns[i]\n",
    "    pos[node] = (df_pos[node][0], df_pos[node][1])\n",
    "\n",
    "nx.draw(G, pos, with_labels=True, font_size=16, node_size = 1000, node_color='k', font_color='w', width=edge_weights)\n",
    "\n",
    "plt.show()"
   ]
  },
  {
   "cell_type": "markdown",
   "metadata": {},
   "source": [
    "### 테크닉 58 : 운송비용함수를 작성하자"
   ]
  },
  {
   "cell_type": "code",
   "execution_count": 59,
   "metadata": {},
   "outputs": [],
   "source": [
    "df_tr = pd.read_csv('trans_route.csv', index_col='공장')\n",
    "df_tc = pd.read_csv('trans_cost.csv', index_col='공장')"
   ]
  },
  {
   "cell_type": "code",
   "execution_count": 60,
   "metadata": {},
   "outputs": [
    {
     "data": {
      "text/html": [
       "<div>\n",
       "<style scoped>\n",
       "    .dataframe tbody tr th:only-of-type {\n",
       "        vertical-align: middle;\n",
       "    }\n",
       "\n",
       "    .dataframe tbody tr th {\n",
       "        vertical-align: top;\n",
       "    }\n",
       "\n",
       "    .dataframe thead th {\n",
       "        text-align: right;\n",
       "    }\n",
       "</style>\n",
       "<table border=\"1\" class=\"dataframe\">\n",
       "  <thead>\n",
       "    <tr style=\"text-align: right;\">\n",
       "      <th></th>\n",
       "      <th>F1</th>\n",
       "      <th>F2</th>\n",
       "      <th>F3</th>\n",
       "      <th>F4</th>\n",
       "    </tr>\n",
       "    <tr>\n",
       "      <th>공장</th>\n",
       "      <th></th>\n",
       "      <th></th>\n",
       "      <th></th>\n",
       "      <th></th>\n",
       "    </tr>\n",
       "  </thead>\n",
       "  <tbody>\n",
       "    <tr>\n",
       "      <th>W1</th>\n",
       "      <td>10</td>\n",
       "      <td>10</td>\n",
       "      <td>11</td>\n",
       "      <td>27</td>\n",
       "    </tr>\n",
       "    <tr>\n",
       "      <th>W2</th>\n",
       "      <td>18</td>\n",
       "      <td>21</td>\n",
       "      <td>12</td>\n",
       "      <td>14</td>\n",
       "    </tr>\n",
       "    <tr>\n",
       "      <th>W3</th>\n",
       "      <td>15</td>\n",
       "      <td>12</td>\n",
       "      <td>14</td>\n",
       "      <td>12</td>\n",
       "    </tr>\n",
       "  </tbody>\n",
       "</table>\n",
       "</div>"
      ],
      "text/plain": [
       "    F1  F2  F3  F4\n",
       "공장                \n",
       "W1  10  10  11  27\n",
       "W2  18  21  12  14\n",
       "W3  15  12  14  12"
      ]
     },
     "execution_count": 60,
     "metadata": {},
     "output_type": "execute_result"
    }
   ],
   "source": [
    "df_tc"
   ]
  },
  {
   "cell_type": "code",
   "execution_count": 61,
   "metadata": {},
   "outputs": [
    {
     "name": "stdout",
     "output_type": "stream",
     "text": [
      "총 운송 비용 : 1493\n"
     ]
    }
   ],
   "source": [
    "def trans_cost(df_tr, df_tc):\n",
    "    cost = 0\n",
    "    for i in range(len(df_tc.index)):\n",
    "        for j in range(len(df_tc.columns)):\n",
    "            cost += df_tr.iloc[i][j]*df_tc.iloc[i][j]\n",
    "    return cost\n",
    "\n",
    "print(\"총 운송 비용 : \"+str(trans_cost(df_tr, df_tc)))"
   ]
  },
  {
   "cell_type": "markdown",
   "metadata": {},
   "source": [
    "### 테크닉 59 : 제약조건을 만들어보자"
   ]
  },
  {
   "cell_type": "code",
   "execution_count": 62,
   "metadata": {},
   "outputs": [],
   "source": [
    "df_tr = pd.read_csv('trans_route.csv', index_col=\"공장\")\n",
    "df_demand = pd.read_csv('demand.csv')\n",
    "df_supply = pd.read_csv('supply.csv')\n"
   ]
  },
  {
   "cell_type": "code",
   "execution_count": 66,
   "metadata": {},
   "outputs": [
    {
     "data": {
      "text/html": [
       "<div>\n",
       "<style scoped>\n",
       "    .dataframe tbody tr th:only-of-type {\n",
       "        vertical-align: middle;\n",
       "    }\n",
       "\n",
       "    .dataframe tbody tr th {\n",
       "        vertical-align: top;\n",
       "    }\n",
       "\n",
       "    .dataframe thead th {\n",
       "        text-align: right;\n",
       "    }\n",
       "</style>\n",
       "<table border=\"1\" class=\"dataframe\">\n",
       "  <thead>\n",
       "    <tr style=\"text-align: right;\">\n",
       "      <th></th>\n",
       "      <th>F1</th>\n",
       "      <th>F2</th>\n",
       "      <th>F3</th>\n",
       "      <th>F4</th>\n",
       "    </tr>\n",
       "    <tr>\n",
       "      <th>공장</th>\n",
       "      <th></th>\n",
       "      <th></th>\n",
       "      <th></th>\n",
       "      <th></th>\n",
       "    </tr>\n",
       "  </thead>\n",
       "  <tbody>\n",
       "    <tr>\n",
       "      <th>W1</th>\n",
       "      <td>15</td>\n",
       "      <td>15</td>\n",
       "      <td>0</td>\n",
       "      <td>5</td>\n",
       "    </tr>\n",
       "    <tr>\n",
       "      <th>W2</th>\n",
       "      <td>5</td>\n",
       "      <td>0</td>\n",
       "      <td>30</td>\n",
       "      <td>5</td>\n",
       "    </tr>\n",
       "    <tr>\n",
       "      <th>W3</th>\n",
       "      <td>10</td>\n",
       "      <td>15</td>\n",
       "      <td>2</td>\n",
       "      <td>15</td>\n",
       "    </tr>\n",
       "  </tbody>\n",
       "</table>\n",
       "</div>"
      ],
      "text/plain": [
       "    F1  F2  F3  F4\n",
       "공장                \n",
       "W1  15  15   0   5\n",
       "W2   5   0  30   5\n",
       "W3  10  15   2  15"
      ]
     },
     "execution_count": 66,
     "metadata": {},
     "output_type": "execute_result"
    }
   ],
   "source": [
    "df_tr"
   ]
  },
  {
   "cell_type": "code",
   "execution_count": 65,
   "metadata": {},
   "outputs": [
    {
     "data": {
      "text/html": [
       "<div>\n",
       "<style scoped>\n",
       "    .dataframe tbody tr th:only-of-type {\n",
       "        vertical-align: middle;\n",
       "    }\n",
       "\n",
       "    .dataframe tbody tr th {\n",
       "        vertical-align: top;\n",
       "    }\n",
       "\n",
       "    .dataframe thead th {\n",
       "        text-align: right;\n",
       "    }\n",
       "</style>\n",
       "<table border=\"1\" class=\"dataframe\">\n",
       "  <thead>\n",
       "    <tr style=\"text-align: right;\">\n",
       "      <th></th>\n",
       "      <th>F1</th>\n",
       "      <th>F2</th>\n",
       "      <th>F3</th>\n",
       "      <th>F4</th>\n",
       "    </tr>\n",
       "  </thead>\n",
       "  <tbody>\n",
       "    <tr>\n",
       "      <th>0</th>\n",
       "      <td>28</td>\n",
       "      <td>29</td>\n",
       "      <td>31</td>\n",
       "      <td>25</td>\n",
       "    </tr>\n",
       "  </tbody>\n",
       "</table>\n",
       "</div>"
      ],
      "text/plain": [
       "   F1  F2  F3  F4\n",
       "0  28  29  31  25"
      ]
     },
     "execution_count": 65,
     "metadata": {},
     "output_type": "execute_result"
    }
   ],
   "source": [
    "df_demand"
   ]
  },
  {
   "cell_type": "code",
   "execution_count": 64,
   "metadata": {},
   "outputs": [
    {
     "data": {
      "text/html": [
       "<div>\n",
       "<style scoped>\n",
       "    .dataframe tbody tr th:only-of-type {\n",
       "        vertical-align: middle;\n",
       "    }\n",
       "\n",
       "    .dataframe tbody tr th {\n",
       "        vertical-align: top;\n",
       "    }\n",
       "\n",
       "    .dataframe thead th {\n",
       "        text-align: right;\n",
       "    }\n",
       "</style>\n",
       "<table border=\"1\" class=\"dataframe\">\n",
       "  <thead>\n",
       "    <tr style=\"text-align: right;\">\n",
       "      <th></th>\n",
       "      <th>W1</th>\n",
       "      <th>W2</th>\n",
       "      <th>W3</th>\n",
       "    </tr>\n",
       "  </thead>\n",
       "  <tbody>\n",
       "    <tr>\n",
       "      <th>0</th>\n",
       "      <td>35</td>\n",
       "      <td>41</td>\n",
       "      <td>42</td>\n",
       "    </tr>\n",
       "  </tbody>\n",
       "</table>\n",
       "</div>"
      ],
      "text/plain": [
       "   W1  W2  W3\n",
       "0  35  41  42"
      ]
     },
     "execution_count": 64,
     "metadata": {},
     "output_type": "execute_result"
    }
   ],
   "source": [
    "df_supply"
   ]
  },
  {
   "cell_type": "code",
   "execution_count": 70,
   "metadata": {},
   "outputs": [
    {
     "name": "stdout",
     "output_type": "stream",
     "text": [
      "F1으로 운송량 : 30(수요한계 : 28)\n",
      "수요량 만족시키고 있음\n",
      "F2으로 운송량 : 30(수요한계 : 29)\n",
      "수요량 만족시키고 있음\n",
      "F3으로 운송량 : 32(수요한계 : 31)\n",
      "수요량 만족시키고 있음\n",
      "F4으로 운송량 : 25(수요한계 : 25)\n",
      "수요량 만족시키고 있음\n",
      "W1부터의 운송량 : 35(공급한계 : 35)\n",
      "공급한계 범위 내\n",
      "W2부터의 운송량 : 40(공급한계 : 41)\n",
      "공급한계 범위 내\n",
      "W3부터의 운송량 : 42(공급한계 : 42)\n",
      "공급한계 범위 내\n"
     ]
    }
   ],
   "source": [
    "# 수요측 제약 조건\n",
    "for i in range(len(df_demand.columns)):\n",
    "    temp_sum = sum(df_tr[df_demand.columns[i]])\n",
    "    print(str(df_demand.columns[i])+\"으로 운송량 : \"+str(temp_sum)+\"(수요한계 : \"+str(df_demand.iloc[0][i])+\")\")\n",
    "    if temp_sum >= df_demand.iloc[0][i]:\n",
    "        print(\"수요량 만족시키고 있음\")\n",
    "    else:\n",
    "        print(\"수요량을 만족시키 못하고 있음. 운송경로 재계산 필요\")\n",
    "\n",
    "# 공급측 제약 조건\n",
    "for i in range(len(df_supply.columns)):\n",
    "    temp_sum = sum(df_tr.loc[df_supply.columns[i]])\n",
    "    print(str(df_supply.columns[i])+\"부터의 운송량 : \"+str(temp_sum)+\"(공급한계 : \"+str(df_supply.iloc[0][i])+\")\")\n",
    "    if temp_sum <= df_supply.iloc[0][i]:\n",
    "        print(\"공급한계 범위 내\")\n",
    "    else:\n",
    "        print(\"공급량을 만족시키 못하고 있음. 운송경로 재계산 필요\")"
   ]
  },
  {
   "cell_type": "markdown",
   "metadata": {},
   "source": [
    "### 테크닉 60 : 운송경로를 변경해서, 운송비용함수의 변화를 확인하자"
   ]
  }
 ],
 "metadata": {
  "kernelspec": {
   "display_name": "Python 3 (ipykernel)",
   "language": "python",
   "name": "python3"
  },
  "language_info": {
   "codemirror_mode": {
    "name": "ipython",
    "version": 3
   },
   "file_extension": ".py",
   "mimetype": "text/x-python",
   "name": "python",
   "nbconvert_exporter": "python",
   "pygments_lexer": "ipython3",
   "version": "3.9.7"
  }
 },
 "nbformat": 4,
 "nbformat_minor": 2
}
