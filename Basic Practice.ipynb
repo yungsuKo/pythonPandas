{
 "cells": [
  {
   "cell_type": "code",
   "execution_count": 1,
   "id": "0b38b887",
   "metadata": {},
   "outputs": [
    {
     "name": "stdout",
     "output_type": "stream",
     "text": [
      "직각삼각형 그리기\n",
      "\n",
      "변의 길이: 3\n",
      "* \n",
      "* * \n",
      "* * * \n",
      "넓이: 4.5\n"
     ]
    }
   ],
   "source": [
    "print('직각삼각형 그리기\\n')\n",
    "leg = int(input('변의 길이: '))\n",
    "\n",
    "for i in range(leg):\n",
    "    print('* ' * (i + 1))\n",
    "\n",
    "area = (leg ** 2) / 2\n",
    "print('넓이:', area)"
   ]
  },
  {
   "cell_type": "code",
   "execution_count": 11,
   "id": "95222f96",
   "metadata": {},
   "outputs": [
    {
     "name": "stdout",
     "output_type": "stream",
     "text": [
      "제곱 구하기\n",
      "\n",
      "변의 길이: 10\n",
      "제곱 : \n",
      "100\n"
     ]
    }
   ],
   "source": [
    "print('제곱 구하기\\n')\n",
    "leg = int(input('변의 길이: '))\n",
    "\n",
    "print('제곱 : ')\n",
    "\n",
    "print(leg**2)\n"
   ]
  },
  {
   "cell_type": "code",
   "execution_count": 18,
   "id": "504b368d",
   "metadata": {},
   "outputs": [
    {
     "name": "stdout",
     "output_type": "stream",
     "text": [
      "1\n",
      "2\n",
      "3\n",
      "4\n",
      "5\n",
      "6\n",
      "7\n",
      "8\n",
      "9\n",
      "10\n",
      "11\n",
      "12\n",
      "13\n",
      "14\n",
      "15\n",
      "16\n",
      "17\n",
      "18\n",
      "19\n",
      "20\n",
      "21\n",
      "22\n",
      "23\n",
      "24\n",
      "25\n",
      "26\n",
      "27\n",
      "28\n",
      "29\n",
      "30\n",
      "31\n",
      "32\n",
      "33\n",
      "34\n",
      "35\n",
      "36\n",
      "37\n",
      "38\n",
      "39\n",
      "40\n",
      "41\n",
      "42\n",
      "43\n",
      "44\n",
      "45\n",
      "46\n",
      "47\n",
      "48\n",
      "49\n",
      "50\n",
      "51\n",
      "52\n",
      "53\n",
      "54\n",
      "55\n",
      "56\n",
      "57\n",
      "58\n",
      "59\n",
      "60\n",
      "61\n",
      "62\n",
      "63\n",
      "64\n",
      "65\n",
      "66\n",
      "67\n",
      "68\n",
      "69\n",
      "70\n",
      "71\n",
      "72\n",
      "73\n",
      "74\n",
      "75\n",
      "76\n",
      "77\n",
      "78\n",
      "79\n",
      "80\n",
      "81\n",
      "82\n",
      "83\n",
      "84\n",
      "85\n",
      "86\n",
      "87\n",
      "88\n",
      "89\n",
      "90\n",
      "91\n",
      "92\n",
      "93\n",
      "94\n",
      "95\n",
      "96\n",
      "97\n",
      "98\n",
      "99\n",
      "100\n"
     ]
    }
   ],
   "source": [
    "num = 1\n",
    "\n",
    "while num <= 100:\n",
    "    print(num)\n",
    "    num+=1"
   ]
  },
  {
   "cell_type": "code",
   "execution_count": 20,
   "id": "59f66262",
   "metadata": {},
   "outputs": [
    {
     "name": "stdout",
     "output_type": "stream",
     "text": [
      "력받은 숫자만큼 반복하기\n",
      "\n",
      "반복할 숫자 : 3\n",
      "3\n",
      "3\n",
      "3\n"
     ]
    }
   ],
   "source": [
    "print('력받은 숫자만큼 반복하기\\n')\n",
    "leg = int(input('반복할 숫자 : '))\n",
    "\n",
    "num = 1\n",
    "while num <= leg:\n",
    "    print(leg)\n",
    "    num += 1"
   ]
  },
  {
   "cell_type": "markdown",
   "id": "31bfcee1",
   "metadata": {},
   "source": [
    "print('제곱표\\n')\n",
    "leg = int(input('제곱할 숫자 : '))\n",
    "\n",
    "num = 1\n",
    "while num <= leg:\n",
    "    print(num, num**2)\n",
    "    num += 1"
   ]
  },
  {
   "cell_type": "code",
   "execution_count": 28,
   "id": "47c5b5af",
   "metadata": {},
   "outputs": [
    {
     "name": "stdout",
     "output_type": "stream",
     "text": [
      "제곱표\n",
      "\n",
      "제곱할 숫자 : 6\n",
      "1 1\n",
      "2 4\n",
      "3 9\n",
      "4 16\n",
      "5 25\n",
      "6 36\n"
     ]
    }
   ],
   "source": [
    "print('제곱표\\n')\n",
    "leg = int(input('제곱할 숫자 : '))\n",
    "\n",
    "num = 1\n",
    "while num <= leg:\n",
    "    print(num, num**2)\n",
    "    num += 1"
   ]
  },
  {
   "cell_type": "code",
   "execution_count": 32,
   "id": "6cf25920",
   "metadata": {},
   "outputs": [
    {
     "name": "stdout",
     "output_type": "stream",
     "text": [
      "고무공 튀어올름\n",
      "\n",
      "최초 고무공 높이 : 100\n",
      "1 60.0\n",
      "2 36.0\n",
      "3 21.6\n",
      "4 12.96\n",
      "5 7.776\n",
      "6 4.6656\n",
      "7 2.7994\n",
      "8 1.6796\n",
      "9 1.0078\n",
      "10 0.6047\n"
     ]
    }
   ],
   "source": [
    "print('고무공 튀어올름\\n')\n",
    "leg = int(input('최초 고무공 높이 : '))\n",
    "\n",
    "num = 1\n",
    "while num <= 10:\n",
    "    print(num, round(3/5*leg,4))\n",
    "    num += 1\n",
    "    leg *=3/5"
   ]
  },
  {
   "cell_type": "code",
   "execution_count": 33,
   "id": "7bd328b6",
   "metadata": {},
   "outputs": [
    {
     "name": "stdout",
     "output_type": "stream",
     "text": [
      "853\n"
     ]
    }
   ],
   "source": [
    "number = 358\n",
    "\n",
    "rem = rev = 0\n",
    "while number >= 1:\n",
    "    rem = number % 10\n",
    "    rev = rev * 10 + rem\n",
    "    number = number // 10\n",
    "\n",
    "print(rev)\n",
    "-- 1\n",
    "    rem = 8\n",
    "    rev = 8\n",
    "    number = 35\n",
    "-- 2\n",
    "    rem = 5\n",
    "    rev = 85\n",
    "    num = 3\n",
    "-- 3\n",
    "    rem = 3\n",
    "    rev = 853\n",
    "    num = 0"
   ]
  },
  {
   "cell_type": "code",
   "execution_count": 44,
   "id": "ae106d6a",
   "metadata": {},
   "outputs": [
    {
     "name": "stdout",
     "output_type": "stream",
     "text": [
      "값을 입력해 보세요11\n",
      "내가 모르는 숫자임\n"
     ]
    }
   ],
   "source": [
    "max = 10\n",
    "while True:\n",
    "    i = int(input('값을 입력해 보세요'))\n",
    "    if max < i:\n",
    "        print('내가 모르는 숫자임')\n",
    "        break"
   ]
  },
  {
   "cell_type": "code",
   "execution_count": 50,
   "id": "961bcd66",
   "metadata": {},
   "outputs": [
    {
     "name": "stdout",
     "output_type": "stream",
     "text": [
      "숫자를 입력해보세요 : 3\n",
      "삼\n"
     ]
    }
   ],
   "source": [
    "i = int(input('숫자를 입력해보세요 : '))\n",
    "if i == 1:\n",
    "    print('일')\n",
    "elif i == 2:\n",
    "    print('이')\n",
    "else:\n",
    "    print('삼')"
   ]
  },
  {
   "cell_type": "code",
   "execution_count": 56,
   "id": "8d1570d1",
   "metadata": {},
   "outputs": [
    {
     "name": "stdout",
     "output_type": "stream",
     "text": [
      "1\n",
      "1\n"
     ]
    }
   ],
   "source": [
    "num = int(input())\n",
    "result = str(num)\n",
    "    \n",
    "if num >= 1000000:\n",
    "    result = str(num // 1000000) + 'M'\n",
    "elif num >= 1000:\n",
    "    result = str(num // 1000) + 'k'\n",
    "elif num >= 0:\n",
    "    pass    \n",
    "print(result)\n",
    "\n"
   ]
  },
  {
   "cell_type": "code",
   "execution_count": 59,
   "id": "eff9484d",
   "metadata": {},
   "outputs": [
    {
     "name": "stdout",
     "output_type": "stream",
     "text": [
      "더할 숫자를 입력하세요!2\n",
      "더할 숫자를 입력하세요!3\n",
      "더할 숫자를 입력하세요!4\n",
      "더할 숫자를 입력하세요!-1\n",
      "9\n"
     ]
    }
   ],
   "source": [
    "num = 0\n",
    "while True:\n",
    "    i = int(input('더할 숫자를 입력하세요!'))\n",
    "    if(i > 0):\n",
    "        num += i\n",
    "    else:\n",
    "        print(num)\n",
    "        break\n",
    "        "
   ]
  },
  {
   "cell_type": "code",
   "execution_count": 61,
   "id": "0576328a",
   "metadata": {},
   "outputs": [
    {
     "data": {
      "text/plain": [
       "'zzz'"
      ]
     },
     "execution_count": 61,
     "metadata": {},
     "output_type": "execute_result"
    }
   ],
   "source": [
    "def triple(x):\n",
    "    x=x*3\n",
    "    return x\n",
    "\n",
    "\n",
    "triple('z')"
   ]
  },
  {
   "cell_type": "code",
   "execution_count": 77,
   "id": "068049ec",
   "metadata": {},
   "outputs": [
    {
     "data": {
      "text/plain": [
       "26"
      ]
     },
     "execution_count": 77,
     "metadata": {},
     "output_type": "execute_result"
    }
   ],
   "source": [
    "def age(x):\n",
    "    from datetime import datetime\n",
    "    today = datetime.today()\n",
    "    \n",
    "    return today.year - x + 1\n",
    "\n",
    "age(1997)"
   ]
  },
  {
   "cell_type": "code",
   "execution_count": 84,
   "id": "727ef451",
   "metadata": {},
   "outputs": [
    {
     "data": {
      "text/plain": [
       "12093588.412876923"
      ]
     },
     "execution_count": 84,
     "metadata": {},
     "output_type": "execute_result"
    }
   ],
   "source": [
    "def bok(a,n,y):\n",
    "\n",
    "    x = 0\n",
    "    while x < y:\n",
    "        a = a*n + a\n",
    "        x+=1\n",
    "    return a\n",
    "\n",
    "bok(10000000,0.03875,5)"
   ]
  },
  {
   "cell_type": "code",
   "execution_count": 101,
   "id": "75d69ddc",
   "metadata": {},
   "outputs": [
    {
     "name": "stdout",
     "output_type": "stream",
     "text": [
      "True\n"
     ]
    }
   ],
   "source": [
    "def palindrome(x):\n",
    "    x = x.lower()\n",
    "    x = x.replace(' ','')\n",
    "    a = x[::-1]\n",
    "    if x == a:\n",
    "        print('True')\n",
    "    else:\n",
    "        print('False')\n",
    "        \n",
    "palindrome('abc bA')"
   ]
  },
  {
   "cell_type": "code",
   "execution_count": 107,
   "id": "24eb4111",
   "metadata": {},
   "outputs": [
    {
     "data": {
      "text/plain": [
       "28"
      ]
     },
     "execution_count": 107,
     "metadata": {},
     "output_type": "execute_result"
    }
   ],
   "source": [
    "def sumOfDigits(x):\n",
    "    y = list(str(x))\n",
    "    j = 0\n",
    "    for i in y:\n",
    "        j += int(i)\n",
    "    return j\n",
    "\n",
    "sumOfDigits(1234567)"
   ]
  },
  {
   "cell_type": "code",
   "execution_count": 129,
   "id": "0bfd5714",
   "metadata": {},
   "outputs": [
    {
     "data": {
      "text/plain": [
       "[[0, 0, 2, 4, 7, 7, 9], [1, 1, 3, 8], [0]]"
      ]
     },
     "execution_count": 129,
     "metadata": {},
     "output_type": "execute_result"
    }
   ],
   "source": [
    "score = [0, 0, 2, 4, 7, 7, 9]\n",
    "score += [11, 11, 13, 18]\n",
    "score += [20]\n",
    "\n",
    "stem_leaf = [[], [], []]\n",
    "\n",
    "for i in score:\n",
    "    if i // 10 == 0:\n",
    "        stem_leaf[0].append(i)\n",
    "    elif i // 10 == 1:\n",
    "        stem_leaf[1].append(i%10)\n",
    "    else:\n",
    "        stem_leaf[2].append(i%10)\n",
    "\n",
    "stem_leaf"
   ]
  },
  {
   "cell_type": "code",
   "execution_count": 131,
   "id": "dd2e591d",
   "metadata": {},
   "outputs": [
    {
     "data": {
      "text/plain": [
       "17"
      ]
     },
     "execution_count": 131,
     "metadata": {},
     "output_type": "execute_result"
    }
   ],
   "source": [
    "def sumOfDigits(num):\n",
    "    i = map(int, list(str(num)))\n",
    "    return sum(i)\n",
    "\n",
    "sumOfDigits(123542)"
   ]
  },
  {
   "cell_type": "code",
   "execution_count": 134,
   "id": "758885ea",
   "metadata": {},
   "outputs": [
    {
     "data": {
      "text/plain": [
       "[2, 3, 5, 7, 11, 13, 17, 19, 23, 29]"
      ]
     },
     "execution_count": 134,
     "metadata": {},
     "output_type": "execute_result"
    }
   ],
   "source": [
    "L = list(range(2,30))\n",
    "sosoo = []\n",
    "\n",
    "for i in L:\n",
    "    k = 0\n",
    "    for j in range(1,i+1): \n",
    "        if i%j == 0:\n",
    "            k += 1\n",
    "    if k == 2:\n",
    "        sosoo.append(i)\n",
    "        \n",
    "sosoo\n",
    "\n"
   ]
  },
  {
   "cell_type": "code",
   "execution_count": 135,
   "id": "d9c03afb",
   "metadata": {},
   "outputs": [
    {
     "name": "stdout",
     "output_type": "stream",
     "text": [
      "값을 입력하시오 : 10\n"
     ]
    },
    {
     "data": {
      "text/plain": [
       "[1, 0, 1, 0]"
      ]
     },
     "execution_count": 135,
     "metadata": {},
     "output_type": "execute_result"
    }
   ],
   "source": [
    "d = int(input('값을 입력하시오 : '))\n",
    "m = d\n",
    "b = []\n",
    "while True:\n",
    "    d, m = divmod(d, 2)\n",
    "    b.insert(0, m)\n",
    "    if d == 0:\n",
    "        break\n",
    "b"
   ]
  },
  {
   "cell_type": "code",
   "execution_count": 136,
   "id": "e8de7451",
   "metadata": {},
   "outputs": [
    {
     "name": "stdout",
     "output_type": "stream",
     "text": [
      "2022 12 31\n",
      "12/31/2022\n",
      "01/01/2023\n"
     ]
    }
   ],
   "source": [
    "def read_date():\n",
    "    year, month, day = tuple(map(int, input().split()))\n",
    "    return year, month, day\n",
    "\n",
    "def print_date(date):\n",
    "    year, month, day = date\n",
    "    print(\"%02d/%02d/%04d\" % (month, day, year))\n",
    "\n",
    "def advance_day(date):\n",
    "    year, month, day = date\n",
    "    \n",
    "    # end_of_month = (month == 1 and day == 31) or \\\n",
    "               # (month == 2 and day == 28) or \\\n",
    "               # (month == 3 and day == 31) or \\\n",
    "               # (month == 4 and day == 30) or \\\n",
    "               # (month == 5 and day == 31) or \\\n",
    "               # (month == 6 and day == 30) or \\\n",
    "               # (month == 7 and day == 31) or \\\n",
    "               # (month == 8 and day == 31) or \\\n",
    "               # (month == 9 and day == 30) or \\\n",
    "               # (month == 10 and day == 31) or \\\n",
    "               # (month == 11 and day == 30) or \\\n",
    "               # (month == 12 and day == 31)\n",
    "    \n",
    "    #end_of_month = (month in [1, 3, 5, 7, 8, 10, 12] and day == 31) or \\\n",
    "    #                     (month in [4, 6, 9, 11] and day == 30) or \\\n",
    "    #                     (month == 2 and day == 28)\n",
    "    \n",
    "    end_of_month = (month, day) in [(1, 31), (2, 28), (3, 31), (4, 30), (5,\n",
    "        31), (6, 30), (7, 31), (8, 31), (9, 30), (10, 31), (11, 30), (12, 31)]\n",
    "    \n",
    "    end_of_year = month == 12 and day == 31\n",
    "    \n",
    "    if end_of_month:\n",
    "        if end_of_year:\n",
    "            year += 1\n",
    "            month = 1\n",
    "            day = 1\n",
    "        else:\n",
    "            month += 1\n",
    "            day = 1\n",
    "    else:\n",
    "        day += 1\n",
    "    \n",
    "    return year, month, day\n",
    "    \n",
    "if __name__ == \"__main__\":\n",
    "    today = read_date()\n",
    "    print_date(today)\n",
    "    tomorrow = advance_day(today)\n",
    "    print_date(tomorrow)\n",
    "    "
   ]
  },
  {
   "cell_type": "code",
   "execution_count": 139,
   "id": "bbed586a",
   "metadata": {},
   "outputs": [
    {
     "data": {
      "text/plain": [
       "'삼'"
      ]
     },
     "execution_count": 139,
     "metadata": {},
     "output_type": "execute_result"
    }
   ],
   "source": [
    "def korean_number(a):\n",
    "    googoo = {3:'삼', 6:'육', 9:'구'}\n",
    "    return googoo[a]\n",
    "\n",
    "korean_number(3)"
   ]
  },
  {
   "cell_type": "code",
   "execution_count": null,
   "id": "f0d827e6",
   "metadata": {},
   "outputs": [],
   "source": []
  }
 ],
 "metadata": {
  "kernelspec": {
   "display_name": "Python 3 (ipykernel)",
   "language": "python",
   "name": "python3"
  },
  "language_info": {
   "codemirror_mode": {
    "name": "ipython",
    "version": 3
   },
   "file_extension": ".py",
   "mimetype": "text/x-python",
   "name": "python",
   "nbconvert_exporter": "python",
   "pygments_lexer": "ipython3",
   "version": "3.9.7"
  }
 },
 "nbformat": 4,
 "nbformat_minor": 5
}
